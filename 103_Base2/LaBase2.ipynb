{
 "cells": [
  {
   "cell_type": "markdown",
   "metadata": {},
   "source": [
    "# <center>La base 2</center>"
   ]
  },
  {
   "cell_type": "markdown",
   "metadata": {},
   "source": [
    "<img src=\"bit.jpg\" width=\"600\">"
   ]
  },
  {
   "cell_type": "markdown",
   "metadata": {},
   "source": [
    "  Les ordinateurs et autres systèmes numériques sont composés de milliards de transistors qui ne connaissent que 2 états : bloquer le signal électrique ou le laisser passer. \n",
    "Ces 2 états peuvent être respectivement représentés par les valeurs numériques ```0``` et ```1```. Une telle valeur s'appelle un $bit$ (contraction de \"binary digit\").\n",
    "A condition d'avoir suffisamment de $bits$, on peut par exemple représenter les entiers naturels positifs à l'aide de ces 2 chiffres, c'est à dire en base 2."
   ]
  },
  {
   "cell_type": "markdown",
   "metadata": {},
   "source": [
    "## 1. La représentation des entiers naturels"
   ]
  },
  {
   "cell_type": "markdown",
   "metadata": {},
   "source": [
    "  Depuis le Moyen Âge, on écrit les entiers naturels en base 10, c'est à dire en utilisant dix chiffres: 0, 1, 2, 3, 4, 5, 6, 7, 8, 9 et en effectuant des regroupements par 10 puis par 100, puis par 1000...C'est à dire par puissances de 10.\n",
    "  \n",
    "  C'est la position du chiffre qui indique sa valeur."
   ]
  },
  {
   "cell_type": "markdown",
   "metadata": {},
   "source": [
    "### Exemple"
   ]
  },
  {
   "cell_type": "markdown",
   "metadata": {},
   "source": [
    "<img style=\"float: left;\" src=\"10+3.jpg\" width=\"200\">\n",
    "Pour représenter le nombre de points noirs ci-contre, on peut en regrouper une dizaine et il en reste trois. Le nombre de points est donc $1\\times10+3$, c'est à dire 13."
   ]
  },
  {
   "cell_type": "markdown",
   "metadata": {},
   "source": [
    "### Exercice 1"
   ]
  },
  {
   "cell_type": "markdown",
   "metadata": {},
   "source": [
    "<img style=\"float: left;\" src=\"100+20+5.jpg\" width=\"200\"> Combien de points ?\n"
   ]
  },
  {
   "cell_type": "markdown",
   "metadata": {},
   "source": [
    "Réponse : \n",
    "\n",
    "\n",
    "\n"
   ]
  },
  {
   "cell_type": "markdown",
   "metadata": {},
   "source": [
    "## 2. En base 2"
   ]
  },
  {
   "cell_type": "markdown",
   "metadata": {},
   "source": [
    "L'écriture d'un nombre en base 2 se fait avec les chiffres ```0``` et ```1```. Les regroupements s'effectuent par puissances de deux: d'abord par 2 puis par 4, puis par 8...\n",
    "\n",
    "La position du chiffre indique sa valeur."
   ]
  },
  {
   "cell_type": "markdown",
   "metadata": {},
   "source": [
    "### Premiers Exemples"
   ]
  },
  {
   "cell_type": "markdown",
   "metadata": {},
   "source": [
    "<img style=\"float: center;\" src=\"1234.jpg\"  width = 400> "
   ]
  },
  {
   "cell_type": "markdown",
   "metadata": {},
   "source": [
    " &nbsp;  &nbsp;  &nbsp;  &nbsp;  &nbsp;  &nbsp;  &nbsp;  &nbsp;  &nbsp;  &nbsp;  &nbsp;  &nbsp;  &nbsp;  &nbsp;  &nbsp;  &nbsp;  &nbsp;  &nbsp;  &nbsp;  &nbsp;  &nbsp;   &nbsp;   &nbsp;   &nbsp;   &nbsp;&nbsp;   &nbsp;   &nbsp;   &nbsp;   &nbsp;&nbsp;   &nbsp;   &nbsp;   &nbsp;   &nbsp;&nbsp;   &nbsp;   &nbsp;   &nbsp;   &nbsp;`1` &nbsp;   &nbsp;   &nbsp;   &nbsp;   &nbsp;  &nbsp;   &nbsp;   &nbsp;   &nbsp;   &nbsp;`10`&nbsp;   &nbsp;   &nbsp;   &nbsp;   &nbsp;  &nbsp;   &nbsp;   &nbsp;   &nbsp;   &nbsp;`11`&nbsp;   &nbsp;   &nbsp;   &nbsp;   &nbsp;  &nbsp;   &nbsp;   &nbsp;   &nbsp;   &nbsp;`100`"
   ]
  },
  {
   "cell_type": "markdown",
   "metadata": {},
   "source": [
    "```1``` : une unité\n",
    "\n",
    "```10```: un paquet de deux(une \"deuxaine\") + zéro unité\n",
    "\n",
    "```11```: un paquet de deux + une unité\n",
    "\n",
    "```100```:un paquet de quatre(une \"quatraine\") + zéro paquets de deux + zéro unités\n"
   ]
  },
  {
   "cell_type": "markdown",
   "metadata": {},
   "source": [
    "### Exercice 2"
   ]
  },
  {
   "cell_type": "markdown",
   "metadata": {},
   "source": [
    "Ecrire sous l'image la représentation en base 2 de ces collections(on pourra s'aider d'un dessin) :"
   ]
  },
  {
   "cell_type": "markdown",
   "metadata": {},
   "source": [
    "<img style=\"float: center;\" src=\"5678.jpg\"  width = 400> "
   ]
  },
  {
   "cell_type": "markdown",
   "metadata": {},
   "source": [
    "Réponse :\n",
    "\n",
    "\n",
    "\n"
   ]
  },
  {
   "cell_type": "markdown",
   "metadata": {},
   "source": [
    "Remarque : \n",
    "\n",
    "On peut représenter un nombre dans n'importe quelle base. En informatique, on utilise principalement les bases 10, 16,8 et 2.\n",
    "Lorqu'il s'agit de représenter des nombres plus grands que ceux présentés ci-dessus, cela devient vite fastidieux. Il existe bien sûr des méthodes pour passer d'une réprésentation à une autre."
   ]
  },
  {
   "cell_type": "markdown",
   "metadata": {},
   "source": [
    "## 3. De la base 10 vers la base 2"
   ]
  },
  {
   "cell_type": "markdown",
   "metadata": {},
   "source": [
    "### Méthode :"
   ]
  },
  {
   "cell_type": "markdown",
   "metadata": {},
   "source": [
    "- On écrit le nombre en base 10.\n",
    "- On le divise par 2 et on note le reste de la division euclidienne (soit ```1``` soit ```0```)\n",
    "- On refait la même chose avec le quotient précédent, et on met de nouveau le reste de côté.\n",
    "- On réitère la division, jusqu'à ce que le quotient soit ```0```.\n",
    "- Le nombre en base 2 se lit à l'aide des restes en commençant par celui de la dernière opération effectuée."
   ]
  },
  {
   "cell_type": "markdown",
   "metadata": {},
   "source": [
    "### Exemple : Conversion de 125 en base 2"
   ]
  },
  {
   "cell_type": "markdown",
   "metadata": {},
   "source": [
    "- $125=2\\times62+$```1```\n",
    "\n",
    "- $62=2\\times31+$```0```\n",
    "\n",
    "- $31=2\\times15+$```1```\n",
    "\n",
    "- $15=2\\times7+$```1```\n",
    "\n",
    "- $7=2\\times3+$```1```\n",
    "\n",
    "- $3=2\\times1+$```1```\n",
    "\n",
    "- $1=2\\times0+$```1```\n",
    "\n",
    "Le nombre 125 s'écrit ```1111101```en base 2"
   ]
  },
  {
   "cell_type": "markdown",
   "metadata": {},
   "source": [
    "### Exercice 3"
   ]
  },
  {
   "cell_type": "markdown",
   "metadata": {},
   "source": [
    "Convertir le nombre 42 en base 2"
   ]
  },
  {
   "cell_type": "markdown",
   "metadata": {},
   "source": [
    "Réponse :\n",
    "\n",
    "\n",
    "\n",
    "\n",
    "\n",
    "\n"
   ]
  },
  {
   "cell_type": "markdown",
   "metadata": {},
   "source": [
    "Remarque :\n",
    "\n",
    " - La première division que l'on effectue nous indique s'il reste ou pas une unité que l'on ne peut pas regrouper par 2, c'est bien le dernier chiffre du nombre en base 2.\n"
   ]
  },
  {
   "cell_type": "markdown",
   "metadata": {},
   "source": [
    "## 4. De la base 2 vers la base 10"
   ]
  },
  {
   "cell_type": "markdown",
   "metadata": {},
   "source": [
    "Quelque soit la base, la position du chiffre indique sa valeur.\n",
    "\n",
    "Ecrit en base 10, le nombre 125 se décompose comme suit  :$1\\times10²+2\\times10+5$.\n",
    "\n",
    "Il en va de même en base 2, avec les puissances de 2. Ainsi, pour retrouver l'écriture en base 10 du  nombre ```101010```, on décompose comme suit : \n",
    "\n",
    "$1\\times2^{5}+0\\times2^{4}+1\\times2^{3}+0\\times2^{2}+1\\times2^{1}+0\\times2^{0}=32+0+8+0+2+0=42$\n"
   ]
  },
  {
   "cell_type": "markdown",
   "metadata": {},
   "source": [
    "### Exercice 4"
   ]
  },
  {
   "cell_type": "markdown",
   "metadata": {},
   "source": [
    "Donner l'écriture en base 10 des nombres :\n",
    "- ```10110```   \n",
    "- ```1111111``` "
   ]
  },
  {
   "cell_type": "markdown",
   "metadata": {},
   "source": [
    "Réponses :\n",
    "\n",
    "\n",
    "\n",
    "\n",
    "\n",
    "\n",
    "\n",
    "\n"
   ]
  },
  {
   "cell_type": "markdown",
   "metadata": {},
   "source": [
    "Remarques :\n",
    "- Il est pertinent de connaître par coeur les premières puissances de 2, elles donnent de bons repères.\n",
    "- Le nombre 0 est écrit ```0``` en base 2, mais en informatique, il est important de connaître le nombre de bits avec lequel on travaille. Ainsi sur 8 bits le nombre 0 peut être écrit ```00000000```. Les ```0``` au début de la représentation ne sont pas si inutiles que cela."
   ]
  },
  {
   "cell_type": "markdown",
   "metadata": {},
   "source": [
    "## 5. A vous de jouer !"
   ]
  },
  {
   "cell_type": "markdown",
   "metadata": {},
   "source": [
    "Les exercices ci-après ont pour objectif de manipuler cette nouvelle base en utilisant les méthodes présentées ci-dessus mais aussi de donner quelques repères et représentations mentales qui permettent d'éviter le recours systématique à ces méthodes.\n",
    "De plus, on pourra tester ou vérifier les résultats avec les instructions pythons ci-dessous :"
   ]
  },
  {
   "cell_type": "code",
   "execution_count": 1,
   "metadata": {},
   "outputs": [
    {
     "data": {
      "text/plain": [
       "'0b101010'"
      ]
     },
     "execution_count": 1,
     "metadata": {},
     "output_type": "execute_result"
    }
   ],
   "source": [
    "#Exécuter ce code\n",
    "#Représentation d'un entier naturel en écriture binaire.\n",
    "#les caractères '0b' renvoyés par python sont à ignorer dans la lecture du nombre.\n",
    "#Remplacer 42 par l'entier de votre choix et exécuter la cellule.\n",
    "bin(42)"
   ]
  },
  {
   "cell_type": "code",
   "execution_count": 2,
   "metadata": {},
   "outputs": [
    {
     "data": {
      "text/plain": [
       "42"
      ]
     },
     "execution_count": 2,
     "metadata": {},
     "output_type": "execute_result"
    }
   ],
   "source": [
    "#Exécuter ce code\n",
    "#La fonction int renvoie un entier écrit en base 10\n",
    "#Paramètres : \n",
    "#la représentation du nombre à convertir sous forme de chaîne de caractères\n",
    "#La base dans laquelle est représentée le nombre à convertir\n",
    "#Remplacer la chaîne de caractères par une autre et éxécuter la cellule\n",
    "int('0b101010',2)  "
   ]
  },
  {
   "cell_type": "markdown",
   "metadata": {},
   "source": [
    "### Exercice 5:"
   ]
  },
  {
   "cell_type": "markdown",
   "metadata": {},
   "source": [
    "Donner la représentation en base 2 des nombres 11 et 1000."
   ]
  },
  {
   "cell_type": "markdown",
   "metadata": {},
   "source": [
    "Réponses :\n",
    "\n",
    "\n",
    "\n",
    "\n",
    "\n",
    "\n",
    "\n",
    "\n",
    "\n"
   ]
  },
  {
   "cell_type": "markdown",
   "metadata": {},
   "source": [
    "### Exercice 6:"
   ]
  },
  {
   "cell_type": "markdown",
   "metadata": {},
   "source": [
    "1. Donner les représentations en base 2 des nombres 1,3,7,15,31 et 63.\n",
    "2. Expliquer le résultat.\n",
    "3. En déduire les représentations en base 2 des nombres 2,4,8,16,32 et 64."
   ]
  },
  {
   "cell_type": "markdown",
   "metadata": {},
   "source": [
    "Réponses :\n",
    "\n",
    "\n",
    "\n",
    "\n",
    "\n",
    "\n",
    "\n",
    "\n",
    "\n"
   ]
  },
  {
   "cell_type": "markdown",
   "metadata": {},
   "source": [
    "### Exercice 7:"
   ]
  },
  {
   "cell_type": "markdown",
   "metadata": {},
   "source": [
    "Donner la représentation en base 10 du nombre ```10010110```"
   ]
  },
  {
   "cell_type": "markdown",
   "metadata": {},
   "source": [
    "Réponse :\n",
    "\n",
    "\n",
    "\n",
    "\n",
    "\n",
    "\n",
    "\n",
    "\n",
    "\n"
   ]
  },
  {
   "cell_type": "markdown",
   "metadata": {},
   "source": [
    "### Exercice 8:"
   ]
  },
  {
   "cell_type": "markdown",
   "metadata": {},
   "source": [
    "Quels sont les entiers naturels que l'on peut représenter avec :\n",
    "1. 3 bits ? \n",
    "2. 4 bits ? \n",
    "3. 8 bits ?\n",
    "4. Avec $n$ bits ?\n",
    "5. Avec 16 bits ?\n",
    "6. Avec 32 bits ?\n",
    "7. Avec 64 bits ?"
   ]
  },
  {
   "cell_type": "markdown",
   "metadata": {},
   "source": [
    "Réponses :\n",
    "\n",
    "\n",
    "\n",
    "\n",
    "\n",
    "\n",
    "\n",
    "\n",
    "\n"
   ]
  },
  {
   "cell_type": "markdown",
   "metadata": {},
   "source": [
    "### Exercice 9:"
   ]
  },
  {
   "cell_type": "markdown",
   "metadata": {},
   "source": [
    "1. Représenter en base 2 les nombres entiers 3 , 6 et 12 . \n",
    "2. Expliquer le résultat.\n",
    "3. Le nombre 5 s'écrit `101`en base 2. En déduire l'écriture du nombre 20 en base 2."
   ]
  },
  {
   "cell_type": "markdown",
   "metadata": {},
   "source": [
    "Réponses :\n",
    "\n",
    "\n",
    "\n",
    "\n",
    "\n",
    "\n",
    "\n",
    "\n",
    "\n"
   ]
  },
  {
   "cell_type": "markdown",
   "metadata": {},
   "source": [
    "### Exercice 10:"
   ]
  },
  {
   "cell_type": "markdown",
   "metadata": {},
   "source": [
    "Une autre méthode de conversion : On peut remarquer que 13 = 8 + 4 + 2, ou encore que 41 = 32 + 8 + 1.\n",
    "\n",
    "1. Décomposer le nombre 60 en somme de puissances de 2\n",
    "2. En déduire la représentation binaire de ce nombre.\n",
    "3. Cette méthode fonctionne-t-elle pour tous les entiers ?"
   ]
  },
  {
   "cell_type": "markdown",
   "metadata": {},
   "source": [
    "Réponses :\n",
    "\n",
    "\n",
    "\n",
    "\n",
    "\n",
    "\n",
    "\n",
    "\n",
    "\n"
   ]
  },
  {
   "cell_type": "markdown",
   "metadata": {},
   "source": [
    "### Exercice 11:"
   ]
  },
  {
   "cell_type": "markdown",
   "metadata": {},
   "source": [
    "Dans cet exercice, on travaille sur 8 bits.\n",
    "Partie A :\n",
    "\n",
    "1. Quel est le plus grand nombre que l'on représenter ?\n",
    "2. Représenter le nombre 57 en base 2.\n",
    "3. Représenter le nombre 198 en base 2.\n",
    "4. Que remarque-t-on ?\n",
    "5. Expliquer ce résultat\n",
    "\n",
    "Partie B :\n",
    "1. Représenter le nombre ```10000110```en base 10.\n",
    "2. En utilisant la propriété de la partie A, en déduire la représentation en base 10 du nombre ```01111001```"
   ]
  },
  {
   "cell_type": "markdown",
   "metadata": {},
   "source": [
    "Réponses :\n",
    "\n",
    "\n",
    "\n",
    "\n",
    "\n",
    "\n",
    "\n",
    "\n",
    "\n",
    "\n",
    "\n",
    "\n",
    "\n",
    "\n",
    "\n",
    "\n",
    "\n",
    "\n",
    "\n"
   ]
  },
  {
   "cell_type": "markdown",
   "metadata": {},
   "source": [
    "### Exercice 12 : Sur le disque de Voyager, sont gravés des nombres représentés en base 2. Les retrouver et, après documentation, expliquer leur signification."
   ]
  },
  {
   "cell_type": "markdown",
   "metadata": {},
   "source": [
    "<img style=\"float: left;\" src=\"voyager.jpg\"  width = 300> Le disque de Voyager (ou Voyager Golden Record) est un disque embarqué dans les deux sondes spatiales Voyager, lancées en 1977, servant de « bouteille à la mer interstellaire » destinée à d'éventuels êtres extraterrestres.\n",
    "\n",
    "D'un diamètre de 30 centimètres, il comprend de nombreuses informations sur la Terre et ses habitants, sous forme d'images et de sons, dressant un portrait de la diversité de la vie et de la culture terrestre : photographies de la terre, d'humains, de la nature, enregistrements sonores de bruits du vent, du tonnerre, d'animaux, de cris de nourrisson, d'extraits de textes littéraires et de musique classique et moderne.\n",
    "\n",
    "Le disque est accompagné du stylet permettant sa lecture, et d'une source d'uranium 238 (choisi pour sa période radioactive de l'ordre de 4,5 milliards d'années) permettant de déterminer le temps écoulé depuis le lancement.\n",
    "\n",
    "La NASA estime que le disque (et la sonde elle-même) survivront plus longtemps que la Terre et le Soleil.\n",
    "\n"
   ]
  },
  {
   "cell_type": "markdown",
   "metadata": {},
   "source": [
    "Réponses :\n",
    "\n",
    "\n",
    "\n",
    "\n",
    "\n",
    "\n",
    "\n",
    "\n",
    "\n",
    "\n",
    "\n",
    "\n",
    "\n",
    "\n",
    "\n",
    "\n",
    "\n",
    "\n",
    "\n"
   ]
  },
  {
   "cell_type": "markdown",
   "metadata": {},
   "source": [
    "### En savoir plus sur les bases ? :\n",
    "\n",
    "https://fr.khanacademy.org/math/algebra-home/alg-intro-to-algebra/algebra-alternate-number-bases/v/number-systems-introduction\n",
    "\n"
   ]
  },
  {
   "cell_type": "markdown",
   "metadata": {},
   "source": [
    "# <center>FIN</center>"
   ]
  },
  {
   "cell_type": "markdown",
   "metadata": {},
   "source": [
    "<a href=https://xkcd.com/74/><img style=\"float: center;\" src=\"https://imgs.xkcd.com/comics/su_doku.jpg\"  width = 200></a>"
   ]
  }
 ],
 "metadata": {
  "kernelspec": {
   "display_name": "Python 3",
   "language": "python",
   "name": "python3"
  },
  "language_info": {
   "codemirror_mode": {
    "name": "ipython",
    "version": 3
   },
   "file_extension": ".py",
   "mimetype": "text/x-python",
   "name": "python",
   "nbconvert_exporter": "python",
   "pygments_lexer": "ipython3",
   "version": "3.7.3"
  }
 },
 "nbformat": 4,
 "nbformat_minor": 2
}
