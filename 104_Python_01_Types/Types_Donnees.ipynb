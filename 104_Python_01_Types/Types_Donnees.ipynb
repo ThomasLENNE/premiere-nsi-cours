{
 "cells": [
  {
   "cell_type": "markdown",
   "metadata": {},
   "source": [
    "# <center> Types de données </center>"
   ]
  },
  {
   "cell_type": "code",
   "execution_count": null,
   "metadata": {},
   "outputs": [],
   "source": [
    "#Exécuter le code ci-dessous :\n",
    "a,b,c,d,e = -42,3.14,'hello there', [2,4,6,8], 3<4\n",
    "print(a,type(a))\n",
    "print(b,type(b))\n",
    "print(c,type(c))\n",
    "print(d,type(d))\n",
    "print(e, type(e))"
   ]
  },
  {
   "cell_type": "markdown",
   "metadata": {},
   "source": [
    " Nous avons déjà manipulé des données de différents types : des nombres entiers ou réels, des chaînes de caractères et des listes ou encore des booléens. Examinons d'un peu plus près ces types de données."
   ]
  },
  {
   "cell_type": "markdown",
   "metadata": {},
   "source": [
    "## 1. Les données numériques"
   ]
  },
  {
   "cell_type": "markdown",
   "metadata": {},
   "source": [
    "### Le type integer (entier)"
   ]
  },
  {
   "cell_type": "code",
   "execution_count": null,
   "metadata": {},
   "outputs": [],
   "source": [
    "n = 5\n",
    "a,b,c = 3,2,1\n",
    "while c < n :\n",
    "    print( c , \": \", b)\n",
    "    a , b = b , a * b\n",
    "    c = c + 1"
   ]
  },
  {
   "cell_type": "markdown",
   "metadata": {},
   "source": [
    "#### Exercice 1 :\n",
    "\n",
    "1. Exécuter le code ci-dessus. Que fait ce programme ? \n",
    "2. Exécuter le code avec $n = 15$, puis $n=20$, puis $n=30$, puis $n=45$. Que constate-t-on ?"
   ]
  },
  {
   "cell_type": "markdown",
   "metadata": {},
   "source": [
    "Réponses : \n",
    "\n",
    " "
   ]
  },
  {
   "cell_type": "markdown",
   "metadata": {},
   "source": [
    "#### A retenir :\n",
    "\n",
    "   On peut considérer que Python est capable de traiter des entiers de taille illimitée, la limite est celle de la taille de la mémoire disponible dans l'ordinateur.\n",
    "   Plus précisément, les entiers sont codés sur $32$ bits lorsque leur taille le permet. Les très grands entiers occupent une place variable, en fonction de leur taille."
   ]
  },
  {
   "cell_type": "markdown",
   "metadata": {},
   "source": [
    "### Le type float (nombre réel)"
   ]
  },
  {
   "cell_type": "code",
   "execution_count": null,
   "metadata": {},
   "outputs": [],
   "source": [
    "n = 45\n",
    "a,b,c = 3.0 , 2.0 , 1\n",
    "while c < n :\n",
    "    print( c , \": \", b)\n",
    "    a , b = b , a * b\n",
    "    c = c + 1"
   ]
  },
  {
   "cell_type": "markdown",
   "metadata": {},
   "source": [
    "#### Exercice 2:\n",
    "1. Qu'a-t-on modifié dans le code ci-dessus par rapport au programme précédent ?\n",
    "2. Exécuter le code. Que remarque-t-on ? \n",
    "3. Remplacer `a*b` par `a/b` . Que constate-t-on ?"
   ]
  },
  {
   "cell_type": "markdown",
   "metadata": {},
   "source": [
    "Réponses : \n"
   ]
  },
  {
   "cell_type": "markdown",
   "metadata": {},
   "source": [
    "#### A retenir :\n",
    "\n",
    "   Le type de valeur `float` permet le calcul sur de très grands nombres ou de très petits nombres avec un degré de précision constant. Mais ce degré de précision indique donc que l'on travaille parfois avec des valeurs approchées, ce qui peut poser des problèmes dans les programmes.\n",
    "   Plus précisément, ces nombres sont codés sur $64$ bits ($8$ octets) dans la mémoire de la machine : une partie du code correspond aux chiffres significatifs, l'autre à l'ordre de grandeur (puissance de $10$)"
   ]
  },
  {
   "cell_type": "markdown",
   "metadata": {},
   "source": [
    "## 2. Les chaînes de caractères"
   ]
  },
  {
   "cell_type": "markdown",
   "metadata": {},
   "source": [
    "La plupart des langages de programmation sont aussi capables de manipuler des caractères alphabétiques, des mots, des phrases ou des suites de symboles quelconques. Il existe pour ce type de valeurs des structures de données appelés les chaînes de caractères, en anglais `string`."
   ]
  },
  {
   "cell_type": "markdown",
   "metadata": {},
   "source": [
    "### Le type string"
   ]
  },
  {
   "cell_type": "markdown",
   "metadata": {},
   "source": [
    "Dans un script python, on peut délimiter suite de caractères, soit par des apostrophes (simple quotes), soit par des guillemets (double quotes). Exemples :"
   ]
  },
  {
   "cell_type": "code",
   "execution_count": null,
   "metadata": {},
   "outputs": [],
   "source": [
    "#Exécuter le code ci-dessous :\n",
    "phrase1 = 'la musique.'\n",
    "phrase2 = '\"Oui\", dit-il,'\n",
    "phrase3 = \"j'adore\"\n",
    "\n",
    "print(phrase2, phrase3, phrase1)\n",
    "print(type(phrase1),type(phrase2),type(phrase3))"
   ]
  },
  {
   "cell_type": "markdown",
   "metadata": {},
   "source": [
    "Remarques :\n",
    " * On peut utiliser les apostrophes pour délimiter une chaîne qui contient des guillemets (phrase 2)\n",
    " * On peut utiliser les guillemets pour délimiter une chaîne qui contient des apostrophes (phrase 3)"
   ]
  },
  {
   "cell_type": "markdown",
   "metadata": {},
   "source": [
    "### Accéder au caractères individuels"
   ]
  },
  {
   "cell_type": "markdown",
   "metadata": {},
   "source": [
    "Python considère qu’une chaîne de caractères est une collection ordonnée d’éléments. Cela signifie que les caractères d’une chaîne sont toujours disposés dans un certain ordre. Par conséquent, chaque caractère de la chaîne peut être désigné par sa place dans la séquence, à l’aide d’un index. Pour accéder à un caractère bien déterminé, on utilise le nom de la variable qui contient la chaîne et\n",
    "on lui accole, entre deux crochets, l’index numérique qui correspond à la position du caractère dans la chaîne.\n",
    "\n",
    "#### Exercice 3 :"
   ]
  },
  {
   "cell_type": "code",
   "execution_count": null,
   "metadata": {},
   "outputs": [],
   "source": [
    "#Exécuter le code ci-dessous :\n",
    "nom = 'Hendrix'\n",
    "print(nom[1])"
   ]
  },
  {
   "cell_type": "markdown",
   "metadata": {},
   "source": [
    "Modifier la deuxième ligne du programme ci-dessus pour afficher :\n",
    " 1. La lettre 'H'.\n",
    " 2. La lettre 'x'."
   ]
  },
  {
   "cell_type": "code",
   "execution_count": null,
   "metadata": {},
   "outputs": [],
   "source": [
    "# Réponses :\n"
   ]
  },
  {
   "cell_type": "markdown",
   "metadata": {},
   "source": [
    "#### A retenir :\n",
    "Les données informatiques sont presque toujours numérotées à partir de zéro (et non à partir de un) !\n",
    "C’est le cas pour les caractères d’une chaîne.\n",
    "    "
   ]
  },
  {
   "cell_type": "markdown",
   "metadata": {},
   "source": [
    "### Opérations élémentaires sur les chaînes."
   ]
  },
  {
   "cell_type": "markdown",
   "metadata": {},
   "source": [
    "#### Concaténation"
   ]
  },
  {
   "cell_type": "markdown",
   "metadata": {},
   "source": [
    "##### Exercice 4 : Exécuter ce code. Que fait l'opérateur `+` ?"
   ]
  },
  {
   "cell_type": "code",
   "execution_count": 1,
   "metadata": {},
   "outputs": [
    {
     "name": "stdout",
     "output_type": "stream",
     "text": [
      "MAESTRO\n",
      "STROMAE\n"
     ]
    }
   ],
   "source": [
    "a = 'MAE'\n",
    "b = 'STRO'\n",
    "c = a + b\n",
    "print(c)\n",
    "d = b + a\n",
    "print(d)"
   ]
  },
  {
   "cell_type": "markdown",
   "metadata": {},
   "source": [
    "Réponse :\n",
    "\n",
    "\n"
   ]
  },
  {
   "cell_type": "markdown",
   "metadata": {},
   "source": [
    "#### Longueur d'une chaîne"
   ]
  },
  {
   "cell_type": "markdown",
   "metadata": {},
   "source": [
    "##### Exercice 5 :  Exécuter ce code. Que fait la fonction `len`  ?"
   ]
  },
  {
   "cell_type": "code",
   "execution_count": null,
   "metadata": {},
   "outputs": [],
   "source": [
    "mot = 'anticonstitutionnellement'\n",
    "print(len(mot))"
   ]
  },
  {
   "cell_type": "markdown",
   "metadata": {},
   "source": [
    "Réponse :\n",
    "\n"
   ]
  },
  {
   "cell_type": "markdown",
   "metadata": {},
   "source": [
    "#### Conversion"
   ]
  },
  {
   "cell_type": "markdown",
   "metadata": {},
   "source": [
    "##### Exercice 6 : Exécuter le code ci-dessous :"
   ]
  },
  {
   "cell_type": "code",
   "execution_count": null,
   "metadata": {},
   "outputs": [],
   "source": [
    "mdp = '1234'\n",
    "# mdp = int(mdp)\n",
    "print(10*mdp)\n",
    "print(10*mdp+5)\n"
   ]
  },
  {
   "cell_type": "markdown",
   "metadata": {},
   "source": [
    "Questions :\n",
    "1. Expliquer le message obtenu.\n",
    "2. Décommenter la troisième ligne. Que fait la fonction `int` ?"
   ]
  },
  {
   "cell_type": "markdown",
   "metadata": {},
   "source": [
    "Réponses :\n",
    "   \n",
    "   \n",
    "   "
   ]
  },
  {
   "cell_type": "markdown",
   "metadata": {},
   "source": [
    "## 3. Les tableaux indexés"
   ]
  },
  {
   "cell_type": "markdown",
   "metadata": {},
   "source": [
    "### Le type list"
   ]
  },
  {
   "cell_type": "markdown",
   "metadata": {},
   "source": [
    " Sous Python, on peut définir une liste comme une collection d'éléments séparés par une virgule, l'ensemble étant délimité par des crochets.\n",
    " \n",
    " Exemples :"
   ]
  },
  {
   "cell_type": "code",
   "execution_count": 2,
   "metadata": {},
   "outputs": [
    {
     "name": "stdout",
     "output_type": "stream",
     "text": [
      "['Lun', 'Mar', 'Mer', 'Jeu', 'Ven'] <class 'list'>\n",
      "[['Dim', 21, 'Juin'], 20.0] <class 'list'>\n"
     ]
    }
   ],
   "source": [
    "#Exécuter le code ci-dessous :\n",
    "semaine = ['Lun','Mar','Mer','Jeu','Ven']\n",
    "jours = [1,2,3,4,5,6,7,8,9,10,11,12,13,14,15,16,17,18,19,20,21,22,23,24,25,26,27,28,29,30,31]\n",
    "mois = ['Jan','Fév','Mars','Avr','Mai','Juin','Juil','Août','Sep','Oct','Nov','Déc']\n",
    "temperatures = [-30.0,-20.0,-10.0,0.0,10.0,20.0,30.0,40.0]\n",
    "\n",
    "ajd = [['Dim',21,'Juin'],20.0]\n",
    "\n",
    "print (semaine, type(semaine))\n",
    "print (ajd, type(ajd))"
   ]
  },
  {
   "cell_type": "markdown",
   "metadata": {},
   "source": [
    "Les éléments individuels qui constituent une liste peuvent être de types variés :\n",
    " * Les éléments des listes `semaine` et `mois` sont des chaînes de caractères.\n",
    " * Les éléments de la liste `jours` sont des entiers.\n",
    " * Les éléments de la liste `temperatures` contient des nombres de type 'float'.\n",
    " * La liste `ajd` contient...2 éléments : une liste (elle-même composée de chaînes et d'un entier) et un nombre de type 'float'."
   ]
  },
  {
   "cell_type": "markdown",
   "metadata": {},
   "source": [
    "### Similitudes avec les chaînes"
   ]
  },
  {
   "cell_type": "markdown",
   "metadata": {},
   "source": [
    "#### Accès aux éléments :\n",
    "\n",
    "Comme les chaînes de caractères, les listes sont des collections ordonnées d’objets. On peut donc accéder à chaques élément individuellement si l’on connaît son index dans la liste . Comme pour les chaînes, l'index commence à partir de zéro.\n",
    "\n",
    "Exemples:"
   ]
  },
  {
   "cell_type": "code",
   "execution_count": 3,
   "metadata": {},
   "outputs": [
    {
     "name": "stdout",
     "output_type": "stream",
     "text": [
      "Lun\n",
      "31\n",
      "Mars\n"
     ]
    }
   ],
   "source": [
    "#Exécuter le code ci-dessous :\n",
    "print(semaine[0])\n",
    "print(jours[30])\n",
    "print(mois[2])"
   ]
  },
  {
   "cell_type": "markdown",
   "metadata": {},
   "source": [
    "#### Exercice 7 :\n",
    "Modifier le programme ci-dessus pour qu'il affiche la date d'aujourd'hui."
   ]
  },
  {
   "cell_type": "code",
   "execution_count": 4,
   "metadata": {},
   "outputs": [
    {
     "name": "stdout",
     "output_type": "stream",
     "text": [
      "Ven\n",
      "27\n",
      "Sep\n"
     ]
    }
   ],
   "source": [
    "# Réponse : à adapter en fonction de la date\n",
    "print(semaine[4])\n",
    "print(jours[26])\n",
    "print(mois[8])"
   ]
  },
  {
   "cell_type": "markdown",
   "metadata": {},
   "source": [
    "#### Longueur d'une liste\n",
    "La fonction `len`s'utilise aussi avec les listes.\n",
    "Exemples :"
   ]
  },
  {
   "cell_type": "code",
   "execution_count": 5,
   "metadata": {},
   "outputs": [
    {
     "name": "stdout",
     "output_type": "stream",
     "text": [
      "31\n",
      "2\n"
     ]
    }
   ],
   "source": [
    "print(len(jours)) #affiche la longueur de la liste 'jours', c'est à dire son nombre d'éléments\n",
    "print(len(ajd)) # la liste 'ajd' contient 2 éléments"
   ]
  },
  {
   "cell_type": "markdown",
   "metadata": {},
   "source": [
    "#### Concaténation\n",
    "Comme pour les chaînes, on peut utiliser l'opérateur `+` pour rassembler 2 listes.\n",
    "Exemples :"
   ]
  },
  {
   "cell_type": "code",
   "execution_count": 6,
   "metadata": {},
   "outputs": [
    {
     "name": "stdout",
     "output_type": "stream",
     "text": [
      "[1, 2, 3, 4, 5, 6]\n",
      "[4, 5, 6, 1, 2, 3]\n"
     ]
    }
   ],
   "source": [
    "#Exécuter le code ci-dessous :\n",
    "L1=[1,2,3]\n",
    "L2=[4,5,6]\n",
    "print(L1+L2)\n",
    "print(L2+L1)"
   ]
  },
  {
   "cell_type": "markdown",
   "metadata": {},
   "source": [
    "### Différences avec les chaînes"
   ]
  },
  {
   "cell_type": "markdown",
   "metadata": {},
   "source": [
    "#### Modifier des éléments\n",
    "À la différence de ce qui se passe pour les chaînes, qui constituent un type de données non-modifiables, il est possible de modifier les éléments individuels d’une liste :"
   ]
  },
  {
   "cell_type": "code",
   "execution_count": 7,
   "metadata": {},
   "outputs": [
    {
     "name": "stdout",
     "output_type": "stream",
     "text": [
      "['Dim', 'Mar', 'Mer', 'Jeu', 'Ven']\n"
     ]
    }
   ],
   "source": [
    "# Executer le code ci-dessous\n",
    "semaine[0]='Dim'\n",
    "print(semaine)"
   ]
  },
  {
   "cell_type": "markdown",
   "metadata": {},
   "source": [
    "#### Exercice 8 :\n",
    "Annuler la modification précédente"
   ]
  },
  {
   "cell_type": "code",
   "execution_count": 8,
   "metadata": {},
   "outputs": [
    {
     "name": "stdout",
     "output_type": "stream",
     "text": [
      "['Lun', 'Mar', 'Mer', 'Jeu', 'Ven']\n"
     ]
    }
   ],
   "source": [
    "#Réponse:\n",
    "semaine[0]='Lun'\n",
    "print(semaine)"
   ]
  },
  {
   "cell_type": "markdown",
   "metadata": {},
   "source": [
    "#### Supprimer des éléments\n",
    "La fonction `del` permet de supprimer d’une liste un élément quelconque, à partir de son index."
   ]
  },
  {
   "cell_type": "code",
   "execution_count": 9,
   "metadata": {},
   "outputs": [
    {
     "name": "stdout",
     "output_type": "stream",
     "text": [
      "['Lun', 'Mar', 'Mer', 'Jeu']\n"
     ]
    }
   ],
   "source": [
    "del(semaine[4])\n",
    "print(semaine)"
   ]
  },
  {
   "cell_type": "markdown",
   "metadata": {},
   "source": [
    "#### Ajouter des éléments\n",
    "On peut ajouter un élément à une liste. Pour cela, il faut considérer que la liste est un objet, dont on va utiliser l’une des méthodes, ici la méthode `append`."
   ]
  },
  {
   "cell_type": "code",
   "execution_count": 10,
   "metadata": {},
   "outputs": [
    {
     "name": "stdout",
     "output_type": "stream",
     "text": [
      "['Lun', 'Mar', 'Mer', 'Jeu', 'Ven']\n"
     ]
    }
   ],
   "source": [
    "#Exécuter le code ci-dessous\n",
    "semaine.append('Ven')\n",
    "print(semaine)"
   ]
  },
  {
   "cell_type": "markdown",
   "metadata": {},
   "source": [
    "Remarques :\n",
    "   * 'append' en anglais veut dire 'ajouter'.\n",
    "   * l'élément est ajouté à la fin de la liste\n",
    "   * on applique une méthode à un objet en reliant les deux à l’aide d’un point."
   ]
  },
  {
   "cell_type": "markdown",
   "metadata": {},
   "source": [
    "#### Exercice 9 :\n",
    "Ajouter le week-end à la liste 'semaine' et l'afficher"
   ]
  },
  {
   "cell_type": "code",
   "execution_count": 11,
   "metadata": {},
   "outputs": [
    {
     "name": "stdout",
     "output_type": "stream",
     "text": [
      "['Lun', 'Mar', 'Mer', 'Jeu', 'Ven', 'Sam', 'Dim']\n"
     ]
    }
   ],
   "source": [
    "# Réponse :\n",
    "semaine.append('Sam')\n",
    "semaine.append('Dim')\n",
    "print(semaine)\n"
   ]
  },
  {
   "cell_type": "markdown",
   "metadata": {},
   "source": [
    "## 4. Booléens"
   ]
  },
  {
   "cell_type": "code",
   "execution_count": 12,
   "metadata": {},
   "outputs": [
    {
     "name": "stdout",
     "output_type": "stream",
     "text": [
      "True <class 'bool'>\n",
      "False <class 'bool'>\n"
     ]
    }
   ],
   "source": [
    "#Exécuter le code ci-dessous\n",
    "a = (2<3)\n",
    "b = (2==3)\n",
    "print (a, type(a))\n",
    "print(b, type(b))"
   ]
  },
  {
   "cell_type": "markdown",
   "metadata": {},
   "source": [
    " Lorsqu'un programme contient des instructions du type `while` ou `if`, l'ordinateur doit évaluer la véracité d'une condition. Est-elle vraie ou fausse ?\n",
    " * `True` est renvoyé si la condition est vraie.\n",
    " * `False`est renvoyé si la condition est fausse.\n",
    " \n",
    "Ces valeurs sont appelées 'booléens'. Exemples :"
   ]
  },
  {
   "cell_type": "code",
   "execution_count": 15,
   "metadata": {},
   "outputs": [
    {
     "name": "stdout",
     "output_type": "stream",
     "text": [
      "True\n",
      "True\n",
      "True\n",
      "True\n",
      "True\n",
      "True\n",
      "True\n",
      "True\n",
      "False\n",
      "False\n",
      "False\n",
      "False\n",
      "False\n",
      "False\n",
      "False\n"
     ]
    },
    {
     "ename": "TypeError",
     "evalue": "'<' not supported between instances of 'str' and 'int'",
     "output_type": "error",
     "traceback": [
      "\u001b[1;31m---------------------------------------------------------------------------\u001b[0m",
      "\u001b[1;31mTypeError\u001b[0m                                 Traceback (most recent call last)",
      "\u001b[1;32m<ipython-input-15-c15ecd616743>\u001b[0m in \u001b[0;36m<module>\u001b[1;34m\u001b[0m\n\u001b[0;32m     21\u001b[0m \u001b[1;33m\u001b[0m\u001b[0m\n\u001b[0;32m     22\u001b[0m \u001b[1;31m# Ceci n'est pas evaluable\u001b[0m\u001b[1;33m\u001b[0m\u001b[1;33m\u001b[0m\u001b[1;33m\u001b[0m\u001b[0m\n\u001b[1;32m---> 23\u001b[1;33m \u001b[0mprint\u001b[0m\u001b[1;33m(\u001b[0m\u001b[1;34m'ma_note'\u001b[0m \u001b[1;33m<\u001b[0m \u001b[1;36m20\u001b[0m\u001b[1;33m)\u001b[0m\u001b[1;33m\u001b[0m\u001b[1;33m\u001b[0m\u001b[0m\n\u001b[0m",
      "\u001b[1;31mTypeError\u001b[0m: '<' not supported between instances of 'str' and 'int'"
     ]
    }
   ],
   "source": [
    "#Exécuter le code ci-dessous\n",
    "\n",
    "#Tout ceci est vrai :\n",
    "print(2 != 3)\n",
    "print(2 == 2.0)\n",
    "print(2 <= 1+1)\n",
    "print('alpha' < 'beta')\n",
    "print(2 in [0,2,4,6,8])\n",
    "print(True == 1)\n",
    "print(False == 0)\n",
    "print(True + 1 == 2)\n",
    "\n",
    "#Tout cela est faux :\n",
    "print(-1 > 0)\n",
    "print ((-4)**2 == -16)\n",
    "print(1 in [0,2,4,6,8])\n",
    "print(True == False)\n",
    "print (0.1 + 0.1 + 0.1 == 0.3) # Eh oui...\n",
    "print('Z' < 'A')\n",
    "print(1 != 1)\n",
    "\n",
    "# Ceci n'est pas evaluable\n",
    "print('ma_note' < 20)"
   ]
  },
  {
   "cell_type": "markdown",
   "metadata": {},
   "source": [
    "Remarques :\n",
    " * Comme toutes les données, un booléen est une valeur numérique, True vaut 1 et False vaut 0\n",
    " * Les chaînes de caractères peuvent être comparées entre elles.\n",
    " * Il n'est pas possible d'évaluer des données de types différents."
   ]
  },
  {
   "cell_type": "markdown",
   "metadata": {},
   "source": [
    "## 5. Exercices"
   ]
  },
  {
   "cell_type": "markdown",
   "metadata": {},
   "source": [
    "### Exercice 10 :"
   ]
  },
  {
   "cell_type": "code",
   "execution_count": 16,
   "metadata": {},
   "outputs": [
    {
     "name": "stdout",
     "output_type": "stream",
     "text": [
      "5 h 30 mn\n"
     ]
    }
   ],
   "source": [
    "#Exécuter le code ci-dessous :\n",
    "heures = 5.5\n",
    "h = int(heures)\n",
    "minutes = (heures -h)*60\n",
    "mn = int(minutes)\n",
    "print (h,'h',mn,'mn')"
   ]
  },
  {
   "cell_type": "markdown",
   "metadata": {},
   "source": [
    " 1. Expliquez ce fait ce programme\n",
    " 2. Quel est le type des données contenues dans :\n",
    "     * `heures` ?\n",
    "     * `minutes` ?\n",
    "     * `mn` ?\n",
    " 3. Modifier ce programme pour qu'il affiche aussi les secondes et le vérifier en changeant la valeur de `heures`."
   ]
  },
  {
   "cell_type": "markdown",
   "metadata": {},
   "source": [
    "Réponses :\n",
    "  1. Ce programme convertit une durée exprimée en heure(float), en heures et minutes (entiers)\n",
    "  2. heures :'float' ,minutes: 'float' ,mn : 'int'"
   ]
  },
  {
   "cell_type": "code",
   "execution_count": 28,
   "metadata": {},
   "outputs": [
    {
     "name": "stdout",
     "output_type": "stream",
     "text": [
      "0 h 0 mn 36 s\n"
     ]
    }
   ],
   "source": [
    "# Réponse à la question 3\n",
    "heures =0.01\n",
    "h = int(heures)\n",
    "minutes = (heures -h)*60\n",
    "mn = int(minutes)\n",
    "secondes = (minutes-mn)*60\n",
    "s = int(secondes)\n",
    "print (h,'h',mn,'mn',s,'s')"
   ]
  },
  {
   "cell_type": "markdown",
   "metadata": {},
   "source": [
    "### Exercice 11 :\n",
    "En 2019, Kylian M., soucieux de son avenir, a placé 1000 € sur un compte qui lui rapporte chaque année, 4,5 % d'intérêts. "
   ]
  },
  {
   "cell_type": "code",
   "execution_count": null,
   "metadata": {},
   "outputs": [],
   "source": [
    "# Exécuter le code ci-dessous\n",
    "capital = 1000\n",
    "taux = 4.5\n",
    "annee = 2019\n",
    "\n",
    "capital = capital + (taux/100)*capital\n",
    "annee = annee + 1\n",
    "print (annee ,':', capital,'€')"
   ]
  },
  {
   "cell_type": "markdown",
   "metadata": {},
   "source": [
    " 1. Expliquer ce que fait ce programme.\n",
    " 2. En utilisant une boucle `while`, modifier ce programme pour qu'il affiche la somme qui sera sur le compte en 2050\n",
    " 3. Modifier le programme pour qu'il affiche la somme disponible chaque année jusqu'en 2050"
   ]
  },
  {
   "cell_type": "markdown",
   "metadata": {},
   "source": [
    "Réponses :\n",
    "1. Il affiche le capital disponible en 2020.\n",
    " "
   ]
  },
  {
   "cell_type": "code",
   "execution_count": 29,
   "metadata": {},
   "outputs": [
    {
     "name": "stdout",
     "output_type": "stream",
     "text": [
      "2050 : 3913.857450591028 €\n"
     ]
    }
   ],
   "source": [
    "#2.\n",
    "capital = 1000\n",
    "taux = 4.5\n",
    "annee = 2019\n",
    "\n",
    "while annee != 2050 :\n",
    "    capital = capital + (taux/100)*capital\n",
    "    annee = annee + 1\n",
    "print (annee ,':', capital,'€')"
   ]
  },
  {
   "cell_type": "code",
   "execution_count": 32,
   "metadata": {},
   "outputs": [
    {
     "name": "stdout",
     "output_type": "stream",
     "text": [
      "2020 : 1045000000.0 €\n",
      "2021 : 1092025000.0 €\n",
      "2022 : 1141166125.0 €\n",
      "2023 : 1192518600.625 €\n",
      "2024 : 1246181937.653125 €\n",
      "2025 : 1302260124.8475156 €\n",
      "2026 : 1360861830.465654 €\n",
      "2027 : 1422100612.8366084 €\n",
      "2028 : 1486095140.4142559 €\n",
      "2029 : 1552969421.7328973 €\n",
      "2030 : 1622853045.7108777 €\n",
      "2031 : 1695881432.767867 €\n",
      "2032 : 1772196097.2424212 €\n",
      "2033 : 1851944921.61833 €\n",
      "2034 : 1935282443.0911548 €\n",
      "2035 : 2022370153.0302567 €\n",
      "2036 : 2113376809.9166183 €\n",
      "2037 : 2208478766.3628664 €\n",
      "2038 : 2307860310.8491955 €\n",
      "2039 : 2411714024.8374095 €\n",
      "2040 : 2520241155.955093 €\n",
      "2041 : 2633652007.973072 €\n",
      "2042 : 2752166348.33186 €\n",
      "2043 : 2876013834.006794 €\n",
      "2044 : 3005434456.5371 €\n",
      "2045 : 3140679007.0812693 €\n",
      "2046 : 3282009562.399926 €\n",
      "2047 : 3429699992.707923 €\n",
      "2048 : 3584036492.3797793 €\n",
      "2049 : 3745318134.5368695 €\n",
      "2050 : 3913857450.5910287 €\n"
     ]
    }
   ],
   "source": [
    "#3.\n",
    "#2.\n",
    "capital = 1000000000\n",
    "taux = 4.5\n",
    "annee = 2019\n",
    "\n",
    "while annee != 2050 :\n",
    "    capital = capital + (taux/100)*capital\n",
    "    annee = annee + 1\n",
    "    print (annee ,':', capital,'€')"
   ]
  },
  {
   "cell_type": "markdown",
   "metadata": {},
   "source": [
    "### Exercice 12:"
   ]
  },
  {
   "cell_type": "code",
   "execution_count": 33,
   "metadata": {},
   "outputs": [
    {
     "name": "stdout",
     "output_type": "stream",
     "text": [
      "Il y a au moins un \"e\" dans super\n"
     ]
    }
   ],
   "source": [
    "# Exécuter le code ci-dessous\n",
    "mot = 'super'\n",
    "n = 0 # nombre de e\n",
    "for lettre in mot: #on parcourt la chaine départ lettre par lettre\n",
    "    if lettre == 'e': #teste si la lettre est e\n",
    "        n = 1 # on ajoute 1\n",
    "\n",
    "if n == 0 :\n",
    "    print('Pas de \"e\" dans', mot)\n",
    "else :\n",
    "    print('Il y a au moins un \"e\" dans',mot)"
   ]
  },
  {
   "cell_type": "markdown",
   "metadata": {},
   "source": [
    "1. Expliquer comment fonctionne ce programme.\n",
    "2. Le modifier pour qu'il affiche le nombre de 'e' dans la chaîne contenue dans la variable `mot`. Verifier en testant plusieurs mots."
   ]
  },
  {
   "cell_type": "markdown",
   "metadata": {},
   "source": [
    "Réponses :\n",
    "   "
   ]
  },
  {
   "cell_type": "code",
   "execution_count": 35,
   "metadata": {},
   "outputs": [
    {
     "name": "stdout",
     "output_type": "stream",
     "text": [
      "Il y a  8 e dans supeeeeeeeer\n"
     ]
    }
   ],
   "source": [
    "#2.\n",
    "mot = 'supeeeeeeeer'\n",
    "n = 0 # nombre de e\n",
    "for lettre in mot: #on parcourt la chaine départ lettre par lettre\n",
    "    if lettre == 'e': #teste si la lettre est e\n",
    "        n = n + 1 # on ajoute 1\n",
    "\n",
    "if n == 0 :\n",
    "    print('Pas de \"e\" dans', mot)\n",
    "else :\n",
    "    print('Il y a ', n, 'e dans',mot)\n"
   ]
  },
  {
   "cell_type": "markdown",
   "metadata": {},
   "source": [
    "### Exercice 13:"
   ]
  },
  {
   "cell_type": "markdown",
   "metadata": {},
   "source": [
    "Compléter ce programme pour que la liste `pairs` contienne les entiers pairs de la liste `nombres` et pour que la liste `impairs` contienne les entiers impairs de la liste `nombres`."
   ]
  },
  {
   "cell_type": "code",
   "execution_count": 37,
   "metadata": {},
   "outputs": [
    {
     "name": "stdout",
     "output_type": "stream",
     "text": [
      "[2, 4, 8, 6, 0, 4, 6, 78]\n",
      "[1, 3, 5, 7, 9, 45, 621]\n"
     ]
    }
   ],
   "source": [
    "nombres = [2,4,8,1,3,5,7,9,6,0,45,4,6,78,621]\n",
    "pairs = []\n",
    "impairs = []\n",
    "for n in nombres:\n",
    "    if n % 2 ==0:\n",
    "        pairs.append(n)\n",
    "    \n",
    "    else:\n",
    "        impairs.append(n)\n",
    "\n",
    "\n",
    "print(pairs)\n",
    "print(impairs)"
   ]
  },
  {
   "cell_type": "markdown",
   "metadata": {},
   "source": [
    "Réponse :"
   ]
  },
  {
   "cell_type": "code",
   "execution_count": null,
   "metadata": {},
   "outputs": [],
   "source": []
  },
  {
   "cell_type": "markdown",
   "metadata": {},
   "source": [
    "### Exercice 14"
   ]
  },
  {
   "cell_type": "code",
   "execution_count": 4,
   "metadata": {},
   "outputs": [
    {
     "name": "stdout",
     "output_type": "stream",
     "text": [
      "kayak\n"
     ]
    }
   ],
   "source": [
    "# Exécuter le code ci-dessous\n",
    "mot = 'kayak' #chaine de départ\n",
    "inverse = '' #chaine vide qui va contenir le mot inversé\n",
    "i = 0 #compteur\n",
    "while i < len(mot): # cette instruction est lue autant de fois que le nombre de caractères\n",
    "    inverse = inverse + mot[len(mot)-1-i] # on remplkit la chaine inverse en commençant par la dernière lettre\n",
    "    i = i + 1\n",
    "\n",
    "print(inverse)"
   ]
  },
  {
   "cell_type": "markdown",
   "metadata": {},
   "source": [
    "1. Que fait ce programme ?\n",
    "2. le compléter pour qu'il détermine si le mot de départ est un palindrome, c'est à dire un mot qui peut se lire dans les deux sens (radar, kayak, s.o.s, bob...). Vérifier en testant plusieurs mots."
   ]
  },
  {
   "cell_type": "markdown",
   "metadata": {},
   "source": [
    "Réponse :\n",
    "   1. A partir d'un chaine au départ, ce programme affiche la chaine de caractères à l'envers."
   ]
  },
  {
   "cell_type": "code",
   "execution_count": 5,
   "metadata": {},
   "outputs": [
    {
     "name": "stdout",
     "output_type": "stream",
     "text": [
      "palindrome\n"
     ]
    }
   ],
   "source": [
    "#2.\n",
    "if inverse==mot:\n",
    "    print('palindrome')\n",
    "else :\n",
    "    print('pas palindrome')"
   ]
  },
  {
   "cell_type": "markdown",
   "metadata": {},
   "source": [
    "### Exercice 15 :"
   ]
  },
  {
   "cell_type": "markdown",
   "metadata": {},
   "source": [
    "Écrivez un programme qui recherche le plus grand élément présent dans une liste donnée. Vérifier en modifiant les valeurs dans la liste."
   ]
  },
  {
   "cell_type": "code",
   "execution_count": 10,
   "metadata": {},
   "outputs": [],
   "source": [
    "nombres = [-32, 5, 80, 8, 3, 75, 2, 15]"
   ]
  },
  {
   "cell_type": "markdown",
   "metadata": {},
   "source": [
    "Réponse :"
   ]
  },
  {
   "cell_type": "code",
   "execution_count": 11,
   "metadata": {},
   "outputs": [
    {
     "name": "stdout",
     "output_type": "stream",
     "text": [
      "80\n"
     ]
    }
   ],
   "source": [
    "maxi=nombres[0]\n",
    "for n in nombres:\n",
    "    if n > maxi:\n",
    "        maxi=n\n",
    "print(maxi)        \n"
   ]
  },
  {
   "cell_type": "markdown",
   "metadata": {},
   "source": [
    "### Exercice 16 :\n",
    "Ecrire un programme qui détermine si une année est bissextile ou non. Vérifier avec plusieurs années.\n",
    "\n",
    "Attention : Une année A est bissextile si A est divisible par 4. Elle ne l’est cependant pas si A est un multiple de 100, à moins que A ne soit multiple de 400."
   ]
  },
  {
   "cell_type": "markdown",
   "metadata": {},
   "source": [
    "Réponse :"
   ]
  },
  {
   "cell_type": "code",
   "execution_count": 22,
   "metadata": {},
   "outputs": [
    {
     "name": "stdout",
     "output_type": "stream",
     "text": [
      "pas bissextile\n"
     ]
    }
   ],
   "source": [
    "A=2100\n",
    "if A % 4 == 0:\n",
    "    if A % 100 == 0:\n",
    "        if A % 400 == 0:\n",
    "            print('bissextile')\n",
    "        else :    \n",
    "            print('pas bissextile')\n",
    "    else :\n",
    "        print('bissextile')\n",
    "else:\n",
    "    print('pas bissextile')"
   ]
  },
  {
   "cell_type": "markdown",
   "metadata": {},
   "source": [
    "<center>FIN</center>"
   ]
  }
 ],
 "metadata": {
  "kernelspec": {
   "display_name": "Python 3",
   "language": "python",
   "name": "python3"
  },
  "language_info": {
   "codemirror_mode": {
    "name": "ipython",
    "version": 3
   },
   "file_extension": ".py",
   "mimetype": "text/x-python",
   "name": "python",
   "nbconvert_exporter": "python",
   "pygments_lexer": "ipython3",
   "version": "3.7.3"
  }
 },
 "nbformat": 4,
 "nbformat_minor": 2
}
