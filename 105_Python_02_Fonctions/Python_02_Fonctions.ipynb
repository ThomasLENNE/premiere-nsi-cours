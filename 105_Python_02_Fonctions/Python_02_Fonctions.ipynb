{
 "cells": [
  {
   "cell_type": "markdown",
   "metadata": {},
   "source": [
    "# <center> Fonctions </center>"
   ]
  },
  {
   "cell_type": "markdown",
   "metadata": {},
   "source": [
    "* Un programme peut rapidement contenir beaucoup de lignes, le rendant difficile à lire. De plus, il est possible d'y retrouver des groupes de lignes de codes similaires à plusieurs endroits.\n",
    "\n",
    "* Grâce aux fonctions, nous allons écrire du code plus lisible, plus compact et réutilisable. Les fonctions permettent ainsi de décomposer un problème complexe en sous-problèmes plus simples à résoudre.\n",
    "\n",
    "* Nous avons déjà utilisé des fonctions pré-définies sous python : `print()`, `int()`, `type()`, `bin()`.\n",
    "\n",
    "* Nous allons apprendre à en créer et les appeler pour les réutiliser.\n",
    "\n",
    "* Deux nouvelles instructions : `def` et `return`\n"
   ]
  },
  {
   "cell_type": "markdown",
   "metadata": {},
   "source": [
    "## 1. Définir et appeler une fonction"
   ]
  },
  {
   "cell_type": "markdown",
   "metadata": {},
   "source": [
    "Pour définir une fonction, on utilise l'instruction `def` :"
   ]
  },
  {
   "cell_type": "code",
   "execution_count": null,
   "metadata": {},
   "outputs": [],
   "source": [
    "def tablefois5():\n",
    "    i=1                      \n",
    "    while i <= 10:           \n",
    "        print(5*i, end=' ') \n",
    "        i = i + 1"
   ]
  },
  {
   "cell_type": "markdown",
   "metadata": {},
   "source": [
    " * Le nom de la fonction est choisi par le programmeur, ici `table5`.\n",
    " * On remarque la présence des parenthèses et du double point.\n",
    " * Le bloc d'instructions qui suit est indenté (c'est le corps de la fonction).\n",
    " * Cette fonction affiche les $10$ premiers termes de la table de multiplication par $5$."
   ]
  },
  {
   "cell_type": "markdown",
   "metadata": {},
   "source": [
    "Si cela n'est pas encore fait, éxécuter le code ci-dessus. Que se passe-t-il ? Apparement Rien...\n",
    "Python n'a rien affiché, mais il a lu les instructions qui définissent la fonction.\n",
    "\n",
    "Désormais on peut l'appeler, par son nom :"
   ]
  },
  {
   "cell_type": "code",
   "execution_count": null,
   "metadata": {},
   "outputs": [],
   "source": [
    "#Exécuter le code ci-dessous :\n",
    "tablefois5()\n",
    "tablefois5()\n",
    "tablefois5()"
   ]
  },
  {
   "cell_type": "markdown",
   "metadata": {},
   "source": [
    "### Exercice 1:\n",
    "Ecrire ci-dessous le code d'une fonction appelée `carre10` qui affiche les  carrés des entiers naturels de $1$ à$10$, puis l'appeler pour vérifier son fonctionnement."
   ]
  },
  {
   "cell_type": "code",
   "execution_count": null,
   "metadata": {},
   "outputs": [],
   "source": [
    "#Réponse :\n",
    "\n",
    "\n",
    "#Appel\n"
   ]
  },
  {
   "cell_type": "markdown",
   "metadata": {},
   "source": [
    "## 2. Utiliser des paramètres"
   ]
  },
  {
   "cell_type": "markdown",
   "metadata": {},
   "source": [
    "* Les fonctions que nous venons d'écrire éxécutent une suite d'instructions sans avoir besoin de réécrire ces instructions àchaque fois que l'on en a besoin. \n",
    "\n",
    "* Dans les fonctions pré-définies que nous avons déjà utilisées, on transmet une valeur entre parenthèses lors de l'appel (un argument).\n",
    "\n",
    "  Exemples :\n",
    "\n",
    "   * `int(4.02)`\n",
    "   * `print('coucou')`\n",
    "   * `type(True)`\n",
    "   \n",
    "   \n",
    "* Dans la définition de ces fonctions, il est prévu une variable particulière pour recevoir l'argument transmis. Cette variable s'appelle un paramètre. On lui choisit un nom et on place ce nom entre les parenthèses lors de la définition.\n",
    "\n",
    "Exemple :"
   ]
  },
  {
   "cell_type": "code",
   "execution_count": null,
   "metadata": {},
   "outputs": [],
   "source": [
    "#Exécuter le code ci-dessous\n",
    "def tablefois(n):\n",
    "    i=1                      \n",
    "    while i <= 10:           \n",
    "        print(n*i, end=' ') \n",
    "        i = i + 1"
   ]
  },
  {
   "cell_type": "markdown",
   "metadata": {},
   "source": [
    "* La fonction `tablefois` utilise le paramètre `n` pour afficher les $10$ premiers termes de la table de multiplication par `n`.\n",
    "* Pour tester cette nouvelle fonction, il faut l'appeler avec un argument, c'est à dire choisir une valeur pour `n` :\n",
    "\n",
    "Exemples : Exécuter les cellules ci-dessous"
   ]
  },
  {
   "cell_type": "code",
   "execution_count": null,
   "metadata": {},
   "outputs": [],
   "source": [
    "tablefois(2)"
   ]
  },
  {
   "cell_type": "code",
   "execution_count": null,
   "metadata": {},
   "outputs": [],
   "source": [
    "tablefois(7)"
   ]
  },
  {
   "cell_type": "code",
   "execution_count": null,
   "metadata": {},
   "outputs": [],
   "source": [
    "tablefois(9)"
   ]
  },
  {
   "cell_type": "markdown",
   "metadata": {},
   "source": [
    "### Exercice 2 :\n",
    "Modifier le code ci-dessous pour écrire le code d'une fonction appelée `carre` qui affiche les  carrés des entiers naturels de $1$ à $n$, puis éxécuter les cellules suivantes pour tester son bon fonctionnement avec des arguments différents."
   ]
  },
  {
   "cell_type": "code",
   "execution_count": null,
   "metadata": {},
   "outputs": [],
   "source": [
    "def carre10():\n",
    "    i = 1\n",
    "    while i <= 10 :\n",
    "        print(i*i, end=' ') \n",
    "        i = i + 1"
   ]
  },
  {
   "cell_type": "code",
   "execution_count": null,
   "metadata": {},
   "outputs": [],
   "source": [
    "#Appel\n",
    "carre(10)"
   ]
  },
  {
   "cell_type": "code",
   "execution_count": null,
   "metadata": {},
   "outputs": [],
   "source": [
    "#Appel\n",
    "carre(15)"
   ]
  },
  {
   "cell_type": "code",
   "execution_count": null,
   "metadata": {},
   "outputs": [],
   "source": [
    "#Appel\n",
    "carre(28)"
   ]
  },
  {
   "cell_type": "markdown",
   "metadata": {},
   "source": [
    "### Utiliser plusieurs paramètres"
   ]
  },
  {
   "cell_type": "markdown",
   "metadata": {},
   "source": [
    "Il est possible de définir autant de paramètres que l'on veut. Il suffit de les ajouter entre les parenthèses, séparés par une virgule, lors de la définition de la fonction.\n",
    "\n",
    "Exemple :"
   ]
  },
  {
   "cell_type": "code",
   "execution_count": null,
   "metadata": {},
   "outputs": [],
   "source": [
    "def tablefois(n,fin):\n",
    "    i=1\n",
    "    while i<=fin:\n",
    "        print (n*i, end=' ')\n",
    "        i = i + 1"
   ]
  },
  {
   "cell_type": "markdown",
   "metadata": {},
   "source": [
    "La fonction `tablefois` est définie avec $2$ paramètres :\n",
    " * `n` : la table souhaitée\n",
    " * `fin` : le nombre de termes souhaités\n",
    " \n",
    "Lors de l'appel, il faut donc indiquer $2$ arguments :"
   ]
  },
  {
   "cell_type": "code",
   "execution_count": null,
   "metadata": {},
   "outputs": [],
   "source": [
    "#Appel\n",
    "tablefois(4,15)"
   ]
  },
  {
   "cell_type": "markdown",
   "metadata": {},
   "source": [
    "### Exercice 3 :\n",
    " 1. Afficher les 4 premiers termes de la table de multiplication par 15.\n",
    " 2. Afficher les 20 premiers termes de la table de multiplication par 13.\n",
    " 3. Afficher les 7 premiers termes de la table de multiplication par 7."
   ]
  },
  {
   "cell_type": "code",
   "execution_count": null,
   "metadata": {},
   "outputs": [],
   "source": [
    "#1.\n"
   ]
  },
  {
   "cell_type": "code",
   "execution_count": null,
   "metadata": {},
   "outputs": [],
   "source": [
    "#2.\n"
   ]
  },
  {
   "cell_type": "code",
   "execution_count": null,
   "metadata": {},
   "outputs": [],
   "source": [
    "#3.\n"
   ]
  },
  {
   "cell_type": "markdown",
   "metadata": {},
   "source": [
    "### Exercice 4 :\n",
    "Modifier la fonction ci-dessous. Elle comportera $3$ paramètres :\n",
    " * `n` : la table de multiplication souhaitée\n",
    " * `debut` : l'indice du premier terme à afficher\n",
    " * `fin` : l'indice du dernier terme à afficher\n",
    "\n",
    "L'appel de la fonction `tablefois(9,3,7)` devra afficher `27 36 45 54 63 `"
   ]
  },
  {
   "cell_type": "code",
   "execution_count": null,
   "metadata": {},
   "outputs": [],
   "source": [
    "def tablefois(n,fin):\n",
    "    i=1\n",
    "    while i<=fin:\n",
    "        print (n*i, end=' ')\n",
    "        i = i + 1"
   ]
  },
  {
   "cell_type": "code",
   "execution_count": null,
   "metadata": {},
   "outputs": [],
   "source": [
    "#Appel\n",
    "tablefois(9,3,7)"
   ]
  },
  {
   "cell_type": "markdown",
   "metadata": {},
   "source": [
    "## 3. Renvoyer une valeur : instruction `return`"
   ]
  },
  {
   "cell_type": "markdown",
   "metadata": {},
   "source": [
    "* Les fonctions que nous avons écrites jusqu'ici affichent quelque chose à l'écran. Mais ce qui est affiché ne peut pas être réutilisé pour d'autres calculs.\n",
    "* Pour que le résultat soit réutilisable, il faut que la fonction renvoie une valeur.\n",
    "* L'instruction `return` définit ce que doit être la valeur renvoyée par la fonction.\n",
    "\n",
    "Exemple :"
   ]
  },
  {
   "cell_type": "code",
   "execution_count": null,
   "metadata": {},
   "outputs": [],
   "source": [
    "#Exécuter le code ci-dessous\n",
    "def cube(c):\n",
    "    return c*c*c"
   ]
  },
  {
   "cell_type": "markdown",
   "metadata": {},
   "source": [
    "Cette fonction renvoie le cube d'un nombre, qui peut être ensuite affécté à une autre variable ou utilisé dans un calcul.\n",
    "\n",
    "Exemples à tester :"
   ]
  },
  {
   "cell_type": "code",
   "execution_count": null,
   "metadata": {},
   "outputs": [],
   "source": [
    "cube(3)"
   ]
  },
  {
   "cell_type": "code",
   "execution_count": null,
   "metadata": {},
   "outputs": [],
   "source": [
    "a = cube(5)\n",
    "print(a)"
   ]
  },
  {
   "cell_type": "code",
   "execution_count": null,
   "metadata": {},
   "outputs": [],
   "source": [
    "cube(3)+cube(4)"
   ]
  },
  {
   "cell_type": "markdown",
   "metadata": {},
   "source": [
    "La fonction `cube()` renvoie un entier. Une fonction peut renoyer tout types de données. Reprenons la fonction `tablefois(n,debut,fin)`. Plutôt que d'afficher les résultats, nous allons renvoyer une liste qui contiendra ces résultats:\n"
   ]
  },
  {
   "cell_type": "code",
   "execution_count": null,
   "metadata": {},
   "outputs": [],
   "source": [
    "#Exécuter le code ci-dessous\n",
    "def tablefois(n,debut,fin):\n",
    "    resultats = []\n",
    "    i=debut\n",
    "    while i<=fin:\n",
    "        resultats.append(n*i)\n",
    "        i = i + 1\n",
    "    return resultats"
   ]
  },
  {
   "cell_type": "markdown",
   "metadata": {},
   "source": [
    "* La variable `résultats` est une liste vide au départ (deuxième ligne)\n",
    "* `resultats.append(n*i)` : on ajoute à chaque tour de boucle un nombre à la liste avec la méthode `append()`\n",
    "* Le contenu de la variable `résultats`(une liste) est renvoyé après la terminaison de la boucle `while`\n",
    "* Cette valeur de retour s'utilise ensuite comme une liste. \n",
    "\n",
    "Exemples à tester :"
   ]
  },
  {
   "cell_type": "code",
   "execution_count": null,
   "metadata": {},
   "outputs": [],
   "source": [
    "L = tablefois(9,3,7)\n",
    "print(L)"
   ]
  },
  {
   "cell_type": "code",
   "execution_count": null,
   "metadata": {},
   "outputs": [],
   "source": [
    "L[0]"
   ]
  },
  {
   "cell_type": "code",
   "execution_count": null,
   "metadata": {},
   "outputs": [],
   "source": [
    "len(L)"
   ]
  },
  {
   "cell_type": "code",
   "execution_count": null,
   "metadata": {},
   "outputs": [],
   "source": [
    "L.append(72)\n",
    "print(L)"
   ]
  },
  {
   "cell_type": "markdown",
   "metadata": {},
   "source": [
    "### Exercice 5 :\n",
    "* Définir la fonction `maxi(a,b)` qui prend en paramètres deux nombres a et b et qui renvoie le plus grand des deux.\n",
    "* Ainsi :\n",
    " * `maxi(-4,2)` doit renvoyer 2\n",
    " * `maxi(-58,-40)` doit renvoyer -40\n",
    " * `maxi(5,5)` doit renvoyer 5"
   ]
  },
  {
   "cell_type": "code",
   "execution_count": null,
   "metadata": {},
   "outputs": [],
   "source": [
    "#Réponse\n",
    "\n"
   ]
  },
  {
   "cell_type": "markdown",
   "metadata": {},
   "source": [
    "Exemples à tester :"
   ]
  },
  {
   "cell_type": "code",
   "execution_count": null,
   "metadata": {},
   "outputs": [],
   "source": [
    "maxi(-4,2)"
   ]
  },
  {
   "cell_type": "code",
   "execution_count": null,
   "metadata": {},
   "outputs": [],
   "source": [
    "maxi(-58,-40)"
   ]
  },
  {
   "cell_type": "code",
   "execution_count": null,
   "metadata": {},
   "outputs": [],
   "source": [
    "maxi(5,5)"
   ]
  },
  {
   "cell_type": "markdown",
   "metadata": {},
   "source": [
    "### Exercice 6 :\n",
    "* Ecrire la fonction `maxiliste(L)` qui prend en paramètre une liste de nombres et qui renvoie le plus grand élément de cette liste(on pourra utiliser le résultat de l'exercice 15 de la feuille sur les types de données).\n",
    "* Ainsi, sur les listes proposées en exemple ci-après:\n",
    " * `maxiliste(L1)` doit renvoyer $116$\n",
    " * `maxiliste(L2)` doit renvoyer $70$\n",
    " * `maxiliste(L3)` doit renvoyer $-4$"
   ]
  },
  {
   "cell_type": "code",
   "execution_count": null,
   "metadata": {},
   "outputs": [],
   "source": [
    "#Réponse\n"
   ]
  },
  {
   "cell_type": "markdown",
   "metadata": {},
   "source": [
    "Exemples à tester :"
   ]
  },
  {
   "cell_type": "code",
   "execution_count": null,
   "metadata": {},
   "outputs": [],
   "source": [
    "L1 = [93, 103, 55, 89, 10, 21, 116, 7]\n",
    "L2 = [-65, 61, -71, 64, -101, 70, -62, -57]\n",
    "L3 = [-46, -109, -121, -4, -53, -70, -47, -25]"
   ]
  },
  {
   "cell_type": "code",
   "execution_count": null,
   "metadata": {},
   "outputs": [],
   "source": [
    "maxiliste(L1)"
   ]
  },
  {
   "cell_type": "code",
   "execution_count": null,
   "metadata": {},
   "outputs": [],
   "source": [
    "maxiliste(L2)"
   ]
  },
  {
   "cell_type": "code",
   "execution_count": null,
   "metadata": {},
   "outputs": [],
   "source": [
    "maxiliste(L3)"
   ]
  },
  {
   "cell_type": "markdown",
   "metadata": {},
   "source": [
    "### Exercice 7 :\n",
    "* Ecrire la fonction `miniliste(L)` qui prend en paramètre une liste de nombres et qui renvoie le plus petit élément de cette liste(on pourra bien sûr utiliser le résultat précédent).\n",
    "* Ainsi, sur les listes proposées en exemple ci-avant:\n",
    " * `miniliste(L1)` doit renvoyer $7$\n",
    " * `miniliste(L2)` doit renvoyer $-101$\n",
    " * `miniliste(L3)` doit renvoyer $-121$"
   ]
  },
  {
   "cell_type": "code",
   "execution_count": null,
   "metadata": {},
   "outputs": [],
   "source": [
    "#Réponse\n",
    "\n",
    "\n",
    "\n"
   ]
  },
  {
   "cell_type": "markdown",
   "metadata": {},
   "source": [
    "Exemples à tester :"
   ]
  },
  {
   "cell_type": "code",
   "execution_count": null,
   "metadata": {},
   "outputs": [],
   "source": [
    "miniliste(L1)"
   ]
  },
  {
   "cell_type": "code",
   "execution_count": null,
   "metadata": {},
   "outputs": [],
   "source": [
    "miniliste(L2)"
   ]
  },
  {
   "cell_type": "code",
   "execution_count": null,
   "metadata": {},
   "outputs": [],
   "source": [
    "miniliste(L3)"
   ]
  },
  {
   "cell_type": "markdown",
   "metadata": {},
   "source": [
    "## 4. Décomposer un problème"
   ]
  },
  {
   "cell_type": "markdown",
   "metadata": {},
   "source": [
    "Un intérêt d'utiliser des fonctions est que cela permet de décomposer un problème complexe en sous- problèmes plus simples.\n",
    "Exemple : Nous allons écrire la fonction `moyenne(L)`qui calcule la moyenne des nombres contenus dans une liste `L`. Pour cela, nous allons d'abord créer la fonction `somme(L)`qui calcule la somme des entiers contenus dans la liste `L`, puis utiliser cette fonction dans la définition de la fonction `moyenne(L)`"
   ]
  },
  {
   "cell_type": "markdown",
   "metadata": {},
   "source": [
    "### Exercice 8 :\n",
    "1. Compléter la fonction `somme(L)` qui prend en paramètre une liste de nombres et qui renvoie la somme des nombres contenus dans `L`.\n",
    " \n",
    "Ainsi, avec les exemples ci-après, on vérifiera que:\n",
    "  * `somme(L1)` doit renvoyer $55$\n",
    "  * `somme(L2)` doit renvoyer $0$\n",
    "  * `somme(L3)` doit renvoyer $42$"
   ]
  },
  {
   "cell_type": "code",
   "execution_count": null,
   "metadata": {},
   "outputs": [],
   "source": [
    "#1.\n",
    "def somme(L):\n",
    "    s = 0\n",
    "    \n",
    "    \n",
    "   \n",
    "\n",
    "    return s\n"
   ]
  },
  {
   "cell_type": "markdown",
   "metadata": {},
   "source": [
    "Exemples à tester :"
   ]
  },
  {
   "cell_type": "code",
   "execution_count": 1,
   "metadata": {},
   "outputs": [],
   "source": [
    "L1=[1,2,3,4,5,6,7,8,9,10]\n",
    "L2=[1,2,3,4,5,-5,-4,-3,-2,-1]\n",
    "L3=[42,0]"
   ]
  },
  {
   "cell_type": "code",
   "execution_count": null,
   "metadata": {},
   "outputs": [],
   "source": [
    "somme(L1)"
   ]
  },
  {
   "cell_type": "code",
   "execution_count": null,
   "metadata": {},
   "outputs": [],
   "source": [
    "somme(L2)"
   ]
  },
  {
   "cell_type": "code",
   "execution_count": null,
   "metadata": {},
   "outputs": [],
   "source": [
    "somme(L3)"
   ]
  },
  {
   "cell_type": "markdown",
   "metadata": {},
   "source": [
    "2. En utilisant la fonction `somme(L)`, en déduire la définition de la fonction `moyenne(L)` qui prend en paramètre une liste de nombres et qui renvoie la moyenne des nombres contenus dans `L`.\n",
    "\n",
    " \n",
    "* Ainsi, avec les exemples ci-après, on vérifiera que:\n",
    "   * `moyenne(L1)` doit renvoyer $5.5$\n",
    "   * `moyenne(L2)` doit renvoyer $0.0$\n",
    "   * `moyenne(L3)` doit renvoyer $21.0$\n",
    "\n",
    "Rappel : la moyenne d'une liste de nombres est égale à la somme des nombres de la liste divisée par le nombre d'éléments de la liste."
   ]
  },
  {
   "cell_type": "code",
   "execution_count": null,
   "metadata": {},
   "outputs": [],
   "source": [
    "#2.Réponse\n",
    "\n",
    "\n"
   ]
  },
  {
   "cell_type": "markdown",
   "metadata": {},
   "source": [
    "Exemples à tester :"
   ]
  },
  {
   "cell_type": "code",
   "execution_count": null,
   "metadata": {},
   "outputs": [],
   "source": [
    "moyenne(L1)"
   ]
  },
  {
   "cell_type": "code",
   "execution_count": null,
   "metadata": {},
   "outputs": [],
   "source": [
    "moyenne(L2)"
   ]
  },
  {
   "cell_type": "code",
   "execution_count": 1,
   "metadata": {},
   "outputs": [],
   "source": [
    "moyenne(L3)\n"
   ]
  },
  {
   "cell_type": "markdown",
   "metadata": {},
   "source": [
    "3. La moyenne de L1+L2+L3 est-elle égale à la moyenne de L1 + la moyenne de L2 + la moyenne de L3 ? \n",
    "\n",
    "Vérifier ci-dessous"
   ]
  },
  {
   "cell_type": "code",
   "execution_count": null,
   "metadata": {},
   "outputs": [],
   "source": [
    "#3. Réponse :"
   ]
  },
  {
   "cell_type": "markdown",
   "metadata": {},
   "source": [
    "## 5. Exercices"
   ]
  },
  {
   "cell_type": "markdown",
   "metadata": {},
   "source": [
    "Certains de ces exercices reprennent des programmes vus précédemment. N'hésitez pas à les utiliser !"
   ]
  },
  {
   "cell_type": "markdown",
   "metadata": {},
   "source": [
    "### Exercice 9:"
   ]
  },
  {
   "cell_type": "code",
   "execution_count": null,
   "metadata": {},
   "outputs": [],
   "source": [
    "# Exécuter le code ci-dessous\n",
    "def suite(fin):\n",
    "    resultats= [] \n",
    "    n = 1 \n",
    "    while n <= fin: \n",
    "        resultats.append(n) \n",
    "        n = n + 1 \n",
    "    return resultats \n",
    "\n",
    "suite(10)"
   ]
  },
  {
   "cell_type": "markdown",
   "metadata": {},
   "source": [
    " 1. Expliquer le fonctionnement de la fonction `suite(fin)`.\n",
    " 2. Modifier cette fonction en ajoutant un deuxième paramètre `debut` pour qu'elle renvoie la liste des entiers consécutifs compris entre deux bornes, passées en arguments de la fonction :\n",
    "       * Ainsi, `suite(1,5)` doit renvoyer `[1,2,3,4,5]`\n",
    "       \n",
    "       \n",
    " 3. Ajouter un troisième paramètre `pas` à cette fonction de telle sorte que la liste renvoyée contiennent les entiers compris entre deux bornes, espacés de la valeur de `pas`.\n",
    "       * Ainsi, `suite(1,5,2)` doit renvoyer `[1,3,5]`"
   ]
  },
  {
   "cell_type": "markdown",
   "metadata": {},
   "source": [
    "1. Réponse :\n"
   ]
  },
  {
   "cell_type": "code",
   "execution_count": null,
   "metadata": {},
   "outputs": [],
   "source": [
    "#2.\n",
    "\n",
    "\n",
    "\n",
    "\n",
    "\n",
    "\n",
    "\n",
    "#Appel\n",
    "suite(2,4)"
   ]
  },
  {
   "cell_type": "code",
   "execution_count": null,
   "metadata": {},
   "outputs": [],
   "source": [
    "#3.\n",
    "\n",
    "\n",
    "#Appel\n",
    "suite(0,25,5)"
   ]
  },
  {
   "cell_type": "markdown",
   "metadata": {},
   "source": [
    "### Exercice 10 :\n",
    "\n",
    "* Ecrivez la fonction `mois(n)` qui prend en paramètre un entier `n` et qui renvoie le nom du énième mois de l’année.\n",
    "* Ainsi `mois(5)` doit renvoyer `'mai'`"
   ]
  },
  {
   "cell_type": "code",
   "execution_count": null,
   "metadata": {},
   "outputs": [],
   "source": [
    "#Réponse\n",
    "\n"
   ]
  },
  {
   "cell_type": "code",
   "execution_count": null,
   "metadata": {},
   "outputs": [],
   "source": [
    "#Appel\n",
    "mois(8)"
   ]
  },
  {
   "cell_type": "markdown",
   "metadata": {},
   "source": [
    "### Exercice 11 :\n",
    "* Ecrire la fonction `complement(L)`qui prend en paramètre une liste composée de $0$ et de $1$ et qui renvoie la liste contenant les compléments à 1 des valeurs de la liste de départ.\n",
    "* Ainsi, avec les exemples ci-après, on vérifiera que: :\n",
    "    *  `complement(L1)` doit renvoyer `[0,1,1,0,0,0,1,0,]`\n",
    "    *  `complement(L2)` doit renvoyer `[0,0,0,0]`\n",
    "    *  `complement(complement(L3))` doit renvoyer `[0,0]`"
   ]
  },
  {
   "cell_type": "code",
   "execution_count": 5,
   "metadata": {},
   "outputs": [],
   "source": [
    "#Réponse\n"
   ]
  },
  {
   "cell_type": "markdown",
   "metadata": {},
   "source": [
    "Exemples à tester :"
   ]
  },
  {
   "cell_type": "code",
   "execution_count": 3,
   "metadata": {},
   "outputs": [],
   "source": [
    "L1=[1,0,0,1,1,1,0,1]\n",
    "L2=[1,1,1,1]\n",
    "L3=[0,0]"
   ]
  },
  {
   "cell_type": "code",
   "execution_count": 6,
   "metadata": {},
   "outputs": [
    {
     "data": {
      "text/plain": [
       "[0, 1, 1, 0, 0, 0, 1, 0]"
      ]
     },
     "execution_count": 6,
     "metadata": {},
     "output_type": "execute_result"
    }
   ],
   "source": [
    "complement(L1)"
   ]
  },
  {
   "cell_type": "code",
   "execution_count": 7,
   "metadata": {},
   "outputs": [
    {
     "data": {
      "text/plain": [
       "[0, 0, 0, 0]"
      ]
     },
     "execution_count": 7,
     "metadata": {},
     "output_type": "execute_result"
    }
   ],
   "source": [
    "complement(L2)"
   ]
  },
  {
   "cell_type": "code",
   "execution_count": 8,
   "metadata": {},
   "outputs": [
    {
     "data": {
      "text/plain": [
       "[0, 0]"
      ]
     },
     "execution_count": 8,
     "metadata": {},
     "output_type": "execute_result"
    }
   ],
   "source": [
    "complement(complement(L3))"
   ]
  },
  {
   "cell_type": "markdown",
   "metadata": {},
   "source": [
    "### Exercice 12:\n",
    "Ecrire la fonction `bissextile(A)` qui prend en paramètre un entier `A` et qui renvoie le booléen `True`si l'année A est bissextile et `False` sinon. Tester avec les exemples ci-après.\n",
    "\n",
    "Rappel : Une année A est bissextile si A est divisible par 4. Elle ne l’est cependant pas si A est un multiple de 100, à moins que A ne soit multiple de 400."
   ]
  },
  {
   "cell_type": "code",
   "execution_count": 10,
   "metadata": {},
   "outputs": [],
   "source": []
  },
  {
   "cell_type": "code",
   "execution_count": 13,
   "metadata": {},
   "outputs": [
    {
     "name": "stdout",
     "output_type": "stream",
     "text": [
      "None\n"
     ]
    }
   ],
   "source": [
    "print(bissextile(2020))"
   ]
  },
  {
   "cell_type": "code",
   "execution_count": null,
   "metadata": {},
   "outputs": [],
   "source": [
    "bissextile(2001)"
   ]
  },
  {
   "cell_type": "code",
   "execution_count": null,
   "metadata": {},
   "outputs": [],
   "source": [
    "bissextile(1900)"
   ]
  },
  {
   "cell_type": "code",
   "execution_count": null,
   "metadata": {},
   "outputs": [],
   "source": [
    "bissextile(2000)"
   ]
  },
  {
   "cell_type": "markdown",
   "metadata": {},
   "source": [
    "### Exercice 13 :\n",
    "* Ecrire la fonction `occurrence(lettre,mot)` qui prend en paramètres un caractère et une chaîne de caractères et qui renvoie le nombre de fois où l'on trouve ce caractère dans la chaîne.\n",
    "* Ainsi, avec les exemples ci-après, on vérifiera que: :\n",
    "    *  `occurrence('e','fournaise')` renvoie `1`\n",
    "    *  `occurrence('a','mafate')` renvoie `2`\n",
    "    *  `occurrence('i','maïdo')` renvoie `0`"
   ]
  },
  {
   "cell_type": "code",
   "execution_count": null,
   "metadata": {},
   "outputs": [],
   "source": [
    "#Réponse :\n",
    "\n",
    "    \n",
    "\n",
    "\n",
    "\n"
   ]
  },
  {
   "cell_type": "markdown",
   "metadata": {},
   "source": [
    "Exemples à tester :"
   ]
  },
  {
   "cell_type": "code",
   "execution_count": null,
   "metadata": {},
   "outputs": [],
   "source": [
    "occurrence('e','fournaise')"
   ]
  },
  {
   "cell_type": "code",
   "execution_count": null,
   "metadata": {},
   "outputs": [],
   "source": [
    "occurrence('a','mafate')"
   ]
  },
  {
   "cell_type": "code",
   "execution_count": null,
   "metadata": {},
   "outputs": [],
   "source": [
    "occurrence('i','maïdo')"
   ]
  },
  {
   "cell_type": "markdown",
   "metadata": {},
   "source": [
    "### Exercice 14 :\n",
    "\n",
    "* Ecrire la fonction `nombremots(phrase)` qui renvoie le nombre de mots contenus dans la chaîne de caractères `phrase`. On considère ici comme mots les ensembles de caractères inclus entre des espaces.\n",
    "* Ainsi, avec les exemples ci-après, on vérifiera que: :\n",
    "    *  `nombremots(p1)` renvoie `7`\n",
    "    *  `nombremots(p2)` renvoie `2`\n",
    "    *  `nombremots(p3)` renvoie `1`"
   ]
  },
  {
   "cell_type": "code",
   "execution_count": null,
   "metadata": {},
   "outputs": [],
   "source": [
    "#Réponse :\n",
    "\n",
    "\n",
    "\n",
    "\n",
    "\n",
    "\n"
   ]
  },
  {
   "cell_type": "markdown",
   "metadata": {},
   "source": [
    "Exemples à tester :"
   ]
  },
  {
   "cell_type": "code",
   "execution_count": null,
   "metadata": {},
   "outputs": [],
   "source": [
    "p1='Il est quelle heure au pôle nord'\n",
    "p2='Auf wiedersehen'\n",
    "p3='Jaioubliédemettredesespaces'"
   ]
  },
  {
   "cell_type": "code",
   "execution_count": null,
   "metadata": {},
   "outputs": [],
   "source": [
    "nombremots(p1)"
   ]
  },
  {
   "cell_type": "code",
   "execution_count": null,
   "metadata": {},
   "outputs": [],
   "source": [
    "nombremots(p2)"
   ]
  },
  {
   "cell_type": "code",
   "execution_count": null,
   "metadata": {},
   "outputs": [],
   "source": [
    "nombremots(p3)"
   ]
  },
  {
   "cell_type": "markdown",
   "metadata": {},
   "source": [
    "### Exercice 15 : Nombres premiers\n",
    "<img style=\"float: right;\" src=\"crible.jpg\"  width = 300>\n",
    "Définition :Un nombre entier naturel est dit premier s'il admet exactement 2 diviseurs qui sont 1 et lui-même.\n",
    "\n",
    "Exemples : $1$ n'est pas premier (il n'à qu'un diviseur), $2$ est premier (il admet $1$ et $2$ comme diviseur), $4$ n'est pas premier (il admet $1$, $2$ et $4$ comme diviseurs.\n",
    "\n",
    "Les nombres premiers sont utilisés en informatique, notamment pour sécuriser des transmissions d'informations. Il n'existe pas de formule qui permet de déterminer tous les nombres premiers. On utilise des algorithmes que l'on éxécute sur des machines toujours plus puissantes. Le plus grand nombre premier découvert à ce jour en 2018 comporte 24 862 048 chiffres !\n",
    " \n",
    "\n",
    "Questions :\n",
    "1. Ecrire la fonction `multiple(N,n)` qui prend en paramètres deux entiers et qui renvoie `True` si N est un multiple de n, `False` sinon.\n",
    "2. Ecrire la fonction `premier(N)` qui prend en paramètre un entier naturel `N` strictement supérieur à 1 et qui renvoie `True` si N est premier, `False` sinon. On pourra réutiliser la fonction de la question précédente.\n",
    "3. Ecrire la fonction `recherche(L)`qui prend en paramètres une liste d'entiers et qui renvoie la la liste des nombres premiers contenus dans la liste de départ.Vérifier que les nombres premiers compris entre $2$ et $100$ sont ceux de l'image ci-dessus.\n",
    "4. Déterminer la liste des nombres premiers compris entre $101$ et $1000$.\n",
    "5. $2020$ n'est pas premier. Quelles sont les prochaines années \"premières\" ?\n",
    "\n",
    "Remarque : Pour générer des listes d'entiers, on pourra utiliser la fonction `suite(debut,fin,pas)` de l'exercice 9."
   ]
  },
  {
   "cell_type": "code",
   "execution_count": null,
   "metadata": {},
   "outputs": [],
   "source": [
    "#1.Réponse\n",
    "\n",
    "\n",
    "\n",
    "\n"
   ]
  },
  {
   "cell_type": "code",
   "execution_count": null,
   "metadata": {},
   "outputs": [],
   "source": [
    "multiple(24,2)"
   ]
  },
  {
   "cell_type": "code",
   "execution_count": null,
   "metadata": {},
   "outputs": [],
   "source": [
    "multiple(25,3)"
   ]
  },
  {
   "cell_type": "code",
   "execution_count": null,
   "metadata": {},
   "outputs": [],
   "source": [
    "#2.\n",
    "\n",
    "\n",
    "\n",
    "\n",
    "\n",
    "\n"
   ]
  },
  {
   "cell_type": "code",
   "execution_count": null,
   "metadata": {},
   "outputs": [],
   "source": [
    "premier(13)"
   ]
  },
  {
   "cell_type": "code",
   "execution_count": null,
   "metadata": {},
   "outputs": [],
   "source": [
    "premier(21)"
   ]
  },
  {
   "cell_type": "code",
   "execution_count": null,
   "metadata": {},
   "outputs": [],
   "source": [
    "#3.\n",
    "\n",
    "\n",
    "\n",
    "\n",
    "\n"
   ]
  },
  {
   "cell_type": "code",
   "execution_count": null,
   "metadata": {},
   "outputs": [],
   "source": [
    "#4.\n",
    "\n"
   ]
  },
  {
   "cell_type": "code",
   "execution_count": null,
   "metadata": {},
   "outputs": [],
   "source": [
    "#5.\n",
    "\n"
   ]
  },
  {
   "cell_type": "markdown",
   "metadata": {},
   "source": [
    "# <center> FIN </center>"
   ]
  }
 ],
 "metadata": {
  "kernelspec": {
   "display_name": "Python 3",
   "language": "python",
   "name": "python3"
  },
  "language_info": {
   "codemirror_mode": {
    "name": "ipython",
    "version": 3
   },
   "file_extension": ".py",
   "mimetype": "text/x-python",
   "name": "python",
   "nbconvert_exporter": "python",
   "pygments_lexer": "ipython3",
   "version": "3.7.3"
  }
 },
 "nbformat": 4,
 "nbformat_minor": 2
}
