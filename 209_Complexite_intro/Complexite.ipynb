{
 "cells": [
  {
   "cell_type": "markdown",
   "metadata": {},
   "source": [
    "# Puissances d'un réel"
   ]
  },
  {
   "cell_type": "markdown",
   "metadata": {},
   "source": [
    "## 1. Un premier algorithme"
   ]
  },
  {
   "cell_type": "markdown",
   "metadata": {},
   "source": [
    "\n",
    "\n",
    "$a$ désigne un nombre réel et $n$ un entier naturel. Voici ci-dessous un algorithme qui permet de calculer $a^n$.\n",
    "\n",
    " Par exemple  pour calculer $a^5$, l'algorithme effectue les opérations $((((a\\times a)\\times a)\\times a)\\times a)$"
   ]
  },
  {
   "cell_type": "markdown",
   "metadata": {},
   "source": [
    "$\\\\\n",
    "\\\\\n",
    "(1) \\; Fonction \\; puissance(a,n):\\\\\n",
    "(2)\\; \\; \\; \\;  \\; \\; \\; \\; p \\leftarrow 1\\\\\n",
    "(3)\\; \\; \\; \\; \\; \\; \\; \\; k \\leftarrow 0\\\\\n",
    "(4)\\; \\; \\; \\; \\; \\; \\; \\;  Tant\\; que\\; k \\neq n \\\\\n",
    "(5) \\; \\; \\; \\; \\; \\; \\; \\;    \\; \\; \\; \\;  p \\leftarrow p * a \\\\\n",
    "(6) \\; \\; \\; \\; \\; \\; \\; \\; \\; \\; \\; \\;k \\leftarrow k+1 \\\\\n",
    "(7)\\; \\; \\; \\;\\; \\; \\; \\;Fin \\;Tant \\;que \\\\  \n",
    "(8)\\;Renvoyer\\; p$"
   ]
  },
  {
   "cell_type": "markdown",
   "metadata": {},
   "source": [
    "### 1.1 Compléter la trace suivante."
   ]
  },
  {
   "cell_type": "markdown",
   "metadata": {},
   "source": [
    "\n",
    "\n",
    "On suppose que $a = 3$ et que $n=5$ :"
   ]
  },
  {
   "cell_type": "raw",
   "metadata": {},
   "source": [
    "ligne | p   | k\n",
    "(1)   | ?   | ?\n",
    "(2)   | 1   | ?\n",
    "(3)   | 1   | 0\n",
    "\n",
    "(4)   | 1   | 0\n",
    "(5)   | 3   | 0\n",
    "(6)   | 3   | 1\n",
    "\n",
    "(4)   | .   | .\n",
    "(5)   | .   | .\n",
    "(6)   | .   | .\n",
    "\n",
    "(4)   | .   | .\n",
    "(5)   | ..  | .\n",
    "(6)   | ..  | .\n",
    "\n",
    "(4)   | ..  | .\n",
    "(5)   | ..  | .\n",
    "(6)   | ..  | .\n",
    "\n",
    "(4)   | ..  | .\n",
    "(5)   | ... | .\n",
    "(6)   | ... | .\n",
    "\n",
    "(7)   | ... | .\n",
    "(8)   | ... | ."
   ]
  },
  {
   "cell_type": "code",
   "execution_count": null,
   "metadata": {},
   "outputs": [],
   "source": [
    "### 1.2 Nombre d'opérations effectuées par l'algorithme."
   ]
  },
  {
   "cell_type": "markdown",
   "metadata": {},
   "source": [
    "  \n",
    "  \n",
    "  Pour compter le nombre d'opérations qu'effectue cet algorithme, on considère que toutes les opérations de calcul arithmétiques ($\\;+$, $\\;-$, $\\;*$, $\\;/$, $\\;//$, $ \\;\\% $) et booléènnes ($\\;and$, $\\;or$,  $\\;not$), d'affectation( $=$) et de comparaison($\\;<$, $\\;>$,$\\;\\le$, $ \\;\\ge $, $\\;==$, $\\;!=$)  ont le même coût.\n",
    "  \n",
    "  On parle d'opérations élémentaires.\n",
    "  \n",
    "  \n",
    "   **a)** Expliquer pourquoi lorsque $n=5$, le nombre d'opérations de cet algorithme est $17$."
   ]
  },
  {
   "cell_type": "raw",
   "metadata": {},
   "source": [
    "Réponse : "
   ]
  },
  {
   "cell_type": "markdown",
   "metadata": {},
   "source": [
    "\n",
    "\n",
    "  **b)** Evaluer le nombre d'opérations effectuées lorsque $n=20$."
   ]
  },
  {
   "cell_type": "raw",
   "metadata": {},
   "source": [
    "Réponse : "
   ]
  },
  {
   "cell_type": "markdown",
   "metadata": {},
   "source": [
    "\n",
    " **c)** Quel est en fonction de $n$ le nombre d'opérations effectuées ?"
   ]
  },
  {
   "cell_type": "raw",
   "metadata": {},
   "source": [
    "Réponse : "
   ]
  },
  {
   "cell_type": "markdown",
   "metadata": {},
   "source": [
    "### 1.3 Lorsque $n$ est très grand."
   ]
  },
  {
   "cell_type": "markdown",
   "metadata": {},
   "source": [
    "  \n",
    "  Voici une implémentation dans le langage python de cet algorithme :"
   ]
  },
  {
   "cell_type": "code",
   "execution_count": 2,
   "metadata": {},
   "outputs": [
    {
     "data": {
      "text/plain": [
       "243"
      ]
     },
     "execution_count": 2,
     "metadata": {},
     "output_type": "execute_result"
    }
   ],
   "source": [
    "def puissance(a,n):\n",
    "    p = 1\n",
    "    k = 0\n",
    "    while k != n:\n",
    "        p = p * a\n",
    "        k = k + 1\n",
    "    return p\n",
    "\n",
    "puissance(3,5) # Appel de cette fonction à cette ligne."
   ]
  },
  {
   "cell_type": "markdown",
   "metadata": {},
   "source": [
    "  \n",
    "  A l'aide d'un chronomètre, mesurer le temps d'éxécution de ce programme lorsque l'on appelle cette fonction avec $a=3$ et $n=500000$, puis $n=1000000$ :"
   ]
  },
  {
   "cell_type": "raw",
   "metadata": {},
   "source": [
    "Temps approximatif d'éxécution pour n = 500000 : \n",
    "Temps approximatif d'éxécution pour n = 1000000 : "
   ]
  },
  {
   "cell_type": "markdown",
   "metadata": {},
   "source": [
    "### 1.4 Une représentation graphique."
   ]
  },
  {
   "cell_type": "markdown",
   "metadata": {},
   "source": [
    "  \n",
    "  **a)** L'instruction \" %timeit \" mesure le temps d'exécution d'une instruction ou d'une expression. Le code est exécuté plusieurs fois et le temps moyen d'exécution est affiché.  \n",
    "  Exécuter le code ci-dessous en changeant la valeur de $n$ à chaque fois et noter les résultats ci-après :"
   ]
  },
  {
   "cell_type": "code",
   "execution_count": 5,
   "metadata": {},
   "outputs": [
    {
     "name": "stdout",
     "output_type": "stream",
     "text": [
      "8.56 s ± 84 ms per loop (mean ± std. dev. of 7 runs, 1 loop each)\n"
     ]
    }
   ],
   "source": [
    "%timeit puissance(3,500000)"
   ]
  },
  {
   "cell_type": "raw",
   "metadata": {},
   "source": [
    "Valeur de n :  10000                   Temps d'éxécution : \n",
    "Valeur de n :  100000                  Temps d'éxécution : \n",
    "Valeur de n :  500000                  Temps d'éxécution : "
   ]
  },
  {
   "cell_type": "markdown",
   "metadata": {},
   "source": [
    "  \n",
    "  **b)** Exécuter le code ci-dessous, et soyez patients...\n",
    "    \n",
    "  Cela vous semble-t-il cohérent avec tous les résultats précédents ?"
   ]
  },
  {
   "cell_type": "raw",
   "metadata": {},
   "source": [
    "Réponse : "
   ]
  },
  {
   "cell_type": "code",
   "execution_count": 6,
   "metadata": {},
   "outputs": [
    {
     "data": {
      "image/png": "[encoded data removed]",
      "text/plain": [
       "<Figure size 1440x432 with 1 Axes>"
      ]
     },
     "metadata": {
      "needs_background": "light"
     },
     "output_type": "display_data"
    }
   ],
   "source": [
    "import timeit\n",
    "%matplotlib inline\n",
    "import matplotlib.pyplot as plt\n",
    "\n",
    "valeurs_n = list(range(1,21,1)) + list(range(20,1020,20))\n",
    "temps1_n = []\n",
    "\n",
    "for n in valeurs_n :\n",
    "    temps1_n.append(min(timeit.Timer('''from __main__ import puissance ; puissance(3,{})'''.format(n)).repeat(repeat=5, number = 1000))/1000)\n",
    "\n",
    "plt.rcParams.update({'font.size': 16}) \n",
    "plt.figure(figsize=(20, 6))\n",
    "plt.plot(valeurs_n , temps1_n , alpha=0.8, marker='o', lw=3)\n",
    "plt.xlabel('Exposant n')\n",
    "plt.ylabel('Temps de calcul (s)')\n",
    "plt.grid()\n",
    "plt.show()\n"
   ]
  },
  {
   "cell_type": "markdown",
   "metadata": {},
   "source": [
    "## 2. Un deuxième algorithme"
   ]
  },
  {
   "cell_type": "markdown",
   "metadata": {},
   "source": [
    "\n",
    "\n",
    "Voici un autre algorithme qui permet de calculer le nombre $a^n$ :\n",
    "\n",
    "\n",
    "Cette fois, pour calculer $a^5$, cet algorithme effectue les calculs $(a\\times(a\\times a)^2))$"
   ]
  },
  {
   "cell_type": "markdown",
   "metadata": {},
   "source": [
    "$\\\\\n",
    "\\\\\n",
    "(1)\\;Fonction\\; puissance\\_rapide(a,n):\\\\\n",
    "(2)\\; \\; \\; \\; \\; \\; \\; \\; p \\leftarrow 1 \\\\\n",
    "(3)\\; \\; \\; \\; \\; \\; \\; \\; b \\leftarrow a \\\\\n",
    "(4)\\; \\; \\; \\; \\; \\; \\; \\; m \\leftarrow n \\\\\n",
    "(5)\\; \\; \\; \\; \\; \\; \\; \\; Tant\\; que\\; m > 0 \\\\ \n",
    "(6)\\; \\; \\; \\; \\; \\; \\; \\; \\; \\; \\; \\; Si \\; m \\% 2 = 1 \\\\\n",
    "(7)\\; \\; \\; \\; \\; \\; \\; \\; \\; \\; \\; \\; \\; \\; \\; \\; p \\leftarrow p * b \\\\\n",
    "(8)\\; \\; \\; \\; \\; \\; \\; \\; \\; \\; \\; \\; b \\leftarrow b * b \\\\\n",
    "(9)\\; \\; \\; \\; \\; \\; \\; \\; \\; \\; \\; \\; m \\leftarrow m // 2 \\\\\n",
    "(10)\\; \\; \\; \\; \\; \\; \\; Fin\\; Tant\\; que \\\\\n",
    "(11)\\;Renvoyer \\; p $"
   ]
  },
  {
   "cell_type": "markdown",
   "metadata": {},
   "source": [
    "### 2.1 Compléter les traces suivantes."
   ]
  },
  {
   "cell_type": "markdown",
   "metadata": {},
   "source": [
    "\n",
    "\n",
    "**a)** On suppose que $a = 3$ et que $n=5$ :"
   ]
  },
  {
   "cell_type": "raw",
   "metadata": {},
   "source": [
    "ligne | p   | b    | m\n",
    "(1)   | ?   | ?    | ?\n",
    "(2)   | 1   | ?    | ?\n",
    "(3)   | 1   | 3    | ?\n",
    "(4)   | 1   | 3    | 5\n",
    "\n",
    "(5)   | 1   | 3    | 5\n",
    "(6)   | 1   | 3    | 5\n",
    "(7)   | 3   | 3    | 5\n",
    "(8)   | 3   | 9    | 5\n",
    "(9)   | 3   | 9    | 2\n",
    "\n",
    "(5)   | .   | .    | .\n",
    "(6)   | .   | .    | .\n",
    "(8)   | .   | ..   | .\n",
    "(9)   | .   | ..   | .\n",
    "\n",
    "(5)   | .   | ..   | .\n",
    "(6)   | .   | ..   | .\n",
    "(7)   | .   | ..   | .\n",
    "(8)   | ... | .... | .\n",
    "(9)   | ... | .... | .\n",
    "\n",
    "(10)  | ... | .... | .\n",
    "\n",
    "(11)  | ... | .... | .\n",
    "\n"
   ]
  },
  {
   "cell_type": "markdown",
   "metadata": {},
   "source": [
    "\n",
    "\n",
    "**b)** On suppose que $a = 3$ et que $n=6$ :"
   ]
  },
  {
   "cell_type": "raw",
   "metadata": {},
   "source": [
    "ligne | p   | b    | m\n",
    "(1)   | ?   | ?    | ?\n",
    "(2)   | 1   | ?    | ?\n",
    "(3)   | 1   | 3    | ?\n",
    "(4)   | 1   | 3    | 6\n",
    "\n",
    "(5)   | .   | .    | .\n",
    "(6)   | .   | .    | .\n",
    "(8)   | .   | .    | .\n",
    "(9)   | .   | .    | .\n",
    "\n",
    "(5)   | .   | .    | .\n",
    "(6)   | .   | .    | .\n",
    "(7)   | .   | .    | .\n",
    "(8)   | .   | ..   | .\n",
    "(9)   | .   | ..   | .\n",
    "\n",
    "(5)   | .   | ..   | .\n",
    "(6)   | .   | ..   | .\n",
    "(7)   | ... | ..   | .\n",
    "(8)   | ... | .... | .\n",
    "(9)   | ... | .... | .\n",
    "\n",
    "(10)  | ... | .... | .\n",
    "\n",
    "(11)  | ... | .... | .\n",
    "\n"
   ]
  },
  {
   "cell_type": "markdown",
   "metadata": {},
   "source": [
    "\n",
    "\n",
    "**c)** On suppose que $a = 3$ et que $n=8$ :"
   ]
  },
  {
   "cell_type": "raw",
   "metadata": {},
   "source": [
    "ligne | p    | b        | m\n",
    "(1)   | .    | .        | .\n",
    "(2)   | .    | .        | .\n",
    "(3)   | .    | .        | .\n",
    "(4)   | .    | .        | .\n",
    "\n",
    "(5)   | .    | .        | .\n",
    "(6)   | .    | .        | .\n",
    "(8)   | .    | .        | .\n",
    "(9)   | .    | .        | .\n",
    "\n",
    "(5)   | .    | .        | .\n",
    "(6)   | .    | .        | .\n",
    "(8)   | .    | ..       | .\n",
    "(9)   | .    | ..       | .\n",
    "\n",
    "(5)   | .    | ..       | .\n",
    "(6)   | .    | ..       | .\n",
    "(8)   | .    | ....     | .\n",
    "(9)   | .    | ....     | .\n",
    "\n",
    "(5)   | .    | ....     | .\n",
    "(6)   | .    | ....     | .\n",
    "(7)   | .... | ....     | .\n",
    "(8)   | .... | ........ | .\n",
    "(9)   | .... | ........ | .\n",
    "\n",
    "(10)  | .... | ........ | .\n",
    "\n",
    "(11)  | .... | ........ | ."
   ]
  },
  {
   "cell_type": "markdown",
   "metadata": {},
   "source": [
    "### 2.2 Nombre d'opérations."
   ]
  },
  {
   "cell_type": "markdown",
   "metadata": {},
   "source": [
    "Evaluer pour $n=5$ le nombre d'OPEL réalisées par cet algorithme.\n",
    "\n"
   ]
  },
  {
   "cell_type": "raw",
   "metadata": {},
   "source": [
    "Réponse : "
   ]
  },
  {
   "cell_type": "markdown",
   "metadata": {},
   "source": [
    "### 2.3 Lorsque $n$ est très grand."
   ]
  },
  {
   "cell_type": "markdown",
   "metadata": {},
   "source": [
    "\n",
    "Voici une implémentation de cet algorithme en langage python."
   ]
  },
  {
   "cell_type": "code",
   "execution_count": 8,
   "metadata": {},
   "outputs": [
    {
     "data": {
      "text/plain": [
       "243"
      ]
     },
     "execution_count": 8,
     "metadata": {},
     "output_type": "execute_result"
    }
   ],
   "source": [
    "def puissance_rapide(a,n):\n",
    "    p = 1\n",
    "    b = a\n",
    "    m = n\n",
    "    while m > 0 :\n",
    "        if m % 2 == 1 :\n",
    "            p = p * b\n",
    "        b = b * b\n",
    "        m = m // 2\n",
    "    return p\n",
    "\n",
    "puissance_rapide(3,5) # Appel de cette fonction à cette ligne."
   ]
  },
  {
   "cell_type": "markdown",
   "metadata": {},
   "source": [
    " A l'aide d'un chronomètre, mesurer le temps d'éxécution de ce programme lorsque l'on appelle cette fonction avec $a=3$ et $n=500000$, puis $n=1000000$ :"
   ]
  },
  {
   "cell_type": "raw",
   "metadata": {},
   "source": [
    "Temps approximatif d'éxécution pour n = 500000 : \n",
    "Temps approximatif d'éxécution pour n = 1000000 : "
   ]
  },
  {
   "cell_type": "markdown",
   "metadata": {},
   "source": [
    "### 2.4 Une représentation graphique."
   ]
  },
  {
   "cell_type": "markdown",
   "metadata": {},
   "source": [
    "  **a)** Exécuter le code ci-dessous, et patience..."
   ]
  },
  {
   "cell_type": "code",
   "execution_count": 9,
   "metadata": {},
   "outputs": [],
   "source": [
    "temps2_n = []\n",
    "\n",
    "for n in valeurs_n :\n",
    "    temps2_n.append(min(timeit.Timer('''from __main__ import puissance_rapide ; puissance_rapide(3,{})'''.format(n)).repeat(repeat=5, number = 1000))/1000)"
   ]
  },
  {
   "cell_type": "markdown",
   "metadata": {},
   "source": [
    "  **b)** Exécuter le code ci-dessous et comparer les deux courbes.\n",
    "  \n",
    "  On pourra faire varier les paramètres dans la ligne plt.ylim (échelle de l'axe des ordonnées)"
   ]
  },
  {
   "cell_type": "code",
   "execution_count": null,
   "metadata": {},
   "outputs": [],
   "source": [
    "plt.rcParams.update({'font.size': 16})\n",
    "plt.figure(figsize=(20, 6))\n",
    "plt.ylim([0.0,0.00035])\n",
    "plt.plot(valeurs_n , temps1_n , label='Algorithme 1' , alpha=0.8, marker='o', lw=3)\n",
    "plt.plot(valeurs_n , temps2_n , label='Algorithme 2' , alpha=0.8, marker='o', lw=3)\n",
    "plt.xlabel('Exposant n')\n",
    "plt.ylabel('Temps de calcul (ms)')\n",
    "plt.legend(loc=4)\n",
    "plt.grid()\n",
    "plt.show()"
   ]
  },
  {
   "cell_type": "markdown",
   "metadata": {},
   "source": [
    "  **c)** Interpréter les résultats obtenus."
   ]
  },
  {
   "cell_type": "raw",
   "metadata": {},
   "source": [
    "Réponse : "
   ]
  },
  {
   "cell_type": "markdown",
   "metadata": {},
   "source": [
    "## 3. Complexité"
   ]
  },
  {
   "cell_type": "markdown",
   "metadata": {},
   "source": [
    "\n",
    "\n",
    "* Pour mesurer l'efficacité d'un algorithme, on peut étudier son temps d'éxécution (on pourrait aussi s'intéresser à l'espace mémoire dont il a besoin).\n",
    "\n",
    "* Pour estimer le temps d'éxécution, indépendemment des performances de la machine ou du langage de programmation utilisé, on compte le nombre d'opérations élémentaires effectuées par l'algorithme. \n",
    "\n",
    "* Plutôt que de déterminer exactement ce nombre, on cherche un ordre de grandeur. \n",
    "\n",
    "* Cet ordre de grandeur dépend de la taille de l'entrée (ici de la valeur de l'exposant).\n",
    "\n",
    "* On parle de compléxité :\n",
    " - Celle du premier algorithme est de l'ordre de $n$ ( notée $\\mathcal{O}(n)$), elle est dite linéaire.\n",
    " - Celle du second algorithme est de l'ordre du logarithme en base 2 de $n$ ( notée $\\mathcal{O}(log_2(n)$) , du nom d'une fonction que vous étudierez en terminale.\n",
    " \n",
    " \n",
    " Exemple : pour calculer $3^{100000}$\n",
    " * Le premier algorithme effectue un nombre d'opérations de l'ordre de $100000$.\n",
    " * Le deuxième algorithme effectue un nombre d'opérations de l'ordre de $log_2(100000)\\simeq 17$.\n",
    " "
   ]
  },
  {
   "cell_type": "markdown",
   "metadata": {},
   "source": [
    "### 3.1 Déterminer le nombre d'opérations élémentaires pour calculer $5^{3000000}$ avec l'algorithme 1."
   ]
  },
  {
   "cell_type": "raw",
   "metadata": {},
   "source": [
    "Réponse : "
   ]
  },
  {
   "cell_type": "markdown",
   "metadata": {},
   "source": [
    "### 3.2 Même question avec l'algorithme 2."
   ]
  },
  {
   "cell_type": "raw",
   "metadata": {},
   "source": [
    "Réponse : "
   ]
  },
  {
   "cell_type": "markdown",
   "metadata": {},
   "source": [
    "## 4. Quelques ordres de grandeurs"
   ]
  },
  {
   "cell_type": "markdown",
   "metadata": {},
   "source": [
    "Pour aller plus loin, quel algorithme utilise la fonction math.pow ?"
   ]
  },
  {
   "cell_type": "code",
   "execution_count": 1,
   "metadata": {},
   "outputs": [
    {
     "ename": "NameError",
     "evalue": "name 'valeurs_n' is not defined",
     "output_type": "error",
     "traceback": [
      "\u001b[1;31m---------------------------------------------------------------------------\u001b[0m",
      "\u001b[1;31mNameError\u001b[0m                                 Traceback (most recent call last)",
      "\u001b[1;32m<ipython-input-1-efc21bcf2de7>\u001b[0m in \u001b[0;36m<module>\u001b[1;34m\u001b[0m\n\u001b[0;32m      1\u001b[0m \u001b[0mtemps3_n\u001b[0m \u001b[1;33m=\u001b[0m \u001b[1;33m[\u001b[0m\u001b[1;33m]\u001b[0m\u001b[1;33m\u001b[0m\u001b[1;33m\u001b[0m\u001b[0m\n\u001b[0;32m      2\u001b[0m \u001b[1;33m\u001b[0m\u001b[0m\n\u001b[1;32m----> 3\u001b[1;33m \u001b[1;32mfor\u001b[0m \u001b[0mn\u001b[0m \u001b[1;32min\u001b[0m \u001b[0mvaleurs_n\u001b[0m\u001b[1;33m:\u001b[0m\u001b[1;33m\u001b[0m\u001b[1;33m\u001b[0m\u001b[0m\n\u001b[0m\u001b[0;32m      4\u001b[0m     \u001b[0mtemps3_n\u001b[0m\u001b[1;33m.\u001b[0m\u001b[0mappend\u001b[0m\u001b[1;33m(\u001b[0m\u001b[0mmin\u001b[0m\u001b[1;33m(\u001b[0m\u001b[0mtimeit\u001b[0m\u001b[1;33m.\u001b[0m\u001b[0mTimer\u001b[0m\u001b[1;33m(\u001b[0m\u001b[1;34m'''from math import pow ; pow(2,{})'''\u001b[0m\u001b[1;33m.\u001b[0m\u001b[0mformat\u001b[0m\u001b[1;33m(\u001b[0m\u001b[0mn\u001b[0m\u001b[1;33m)\u001b[0m\u001b[1;33m)\u001b[0m\u001b[1;33m.\u001b[0m\u001b[0mrepeat\u001b[0m\u001b[1;33m(\u001b[0m\u001b[0mrepeat\u001b[0m\u001b[1;33m=\u001b[0m\u001b[1;36m5\u001b[0m\u001b[1;33m,\u001b[0m \u001b[0mnumber\u001b[0m\u001b[1;33m=\u001b[0m\u001b[1;36m1000\u001b[0m\u001b[1;33m)\u001b[0m\u001b[1;33m)\u001b[0m\u001b[1;33m/\u001b[0m\u001b[1;36m1000\u001b[0m\u001b[1;33m)\u001b[0m\u001b[1;33m\u001b[0m\u001b[1;33m\u001b[0m\u001b[0m\n",
      "\u001b[1;31mNameError\u001b[0m: name 'valeurs_n' is not defined"
     ]
    }
   ],
   "source": [
    "temps3_n = []\n",
    "\n",
    "for n in valeurs_n:\n",
    "    temps3_n.append(min(timeit.Timer('''from math import pow ; pow(2,{})'''.format(n)).repeat(repeat=5, number=1000))/1000)"
   ]
  },
  {
   "cell_type": "markdown",
   "metadata": {},
   "source": [
    "Et l'opérateur $**$ ?"
   ]
  },
  {
   "cell_type": "code",
   "execution_count": 12,
   "metadata": {},
   "outputs": [],
   "source": [
    "temps4_n = []\n",
    "\n",
    "for n in valeurs_n:\n",
    "    temps4_n.append(min(timeit.Timer('''3**{}'''.format(n)).repeat(repeat=5, number=1000))/1000)"
   ]
  },
  {
   "cell_type": "markdown",
   "metadata": {},
   "source": [
    "Comparons les courbes :"
   ]
  },
  {
   "cell_type": "code",
   "execution_count": null,
   "metadata": {},
   "outputs": [],
   "source": [
    "plt.rcParams.update({'font.size': 16})\n",
    "plt.figure(figsize=(20, 6))\n",
    "plt.ylim([0.0,0.00035])\n",
    "plt.plot(valeurs_n , temps1_n , label='Algorithme 1' , alpha=0.8, marker='o', lw=3)\n",
    "plt.plot(valeurs_n , temps2_n , label='Algorithme 2' , alpha=0.8, marker='o', lw=3)\n",
    "plt.plot(valeurs_n , temps3_n , label='math.pow' , alpha=0.8, marker='o', lw=3)\n",
    "plt.plot(valeurs_n , temps4_n , label='**' , alpha=0.8, marker='o', lw=3)\n",
    "plt.xlabel('Exposant n')\n",
    "plt.ylabel('Temps de calcul (ms)')\n",
    "plt.legend(loc=4)\n",
    "plt.grid()\n",
    "plt.show()"
   ]
  },
  {
   "cell_type": "markdown",
   "metadata": {},
   "source": [
    "### 4.1 Cette représentation graphique semble-t-elle facile à interpréter ?"
   ]
  },
  {
   "cell_type": "raw",
   "metadata": {},
   "source": [
    "Réponse :"
   ]
  },
  {
   "cell_type": "markdown",
   "metadata": {},
   "source": [
    "### 4.2 Proposer une modification du code, puis le tester."
   ]
  },
  {
   "cell_type": "raw",
   "metadata": {},
   "source": [
    "Réponse :"
   ]
  }
 ],
 "metadata": {
  "kernelspec": {
   "display_name": "Python 3",
   "language": "python",
   "name": "python3"
  },
  "language_info": {
   "codemirror_mode": {
    "name": "ipython",
    "version": 3
   },
   "file_extension": ".py",
   "mimetype": "text/x-python",
   "name": "python",
   "nbconvert_exporter": "python",
   "pygments_lexer": "ipython3",
   "version": "3.7.2"
  }
 },
 "nbformat": 4,
 "nbformat_minor": 2
}
