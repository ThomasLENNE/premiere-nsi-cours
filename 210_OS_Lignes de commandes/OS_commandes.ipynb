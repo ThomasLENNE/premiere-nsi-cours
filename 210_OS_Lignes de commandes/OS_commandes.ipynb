{
 "cells": [
  {
   "cell_type": "markdown",
   "metadata": {},
   "source": [
    "<div class =\"alert alert-warning\">   \n",
    "    \n",
    "    \n",
    "notebook consultable, exécutable, modifiable et téléchargeable en ligne :     \n",
    "    \n",
    "\t\n",
    "- se rendre à : https://github.com/nsi-acot/continuite_pedagogique_premiere\n",
    "- cliquer sur l'icone \"launch binder\" en bas de page\n",
    "- patienter quelques secondes que le serveur Jupyter démarre\n",
    "- naviguer dans le dossier `\"./arch_mat_et_os/os/\"`\n",
    "- cliquer sur le nom de ce notebook\n",
    "</div>"
   ]
  },
  {
   "cell_type": "markdown",
   "metadata": {},
   "source": [
    "# <center> Systèmes d'exploitation </center>\n",
    "<img align=center src='OS_logos.jpg' width=400>"
   ]
  },
  {
   "cell_type": "markdown",
   "metadata": {},
   "source": [
    "## 1. Principales fonctions"
   ]
  },
  {
   "cell_type": "markdown",
   "metadata": {},
   "source": [
    "<a href=\"https://www.youtube.com/watch?time_continue=211&v=AcZ87MTiXr4\" > <img style='float:right;' src='youtube1.jpg' width=400/></a>Après avoir regardé la vidéo ci-contre répondre aux questions ci-dessous :"
   ]
  },
  {
   "cell_type": "markdown",
   "metadata": {},
   "source": [
    "### Exercice 1 :\n",
    "1. Citer des exemples de systèmes d'exploitations.<img style='float:right;' src='schema1.jpg' width=150>\n",
    "2. Expliquer le schéma ci-contre  :\n",
    "3. Quelles sont les quatre composantes principales d'un système d'exploitation ?\n",
    "    "
   ]
  },
  {
   "cell_type": "markdown",
   "metadata": {},
   "source": [
    "Réponses :\n",
    "   1. \n",
    "   2. \n",
    "   3. \n",
    "       * \n",
    "       * \n",
    "       * \n",
    "       * "
   ]
  },
  {
   "cell_type": "markdown",
   "metadata": {},
   "source": [
    "### Exercice 2 : ouvrir gestionnaire des tâches\n",
    "Ouvrir le gestionnaire des tâches sur votre ordinateur (`Ctrl+Alt+Suprr` sous Windows ou bien `Système > Gestionnaire des tâches` sous Linux).\n",
    "<img src='processus.jpg' align=center width=800>\n",
    "\n",
    "\n",
    "Déterminer le nombre de processus en train de s'éxécuter."
   ]
  },
  {
   "cell_type": "markdown",
   "metadata": {},
   "source": [
    "Réponses :\n",
    "    "
   ]
  },
  {
   "cell_type": "markdown",
   "metadata": {},
   "source": [
    "## 2. Systèmes libres et propriétaires\n"
   ]
  },
  {
   "cell_type": "markdown",
   "metadata": {},
   "source": [
    "### Qu'est-ce qu'un logiciel libre ?\n",
    "<div style='overflow:auto;'>\n",
    "<a href = 'https://education.francetv.fr/matiere/technologie/seconde/video/comprendre-les-logiciels-libres-1-2'><img style='float:right;'src='loglibre.jpg' width = 300></a>\n",
    "Regarder l'interview de Philippe LHARDY de l'association Linux Azur, puis répondre aux questions ci-dessous\n",
    "</div>"
   ]
  },
  {
   "cell_type": "markdown",
   "metadata": {},
   "source": [
    "###  Exercice 3 :\n",
    " 1. Quelles sont les 4 libertés que doit proposer un logiciel libre ?\n",
    " 2. Donner quelques exemples de logiciels libres"
   ]
  },
  {
   "cell_type": "markdown",
   "metadata": {},
   "source": [
    "Réponses :\n",
    "   1. \n",
    "     * \n",
    "     * \n",
    "     *  \n",
    "     * \n",
    "     \n",
    "     \n",
    "   2. \n",
    "     * \n",
    "     * \n",
    "     * "
   ]
  },
  {
   "cell_type": "markdown",
   "metadata": {},
   "source": [
    "### Exercice 4 : \n",
    "Voici une liste de systèmes d'exploitations. Pour chacun d'entre eux, indiquer s'il s'agit d'un système libre ou propriétaire : \n",
    "* Windows :\n",
    "* MacOs :\n",
    "* Windows Server :\n",
    "* Linux :\n",
    "* iOS : \n",
    "* android : "
   ]
  },
  {
   "cell_type": "markdown",
   "metadata": {},
   "source": [
    "Réponses  :\n",
    "\n",
    "* Windows : \n",
    "* MacOs : \n",
    "* Windows Server : \n",
    "* Linux : \n",
    "* iOS : \n",
    "* android : "
   ]
  },
  {
   "cell_type": "markdown",
   "metadata": {},
   "source": [
    "### Un système d'exploitation libre : Linux"
   ]
  },
  {
   "cell_type": "markdown",
   "metadata": {},
   "source": [
    "Regarder la vidéo ci-contre puis répondre aux questions ci-dessous.<a href='https://www.youtube.com/watch?v=Uq5ddTUtDkM'><img style='float:right;' src='linuxstory.jpg' width=300></a>"
   ]
  },
  {
   "cell_type": "markdown",
   "metadata": {},
   "source": [
    "### Exercice 5 : \n",
    " 1. En quelle année est né Linux ?\n",
    " 2. Qui est son concepteur ?\n",
    " 3. Mais au fait, qu'est-ce que Linux ?"
   ]
  },
  {
   "cell_type": "markdown",
   "metadata": {},
   "source": [
    "Réponses:\n",
    " 1. \n",
    " 2. \n",
    " 3. "
   ]
  },
  {
   "cell_type": "markdown",
   "metadata": {},
   "source": [
    "## 3. Systèmes de fichiers"
   ]
  },
  {
   "cell_type": "markdown",
   "metadata": {},
   "source": [
    "\n",
    " * <div style='overflow:auto;'><img style='float:right;' src='card.jpg' width=300>Pour les premiers ordinateurs, les données étaient écrites sous forme de cartes perforées(des fiches).</div>\n",
    "\n",
    "\n",
    "\n",
    "\n",
    " * <div style='overflow:auto;'><img style='float:left;' src='NARA.jpg' width=300>Il fallait bien les organiser et les stocker quelque part...Ci-contre : Archivage de cartons de cartes perforées archivés au service du NARA( National Archives and Records Administration) en 1959. Chaque carton peut contenir 2 000 cartes.</div>\n",
    " \n",
    " \n",
    " \n",
    " *  <div style='overflow:auto;'>Aujourd'hui, un fichier est une suite de bits formatée à laquelle on a donné un nom.:<img style='float:center;' src='format.jpg' width=800></div>\n",
    " "
   ]
  },
  {
   "cell_type": "markdown",
   "metadata": {},
   "source": [
    "### Deux exemples d'organisations : L'arbre(linux) et la forêt(windows)\n",
    "####  Sous Linux, comme un arbre :\n",
    "\n",
    "<div style=\"overflow:auto;\"><img style=\"float:right;\" src=\"linuxtree.png\" width=300> Dans les systèmes de type Linux, toute l’information stockée dans vos supports de stockage (disques durs, clé USB, cartes SD, CD-ROM, etc.) est nécessairement accessible en suivant un chemin partant d'un emplacement logique appelée la racine (notée par une simple barre oblique `/` ).\n",
    "\n",
    "La racine symbolise une partition définie comme étant la base du stockage de vos fichiers. Puis, cette base se sépare (comme des branches d’un arbre) logiquement en répertoires (dossiers), eux-mêmes séparés en sous-répertoires et sous-sous-répertoires, etc. dans lesquels sont enregistrés les fichiers (symboliquement, les feuilles de l’arbre).\n",
    "</div>\n",
    "\n",
    "\n",
    "#### Sous Windows, comme une forêt :\n",
    "<div style=\"overflow:auto;\"><img style=\"float:right;\" src=\"windowsforet.png\" width=300> Dans le système Windows, chaque périphérique possède sa propre racine, identifiée par une lettre (disque dur, clé usb, lecteur dvd,...).La répartition suit ensuite le principe de l'arbre avec des répertoires, des sous répertoires et des fichiers. Ce système est donc un ensemble d'arbres.\n",
    "</div>"
   ]
  },
  {
   "cell_type": "markdown",
   "metadata": {},
   "source": [
    "### Chemins absolus et relatifs.\n",
    "Pour indiquer la position d'un fichier (ou d'un répertoire) dans l'arborescence, il existe 2 méthodes : indiquer un chemin absolu ou indiquer un chemin relatif. \n",
    "\n",
    "\n",
    "* Le chemin absolu se décrit depuis la racine. Par exemple, dans l'arborescence Linux, le chemin absolu du fichier `fiche.ods` sera : `/home/elsa/documents/fiche.ods` ce chemin démarre bien de la racine `/` (les symboles de séparation sont aussi des `/`).\n",
    "\n",
    "* Il est possible d'indiquer le chemin non pas depuis la racine, mais depuis un répertoire quelconque, nous parlerons alors de chemin relatif. Le chemin relatif permettant d'accéder au fichier `photo_1.jpg` depuis le répertoire `max` est : `images/photo_vac/photo_1.jpg` . On remarque l’absence du `/` au début du chemin (c'est cela qui nous permettra de distinguer un chemin relatif et un chemin absolu). \n",
    "\n",
    "Vocabulaire : On dit que le répertoire `photo_vac` est un répertoire enfant du répertoire `image`.\n",
    "\n",
    "* Imaginons maintenant que nous désirions indiquer le chemin relatif pour accéder au fichier `gdbd_3.jpg` depuis le répertoire `photos_vac`. Comment faire ? Il faut \"remonter\" d'un \"niveau\" dans l'arborescence pour se retrouver dans le répertoire \"images\" et ainsi pouvoir repartir vers la bonne \"branche\". Pour ce faire il faut utiliser 2 points : `..`\n",
    "`../ski/gdbd_3.jpg`\n",
    "\n",
    "Vocabulaire : On dit que le répertoire `images` est le répertoire parent du répertoire `ski`.\n",
    "\n",
    "Remarques : Le principe est le même sous Windows . Cependant, on utilse `/` comme séparateur sous Linux et `\\` sous Windows."
   ]
  },
  {
   "cell_type": "markdown",
   "metadata": {},
   "source": [
    "### Exercice 6 :\n",
    "1. En vous basant sur l'arborescence Linux ci-dessus, déterminez le chemin absolu permettant d'accéder au fichiers :\n",
    "  * `cat`\n",
    "  * `rapport.odt`\n",
    "2. Toujours en vous basant sur cette même arborescence, déterminez le chemin relatif permettant d'accéder au fichier :\n",
    "  * `rapport.odt` depuis le répertoire `elsa`\n",
    "  * `fiche.ods` depuis le répertoire `boulot`\n",
    "\n"
   ]
  },
  {
   "cell_type": "markdown",
   "metadata": {},
   "source": [
    "Réponses :\n",
    " 1. chemins absolus :\n",
    "  * \n",
    "  * \n",
    "  \n",
    " \n",
    " 2. chemins relatifs\n",
    "  * \n",
    "  * "
   ]
  },
  {
   "cell_type": "markdown",
   "metadata": {},
   "source": [
    "## 4. Lignes de commandes"
   ]
  },
  {
   "cell_type": "markdown",
   "metadata": {},
   "source": [
    "<div style='overflow:auto;'><img style='float:right;' src='schema2.jpg', width =200>Il est possible à l'utilisateur d'envoyer des instructions directement au système d'exploitation via une interface, une console dans laquelle on écrit les commandes</div>"
   ]
  },
  {
   "cell_type": "markdown",
   "metadata": {},
   "source": [
    "### Ouvrir une console\n",
    "#### Sous Windows\n",
    "<div style=\"overflow:auto;\"><img style=\"float:right;\" src=\"shelldos.jpg\" width=350>  Exécuter `cmd.exe` à partir de la barre de recherche ou dans la barre d'adresse de l'explorateur pour l'ouvrir à un endroit précis. Par défaut l'invite de commandes s'ouvre dans le répertoire de l'utilisateur.\n",
    "\n",
    "</div>\n",
    "\n",
    "#### Sous Linux\n",
    "<div style=\"overflow:auto;\"><img style=\"float:right;\" src=\"shelllinux.jpg\" width=350>  Exécuter le terminal à partir du menu principal(icône du système d'exploitation) ou par menu contextuel(clic droit) pour l'ouvrir à un endroit précis. Par défaut l'invite de commandes s'ouvre dans le répertoire de l'utilisateur.Le caractère `~` est un raccourci pour indiquer ici `/home/thomas`\n",
    "</div>"
   ]
  },
  {
   "cell_type": "markdown",
   "metadata": {},
   "source": [
    "### Quelques commandes Linux et Windows\n",
    "Certaines commandes sont similaires, certaines possèdent des options. Attention, sous Linux le séparateur dans l'arborescence est `/`, alors que pour Windows, c'est `\\` <img style='float:center;' src='commandes.jpg' width=600>"
   ]
  },
  {
   "cell_type": "markdown",
   "metadata": {},
   "source": [
    "### Exercice 7 : Réaliser cet exercice sous Windows et sous Linux\n",
    "En vous aidant de la liste ci-dessus, décrire les commandes à éxécuter pour :\n",
    "1. Afficher le contenu de votre dossier utilisateur.\n",
    "2. Créer un répertoire \"A\".\n",
    "3. Afficher le contenu du dossier utilisateur pour vérifier.\n",
    "4. Se placer dans le répertoire \"A\".\n",
    "5. Créer deux sous répertoire \"1\" et \"2\".\n",
    "6. Afficher le contenu du sous répertoires \"A\" pour vérifier.\n",
    "7. Se placer dans le répertoire \"1\".\n",
    "8. Créer un fichier \"toto.txt\" contenant le mot \"texte1\".\n",
    "9. Ajouter le mot \"texte2\" à ce fichier.\n",
    "10. Se placer dans le répertoire \"2\".\n",
    "11. Créer un fichier \"titi.txt\" contenant le mot \"texte2\".\n",
    "12. Remplacer le mot \"texte2\" par \"texte3\" dans ce fichier.\n",
    "13. Copier le fichier titi.txt dans le répertoire \"1\".\n",
    "14. Supprimer le répertoire \"2\" et son contenu\n",
    "\n"
   ]
  },
  {
   "cell_type": "markdown",
   "metadata": {},
   "source": [
    "Réponse Windows :\n",
    "1. \n",
    "2. \n",
    "3. \n",
    "4. \n",
    "5. \n",
    "6. \n",
    "7. \n",
    "8. \n",
    "9. \n",
    "10. \n",
    "11. \n",
    "12. \n",
    "13. \n",
    "14. `"
   ]
  },
  {
   "cell_type": "markdown",
   "metadata": {},
   "source": [
    "Réponse Linux :\n",
    "1. \n",
    "2. \n",
    "3. \n",
    "4. \n",
    "5. \n",
    "6. \n",
    "7. \n",
    "8. \n",
    "9. \n",
    "10. \n",
    "11. \n",
    "12. \n",
    "13. \n",
    "14. "
   ]
  },
  {
   "cell_type": "markdown",
   "metadata": {},
   "source": [
    "## 5. Permissions"
   ]
  },
  {
   "cell_type": "markdown",
   "metadata": {},
   "source": [
    "<a href= 'https://xkcd.com/149/'> <img style='float:right;' src='https://imgs.xkcd.com/comics/sandwich.png' width =200> </a>Dans les systèmes multi-utilisateurs,chaque utilisateur possède certains droits lui permettant d'effectuer certaines opérations et pas d'autres. Le système d'exploitation permet de gérer ces droits . Un utilisateur un peu particulier possède tous les droits : ce \"super utilisateur\" est appelé \"administrateur\"(commande `runas` sous Windows) ou \"root\"(commande `sudo` sous Linux). C'est cet \"administrateur\" qui pourra attribuer ou retirer certains droits aux autres utilisateurs. Au lieu de gérer les utilisateurs un par un, il est possible de créer des groupes d'utilisateurs. L'administrateur attribue des droits à un groupe au lieu d'attribuer des droits particuliers à chaque utilisateur.\n",
    "\n",
    "Nous nous intéresserons ici uniquement aux droits liés aux fichiers, mais vous devez savoir qu'il existe d'autres droits liés aux autres éléments du système d'exploitation (imprimante, installation de logiciels...)."
   ]
  },
  {
   "cell_type": "markdown",
   "metadata": {},
   "source": [
    "### Les droits des utilisateurs sous Linux\n",
    " * On définit trois type d'utilisateurs :\n",
    "   * Le propriétaire du fichier (user)\n",
    "   * Le groupe du propriétaire du fichier (group)\n",
    "   * Les autres utilisateurs, ou encore le reste du monde (others)\n",
    " \n",
    " \n",
    " * Et trois types de droits\n",
    "   * r (read): droit de lecture \n",
    "   * w (write): droit d'écriture, c'est à dire de modification \n",
    "   * x (execute): droit d'exécution si c'est un programme, d'accès aux sous-dossiers si c'est un répertoire"
   ]
  },
  {
   "cell_type": "markdown",
   "metadata": {},
   "source": [
    "<center>Observons la capture d'écran ci-dessous</center>.\n",
    "<img src='rights.jpg' style='float:center;' width=600>"
   ]
  },
  {
   "cell_type": "markdown",
   "metadata": {},
   "source": [
    "### Exercice 8 :\n",
    "1. Indiquer le chemin absolu dans lequel est ouverte la console.\n",
    "2. Que contient ce répertoire ?\n",
    "3. Qui est le proriétaire du fichier `read.me`?\n",
    "4. Comment s'appelle le groupe du propriétaire du fichier `read.me` ?\n",
    "5. Quels type de droits ce groupe a-t-il sur ce fichier ?"
   ]
  },
  {
   "cell_type": "markdown",
   "metadata": {},
   "source": [
    "Réponses :\n",
    "1. \n",
    "2. \n",
    "3. \n",
    "4. \n",
    "5. "
   ]
  },
  {
   "cell_type": "markdown",
   "metadata": {},
   "source": [
    "### Dans la console\n",
    "\n",
    "Onservons un peu plus en détail la capture d'écran.Les droits des fichiers d'un répertoire peuvent être affichés par la commande `ls -l`.\n",
    "Ils apparaissent alors comme une liste de 10 symboles :\n",
    "<img style='float:right;' src='rightsshell.jpg' width=350>\n",
    "* Le premier symbole est `-`  s'il s'agit d'un fichier, `d` s'il s'agit d'un dossier.\n",
    "* Suivent ensuite 3 groupes de 3 symboles chacun, indiquant si le fichier (ou répertoire) est autorisé en lecture, écriture ou exécution. Les 3 groupes correspondent, dans cet ordre, aux droits du propriétaire, du groupe puis du reste des utilisateurs. \n"
   ]
  },
  {
   "cell_type": "markdown",
   "metadata": {},
   "source": [
    "### Exercice 9 :\n",
    "1. Analyser les symboles `drwxrwx-x` sur la troisième ligne dans la console.\n",
    "2. Analyser ceux de la ligne suivante."
   ]
  },
  {
   "cell_type": "markdown",
   "metadata": {},
   "source": [
    "Réponses:  \n",
    "1. \n",
    "    * `d`: \n",
    "    * `rwx` : \n",
    "    * `rwx` : \n",
    "    * `r-x` : \n",
    " \n",
    "\n",
    "2. \n",
    "    * `-`: \n",
    "    * `rw-` : \n",
    "    * `rw-` : \n",
    "    * `r--` : "
   ]
  },
  {
   "cell_type": "markdown",
   "metadata": {},
   "source": [
    "### Gérer les droits d'un utilisateur sous Linux\n",
    "Le propriétaire d'un fichier peut modifier les permissions d'un fichier ou d'un répertoire à l'aide de la commande `chmod`. Pour utiliser cette commande, on l'associe à des symboles pour choisir :\n",
    "\n",
    "1. À qui s'applique le changement\n",
    "   * `u` (user, utilisateur) le \"propriétaire\"\n",
    "   * `g` (group, groupe) le \"groupe propriétaire\"\n",
    "   * `o` (others, autres) le \"reste du monde\"\n",
    "   * `a` (all, tous) représente l'ensemble des trois catégories\n",
    "   \n",
    "   \n",
    "2. La modification que l'on veut faire\n",
    "   *  `+` : ajouter\n",
    "   *  `-` : supprimer\n",
    "   *  `=` : affectation\n",
    "   \n",
    "   \n",
    "3. Le droit que l'on veut modifier\n",
    "   * `r` : read (lecture)\n",
    "   * `w` : write (écriture)\n",
    "   * `x` : execute (exécution)\n",
    "   "
   ]
  },
  {
   "cell_type": "markdown",
   "metadata": {},
   "source": [
    "### Exercice 10\n",
    "1. Que fait la commande `chmod a+w toto.txt` ?\n",
    "2. Que fait la commande `chmod o-wx toto.txt` ?\n",
    "3. Quelle commande permet d'oter la possibilité au groupe propriétiare de lire et écrire dans le fichier `toto.txt` ?"
   ]
  },
  {
   "cell_type": "markdown",
   "metadata": {},
   "source": [
    "Réponses:\n",
    " 1. \n",
    " 2. \n",
    " 3. "
   ]
  },
  {
   "cell_type": "markdown",
   "metadata": {},
   "source": [
    "### Exercice 11\n",
    "Dans cette console de commandes, expliquer les lignes numéro :<img style='float:right;' src='chmod.jpg' width=350>\n",
    "* 1 \n",
    "* 3 \n",
    "* 4  \n",
    "* 6\n",
    "* 7\n",
    "* 11\n",
    "* 12\n",
    "* 16\n",
    "* 17\n",
    "\n",
    "Remarque : la commande `touch`permet de créer un fichier vide.\n"
   ]
  },
  {
   "cell_type": "markdown",
   "metadata": {},
   "source": [
    "Réponse: l'utilisateur:\n",
    "* 1 : \n",
    "* 3 : \n",
    "* 4 : \n",
    "* 6 : \n",
    "* 7 : \n",
    "* 11: \n",
    "* 12: \n",
    "* 16: \n",
    "* 17: \n",
    "\n"
   ]
  },
  {
   "cell_type": "markdown",
   "metadata": {},
   "source": [
    "### Exercice 12: Indiquer les commandes Linux pour\n",
    "1. Créer un répertoire `B` dans votre répertoire `/home`\n",
    "2. Se placer dans le répertoire  `B`\n",
    "3. Créer le fichier `tutu.txt`\n",
    "4. Afficher les droits sur ce fichier\n",
    "5. Modifier les permissions associées à ce fichier afin que les \"autres utilisateurs\" aient la permission \"écriture\".\n",
    "6. Vérifier que la modification est effective"
   ]
  },
  {
   "cell_type": "markdown",
   "metadata": {},
   "source": [
    "Réponses :\n",
    "1. \n",
    "2. \n",
    "3. \n",
    "4. \n",
    "5. \n",
    "6. "
   ]
  },
  {
   "cell_type": "markdown",
   "metadata": {},
   "source": [
    "## 6. Exercices"
   ]
  },
  {
   "cell_type": "markdown",
   "metadata": {},
   "source": [
    "### Exercice 13: Fichier avec python\n",
    "La plupart des langages de programmation permet de manipuler les fichiers.Sous Python, l’accès aux fichiers est assuré par l’intermédiaire d’un objet-interface particulier, que l’on appelle objet-fichier. On crée cet objet à l’aide de la fonction intégrée `open()`. Celle-ci renvoie un objet doté de méthodes spécifiques, qui vont permettre de lire et écrire dans le fichier.\n",
    "\n",
    "Exemple ( à commenter) :"
   ]
  },
  {
   "cell_type": "code",
   "execution_count": 4,
   "metadata": {},
   "outputs": [],
   "source": [
    "# Exécuter le code ci-dessous\n",
    "nomfichier='preums.txt'\n",
    "fichier=open(nomfichier,'a')\n",
    "fichier.write('texte1')\n",
    "fichier.close()"
   ]
  },
  {
   "cell_type": "markdown",
   "metadata": {},
   "source": [
    "1. Retrouver le fichier créé par python et l'ouvrir.\n",
    "2. Dans le code ci-dessus , ajouter une instruction qui ajoute la chaîne `texte2` au fichier\n",
    "3. Ecrire ci-dessous un programme qui crée le fichier `deuz.txt`, qui contiendra la chaîne `texte3`"
   ]
  },
  {
   "cell_type": "markdown",
   "metadata": {},
   "source": [
    "Réponses :\n",
    "1. \n",
    "2. \n"
   ]
  },
  {
   "cell_type": "code",
   "execution_count": 1,
   "metadata": {},
   "outputs": [],
   "source": [
    "#3.\n"
   ]
  },
  {
   "cell_type": "markdown",
   "metadata": {},
   "source": [
    "### Exercice 14 : Fichiers avec python\n",
    "Ecrire la fonction `table(n)` qui prend en paramètre un entier naturel `n` et qui crée 9 fichiers contenant chacun un résultat de la table de multiplication par `n`. Par exemple, `table(3)` créera 9 fichiers : le premier s'appellera `1x3.txt` et contiendra `1x3=3`, le dernier s'appellera `9x3.txt` et contiendra `9x3=27`."
   ]
  },
  {
   "cell_type": "code",
   "execution_count": 2,
   "metadata": {},
   "outputs": [],
   "source": [
    "#Réponse\n",
    "def table(n):\n",
    "    pass\n",
    "        \n",
    "table(3)"
   ]
  },
  {
   "cell_type": "markdown",
   "metadata": {},
   "source": [
    "# <center>FIN</center>"
   ]
  }
 ],
 "metadata": {
  "kernelspec": {
   "display_name": "Python 3",
   "language": "python",
   "name": "python3"
  },
  "language_info": {
   "codemirror_mode": {
    "name": "ipython",
    "version": 3
   },
   "file_extension": ".py",
   "mimetype": "text/x-python",
   "name": "python",
   "nbconvert_exporter": "python",
   "pygments_lexer": "ipython3",
   "version": "3.7.2"
  }
 },
 "nbformat": 4,
 "nbformat_minor": 2
}
