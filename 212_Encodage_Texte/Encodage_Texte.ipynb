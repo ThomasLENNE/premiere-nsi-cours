{
 "cells": [
  {
   "cell_type": "markdown",
   "metadata": {},
   "source": [
    "# <center> REPRESENTATION DU TEXTE </center>"
   ]
  },
  {
   "cell_type": "markdown",
   "metadata": {},
   "source": [
    "<a href=\"https://www.youtube.com/watch?v=MijmeoH9LT4\">\n",
    "<img src=\"video_intro.jpg \" style=\"float: left;\" width=400 alt=\"video sur utf-8\"/>\n",
    "</a>\n",
    "Représenter du texte pour un ordinateur, c'est pouvoir identifier plus de cent mille caractères dans toutes les langues, rendre compatible tous les systèmes entre eux, tout cela dans un espace mémoire optimal !\n",
    "\n",
    "Cette vidéo retrace l'histoire d'un standard aujourd'hui majoritairement utilisé sur le web et en programmation : la norme Unicode.\n",
    "\n",
    "Elle est en anglais, on peut activer les sous-titres français dans les paramètres de la vidéo.\n"
   ]
  },
  {
   "cell_type": "markdown",
   "metadata": {},
   "source": [
    "## 1. ASCII "
   ]
  },
  {
   "cell_type": "markdown",
   "metadata": {},
   "source": [
    "<img style=\"float: right;\" src=\"ASCII.jpg\"  width = 200>Aux Etats-Unis, dans les années 1970, à l'origine du développement des technologies informatiques et alors que les capacités de mémorisation des ordinateurs étaient encore assez limitées, on n'imaginait pas que ceux-ci seraient utilisés un jour pour traiter d'autres textes que des communications techniques,essentiellement en anglais. Voici ci-contre les caractères affichables dont on avait besoin."
   ]
  },
  {
   "cell_type": "markdown",
   "metadata": {},
   "source": [
    "### Exercice 1:\n",
    "1. Combien de caractères trouve-t-on dans l'image ci-dessus ?\n",
    "2. Combien de bits sont nécessaires pour pouvoir représenter ces caractères ?"
   ]
  },
  {
   "cell_type": "markdown",
   "metadata": {},
   "source": [
    "Réponses :\n",
    "   1. \n",
    "   2. "
   ]
  },
  {
   "cell_type": "markdown",
   "metadata": {},
   "source": [
    "### A retenir :\n",
    "\n",
    "L'ASCII(American Standard Code for Information Interchange) définit 128 caractères associés aux entiers de 0 à 127 et codés en binaire de `00000000` à `11111111`. En plus des caractères affichables, ce standard attribue des valeurs à des caractères spéciaux invisibles (espace, effacer, retour à la ligne).\n",
    "Le codage s'effectue sur 8 bits (la plupart des ordinateurs utilisant des multiples de 8), le bit restant à gauche étant `0`. Ci-dessous, la table complète des caractères ASCII :\n",
    "<img style=\"float: center;\" src=\"ASCII-Table.jpg\"  width = 600>"
   ]
  },
  {
   "cell_type": "markdown",
   "metadata": {},
   "source": [
    "### Exercice 2:\n",
    " 1. Par quelle valeur décimale est codée 'A' ? Quelle est sa valeur en binaire ?\n",
    " 2. Par quelle valeur décimale est codée 'a' ? Quelle est sa valeur en binaire ?\n",
    " 3. Quel caractère est représenté par la valeur décimale $64$ ? Quelle est sa valeur en binaire ?\n",
    " 4. Quel caractère est représenté par la valeur décimale $32$ ? Quelle est sa valeur en binaire ?\n",
    " 5. Quelle lettre est représentée par `01000100` ?"
   ]
  },
  {
   "cell_type": "markdown",
   "metadata": {},
   "source": [
    "Réponses :\n",
    " 1. \n",
    " 2. \n",
    " 3. \n",
    " 4. \n",
    " 5. "
   ]
  },
  {
   "cell_type": "markdown",
   "metadata": {},
   "source": [
    "### Le saviez-vous ?\n",
    "\n",
    "Il est possible d'afficher à l'écran un caractère grâce à son code : \n",
    "Sous Windows, pour générer le caractère 'y', on peut utiliser la combinaison de touches `Alt`+`121`, 121 étant le code ASCII de cette lettre."
   ]
  },
  {
   "cell_type": "markdown",
   "metadata": {},
   "source": [
    "### Exercice 3 :\n",
    "Ecrire vos initiales avec des combinaisons de touches."
   ]
  },
  {
   "cell_type": "markdown",
   "metadata": {},
   "source": [
    "Réponses :\n",
    "   *  \n",
    "   *  "
   ]
  },
  {
   "cell_type": "markdown",
   "metadata": {},
   "source": [
    "## 2. Latin-1: ISO-8859-1"
   ]
  },
  {
   "cell_type": "markdown",
   "metadata": {},
   "source": [
    "La norme ASCII convient bien à la langue anglaise, mais pose des problèmes dans d'autres langues, par exemple le français(accents, tréma, cédille...).\n",
    "\n",
    "C'est pour répondre à ce problème qu'est née la norme ISO-8859-1. Cette norme étend le standard l'ASCII(les codes précédents restent valables) en utilisant le 8ème bit qui était `0`, ce qui permet donc d'encoder $128$ caractères supplémentaire. Il y a donc 256 caractères encodés.\n",
    "\n",
    "Cette norme va être principalement utilisée dans les pays européens puisqu'elle permet d'encoder les caractères utilisés dans les principales langues européennes (la norme ISO-8859-1 est aussi appelée \"Latin-1\" car elle permet d'encoder les caractères de l'alphabet dit \"latin\").\n",
    "\n",
    "Ci-dessous les valeurs utilisées par cet encodage :"
   ]
  },
  {
   "cell_type": "markdown",
   "metadata": {},
   "source": [
    "<img style=\"float: center;\" src=\"ISO-8859-1.gif\"  width = 600>"
   ]
  },
  {
   "cell_type": "markdown",
   "metadata": {},
   "source": [
    "### Exercice 4 :\n",
    " 1. Quelle est la valeur du caractère `è` ?\n",
    " 2. Quel caractère est associé à la valeur $249$ ?"
   ]
  },
  {
   "cell_type": "markdown",
   "metadata": {},
   "source": [
    "Réponses :\n",
    " 1. \n",
    " 2. "
   ]
  },
  {
   "cell_type": "markdown",
   "metadata": {},
   "source": [
    "### Et les autres langues ?\n",
    "Beaucoup d'autres langues dans le monde n'utilisent pas l'alphabet dit \"latin\", par exemple le chinois , le japonnais le russe ou encore le grec...\n",
    "D'autres normes ont donc dû voir le jour, par exemple la norme \"GB2312\" pour le chinois simplifié,la norme \"JISX0208\" pour le japonais.\n",
    "\n",
    "La multiplicité des normes pose alors problème puisqu'une même valeur peut potentiellement encoder plusieurs caractères suivant la norme choisie.\n",
    "\n",
    "De plus, il est impossible avec ces normes d'écrire un texte comportant des mots de français et de japonais par exemple."
   ]
  },
  {
   "cell_type": "markdown",
   "metadata": {},
   "source": [
    "### Exercice 5 :\n",
    "<img style=\"float: right;\" src=\"notepad.jpg\"  width = 350>\n",
    "\n",
    "1. Ouvrir le notepad++ : \n",
    "\n",
    " * Taper ce texte  : 'ça c'est sûr,un très bon élève'. \n",
    " * Dans l'onglet 'encodage' puis 'codage des caractères', retrouver la norme 8859-1 et cliquer pour utiliser ce codage. \n",
    " * Que se passe-t-il ?\n",
    " \n",
    " \n",
    "2. Tester d'autres codages dans le même menu. Quels sont les caractères qui posent toujours problème  ?\n",
    "\n",
    "\n",
    "3. Quels sont ceux qui s'affichent correctement dans la plupart des cas ?\n",
    "\n",
    "\n",
    "4. Retrouver l'affichage correct du texte : quelle norme est alors utilisée ?"
   ]
  },
  {
   "cell_type": "markdown",
   "metadata": {},
   "source": [
    "Réponses :\n",
    "1. \n",
    "2. \n",
    "3. \n",
    "4. "
   ]
  },
  {
   "cell_type": "markdown",
   "metadata": {},
   "source": [
    "## 3. Unicode, UTF-8"
   ]
  },
  {
   "cell_type": "markdown",
   "metadata": {},
   "source": [
    "Pour éviter ce genre de problème, en 1991 une nouvelle norme a vu le jour : Unicode\n",
    "\n",
    "Cette norme réussit à rassembler tous les caractères existants afin qu'une personne utilisant Unicode puisse, sans changer la configuration de son traitement de texte, à la fois lire des textes en français ou en japonais par exemple.\n",
    "\n",
    "Le standard Unicode est uniquement une table qui regroupe tous les caractères existants au monde auxquels on a attribué un numéro unique, il ne s'occupe pas de la façon dont les caractères sont codés dans la machine. Il existe plusieurs systèmes de codage : UTF-8, UTF-16, UTF-32. Le plus utilisé, notamment sur le Web, est UTF-8.\n",
    "* Exemple : le caractère '€' est identifié par le nombre entier 8364.\n",
    "\n",
    "Pour encoder les caractères Unicode, UTF-8 utilise un nombre variable d'octets : les caractères \"classiques\" (les plus couramment utilisés) sont codés sur un octet(8 bits), alors que des caractères \"moins classiques\" sont codés sur un nombre d'octets plus important (jusqu'à 4 octets). Un des avantages d'UTF-8 c'est qu'il est totalement compatible avec la norme ASCII : Les caractères Unicode codés avec UTF-8 ont exactement le même code que les mêmes caractères en ASCII.\n",
    "\n",
    "Si ce standard a vocation a devenir universel, il reste encore quelques incompatibilités car tout le monde ne l'utilise pas encore."
   ]
  },
  {
   "cell_type": "markdown",
   "metadata": {},
   "source": [
    "Remarques : Python reconnait les caractères indéxés selon la norme Unicode. Chaque caractère est identifié par un nombre entier.\n",
    "* La fonction `chr(N)` prend en paramètre l'entier naturel `N` et renvoie le caractère correspondant.\n",
    "* la fonction `ord(car)` prend en paramètre le  caractère `car` et renvoie l'entier correspondant."
   ]
  },
  {
   "cell_type": "code",
   "execution_count": 2,
   "metadata": {},
   "outputs": [
    {
     "data": {
      "text/plain": [
       "'B'"
      ]
     },
     "execution_count": 2,
     "metadata": {},
     "output_type": "execute_result"
    }
   ],
   "source": [
    "#Exécuter les lignes ci-dessous pour tester ces deux fonctions\n",
    "chr(66)"
   ]
  },
  {
   "cell_type": "code",
   "execution_count": 6,
   "metadata": {},
   "outputs": [
    {
     "data": {
      "text/plain": [
       "8364"
      ]
     },
     "execution_count": 6,
     "metadata": {},
     "output_type": "execute_result"
    }
   ],
   "source": [
    "ord('€')"
   ]
  },
  {
   "cell_type": "markdown",
   "metadata": {},
   "source": [
    "## 4. Exercices"
   ]
  },
  {
   "cell_type": "markdown",
   "metadata": {},
   "source": [
    "### Exercice 6 :\n",
    " 1. Quelle opération mathématique permet de calculer le nombre associé à une lettre majuscule à partir du nombre associé à cette même lettre minuscule.\n",
    " 2. Ecrire la fonction `majus(lettre)` qui prend en paramètre une lettre minuscule et qui renvoie la même lettre en majuscule.\n",
    " 3. Ecrire la fonction `minus(lettre)` qui prend en paramètre une lettre majuscule et qui renvoie la même lettre en minuscule."
   ]
  },
  {
   "cell_type": "markdown",
   "metadata": {},
   "source": [
    "Réponses :\n",
    "\n",
    "\n",
    "1. Pour passer d'une lettre minuscule à une lettre majuscule, on soustrait 32."
   ]
  },
  {
   "cell_type": "code",
   "execution_count": 2,
   "metadata": {},
   "outputs": [],
   "source": [
    "#2.\n",
    "\n",
    "\n",
    "\n",
    "\n",
    "\n"
   ]
  },
  {
   "cell_type": "code",
   "execution_count": 1,
   "metadata": {},
   "outputs": [],
   "source": [
    "#3.\n",
    "\n",
    "\n",
    "\n",
    "\n",
    "\n",
    "\n"
   ]
  },
  {
   "cell_type": "markdown",
   "metadata": {},
   "source": [
    "### Exercice  7 : \n",
    "1. Ecrire la fonction `majuscule(mot)` qui prend en paramètre une chaîne de caractères écrites en minuscules et qui renvoie la même chaîne en majuscule.\n",
    "2. Ecrire la fonction `minuscule(MOT)` qui prend en paramètre une chaîne de caractères écrites en minuscules et qui renvoie la même chaîne en majuscule.\n",
    "\n",
    "Aide : on pourra utiliser les fonctions de l'exercice précédent.\n",
    "\n",
    "Réponses :"
   ]
  },
  {
   "cell_type": "code",
   "execution_count": 3,
   "metadata": {},
   "outputs": [],
   "source": [
    "#1.\n",
    "\n",
    "\n",
    "\n",
    "\n",
    "\n"
   ]
  },
  {
   "cell_type": "code",
   "execution_count": 5,
   "metadata": {},
   "outputs": [],
   "source": [
    "#2.\n",
    "\n",
    "\n",
    "\n",
    "\n",
    "\n",
    "\n"
   ]
  },
  {
   "cell_type": "markdown",
   "metadata": {},
   "source": [
    "### Exercice 8 : \n",
    "Les caractères minuscules grecs sont identifiés par les entiers successifs à partir de 945.Ecrire la fonction `grec()` qui renvoie une de chaîne de caractères contenant cet alphabet.\n",
    "\n",
    "Le résultat affiché sera 'αβγδεζηθικλμνξοπρςστυφχψω'"
   ]
  },
  {
   "cell_type": "code",
   "execution_count": 4,
   "metadata": {},
   "outputs": [],
   "source": [
    "#Réponse :\n",
    "\n",
    "\n",
    "\n",
    "\n",
    "\n",
    "\n",
    "\n",
    "\n",
    "\n"
   ]
  },
  {
   "cell_type": "markdown",
   "metadata": {},
   "source": [
    "## 4. ASCII-Art"
   ]
  },
  {
   "cell_type": "markdown",
   "metadata": {},
   "source": [
    "Une épéé : o()xxxx[{::::::::::::::::::::::::::::::::::>"
   ]
  },
  {
   "cell_type": "markdown",
   "metadata": {},
   "source": [
    "Un poisson : ><(((('>"
   ]
  },
  {
   "cell_type": "markdown",
   "metadata": {},
   "source": [
    "Un koala : @( * O * )@"
   ]
  },
  {
   "cell_type": "markdown",
   "metadata": {},
   "source": [
    "Votre ASCII : "
   ]
  },
  {
   "cell_type": "markdown",
   "metadata": {},
   "source": [
    "# <center>FIN</center>"
   ]
  }
 ],
 "metadata": {
  "kernelspec": {
   "display_name": "Python 3",
   "language": "python",
   "name": "python3"
  },
  "language_info": {
   "codemirror_mode": {
    "name": "ipython",
    "version": 3
   },
   "file_extension": ".py",
   "mimetype": "text/x-python",
   "name": "python",
   "nbconvert_exporter": "python",
   "pygments_lexer": "ipython3",
   "version": "3.7.3"
  }
 },
 "nbformat": 4,
 "nbformat_minor": 2
}
