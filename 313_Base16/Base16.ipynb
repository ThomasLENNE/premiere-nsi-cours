{
 "cells": [
  {
   "cell_type": "markdown",
   "metadata": {},
   "source": [
    "# <center> LA BASE 16 </center>"
   ]
  },
  {
   "cell_type": "markdown",
   "metadata": {},
   "source": [
    "## 1. ВЫ говорите по-русски ?"
   ]
  },
  {
   "cell_type": "markdown",
   "metadata": {},
   "source": [
    "<img style='float:right;' src='russe.jpg' width=500>\n",
    "\n",
    "Voici ci-contre un extrait de la table Unicode des caractères cyrilliques russes. On lit ce tableau en associant l'étiquette de la ligne sur laquelle il se trouve avec l'étiquette de la colonne sur laquelle il se trouve.Les symboles 'U+' indiquent qu'il s'agit de la norme Unicode.\n",
    "\n",
    "Exemples de lecture:\n",
    "* Le caractère 'и' correspond au code $0438$ \n",
    "* Le code $0414$ correspond au caractère 'Д'"
   ]
  },
  {
   "cell_type": "markdown",
   "metadata": {},
   "source": [
    "### Exercice 1: \n",
    "1. Quel est le code du caractère 'ж' ?\n",
    "2. Quel est le code du caractère 'Л' ?\n",
    "3. En utilisant la fonction `chr()` avec python avec les codes précédents, essayer d'afficher ces caractères. Que se passe-t-il ?"
   ]
  },
  {
   "cell_type": "code",
   "execution_count": 6,
   "metadata": {},
   "outputs": [
    {
     "data": {
      "text/plain": [
       "'Ơ'"
      ]
     },
     "execution_count": 6,
     "metadata": {},
     "output_type": "execute_result"
    }
   ],
   "source": [
    "#Tests de la fonction chr():\n",
    "chr(416)"
   ]
  },
  {
   "cell_type": "markdown",
   "metadata": {},
   "source": [
    "Réponses:\n",
    " 1. \n",
    " 2. \n",
    " 3. "
   ]
  },
  {
   "cell_type": "markdown",
   "metadata": {},
   "source": [
    "### Explication :\n",
    "\n",
    "   Les codes indiqués ici ne sont pas exprimés en base 10...Mais en base 16 !"
   ]
  },
  {
   "cell_type": "markdown",
   "metadata": {},
   "source": [
    "## 2. La base 16 (héxadécimale)"
   ]
  },
  {
   "cell_type": "markdown",
   "metadata": {},
   "source": [
    "### Qu'est-ce que c'est ? \n",
    "La base 16 comporte 16 \"chiffres\" : 0 1 2 3 4 5 6 7 8 9 A B C D E F\n",
    "\n",
    "Ils permettent par exemple de réprésenter les entiers de 0 à 15. Ainsi :\n",
    "* Le caractère 'A' représente le nombre 10.\n",
    "* Le nombre 13 est représenté par le caractère 'D'.\n",
    "* 'F' représente le nombre 15.\n",
    "* Les 10 premiers caractères (0 à 9) correspondent aux entiers de 0 à 9.\n",
    "\n",
    "### Pourquoi ?\n",
    "* 16 est un multiple de 8. Cela permet de rendre plus compréhensible qu'en base 2 la représentation des octets ( 1 octets = 8 bits )\n",
    "* Disposer de plus de caractères permet de réprésenter les grandes valeurs avec moins de caractères.\n",
    "* Exemples : \n",
    "  * 14 en base 10, c'est `1110` en base 2 et 'E' en base 16.\n",
    "  * 255 en base 10, c'est `11111111` en base 2 et 'FF' en base 16."
   ]
  },
  {
   "cell_type": "markdown",
   "metadata": {},
   "source": [
    "## 3. De la base 10 vers la base 16"
   ]
  },
  {
   "cell_type": "markdown",
   "metadata": {},
   "source": [
    "### Méthode :\n",
    "- On écrit le nombre en base 10.\n",
    "- On le divise par 16 et on note le reste de la division euclidienne (soit un entier de 0 à 15, c'est à dire un caractère entre 0 et F).\n",
    "- On refait la même chose avec le quotient précédent, et on met de nouveau le reste de côté.\n",
    "- On réitère la division, jusqu'à ce que le quotient soit 0.\n",
    "- Le nombre en base 16 se lit à l'aide des restes en commençant par celui de la dernière opération effectuée."
   ]
  },
  {
   "cell_type": "markdown",
   "metadata": {},
   "source": [
    "### Exemples : \n",
    "1. Conversion de 125 en base 16.\n",
    " - $125=16\\times7+13$ :  on note 'D'\n",
    " - $7=16\\times0+7$ : on note '7'\n",
    " - Le nombre 125 s'écrit '7D' en base 16\n",
    " \n",
    "\n",
    "2. Conversion de 41 en base 16.\n",
    " - $41=16\\times2+9$ :  on note '9'\n",
    " - $2=16\\times0+2$ : on note '2'\n",
    " - Le nombre 41 s'écrit '29' en base 16"
   ]
  },
  {
   "cell_type": "markdown",
   "metadata": {},
   "source": [
    "### Exercice 2 :\n",
    "1. Convertir le nombre 234 en base 16\n",
    "2. Convertir le nombre 1000 en base 16"
   ]
  },
  {
   "cell_type": "markdown",
   "metadata": {},
   "source": [
    "Réponses :\n",
    "1. \n",
    " - \n",
    " - \n",
    " - \n",
    "\n",
    "\n",
    "2. \n",
    " - \n",
    " - \n",
    " - \n",
    " - "
   ]
  },
  {
   "cell_type": "markdown",
   "metadata": {},
   "source": [
    "## 4. De la base 16 vers la base 10"
   ]
  },
  {
   "cell_type": "markdown",
   "metadata": {},
   "source": [
    "Quelque soit la base, la position du chiffre indique sa valeur.\n",
    "\n",
    "Ecrit en base 10, le nombre 125 se décompose comme suit :$1\\times10²+2\\times10+5$.\n",
    "\n",
    "Il en va de même en base 16, avec les puissances de 16. Ainsi, pour retrouver l'écriture en base 10 du  nombre '43E', on décompose comme suit : \n",
    "\n",
    "$4\\times16^{2}+3\\times16^{1}+14\\times16^{0}=4\\times256+3\\times16+14\\times1=1024+48+14=1085$"
   ]
  },
  {
   "cell_type": "markdown",
   "metadata": {},
   "source": [
    "### Exercice 3 :"
   ]
  },
  {
   "cell_type": "markdown",
   "metadata": {},
   "source": [
    "Donner l'écriture en base 10 des nombres :\n",
    "- 'A0' : \n",
    "- '34' : \n",
    "- 'FFFF' : "
   ]
  },
  {
   "cell_type": "markdown",
   "metadata": {},
   "source": [
    "Remarques :\n",
    "- Connaître quelques valeurs particulières (puissances de 16 par exemple),donne de bons repères.\n",
    "- Le nombre 12 est écrit 'C' en base 16, mais en informatique, il est important de connaître le nombre de bits ou d'octets avec lequel on travaille. Ainsi sur un octet (8 bits) le nombre 12 peut être écrit '0C'. Les '0' au début de la représentation ne sont pas si inutiles que cela."
   ]
  },
  {
   "cell_type": "markdown",
   "metadata": {},
   "source": [
    "## 5. Exercices"
   ]
  },
  {
   "cell_type": "markdown",
   "metadata": {},
   "source": [
    "Les exercices ci-après ont pour objectif de manipuler cette nouvelle base en utilisant les méthodes présentées ci-dessus mais aussi de donner quelques repères et représentations mentales qui permettent d'éviter le recours systématique à ces méthodes.\n",
    "De plus, on pourra tester ou vérifier les résultats avec les instructions pythons ci-dessous :"
   ]
  },
  {
   "cell_type": "code",
   "execution_count": 7,
   "metadata": {},
   "outputs": [
    {
     "data": {
      "text/plain": [
       "'0x2a'"
      ]
     },
     "execution_count": 7,
     "metadata": {},
     "output_type": "execute_result"
    }
   ],
   "source": [
    "#Représentation d'un entier naturel en écriture hexadécimale.\n",
    "#les caractères '0x' renvoyés par python sont à ignorer dans la lecture du nombre.\n",
    "#Remplacer 42 par l'entier de votre choix et exécuter la cellule.\n",
    "hex(42)"
   ]
  },
  {
   "cell_type": "code",
   "execution_count": 8,
   "metadata": {},
   "outputs": [
    {
     "data": {
      "text/plain": [
       "42"
      ]
     },
     "execution_count": 8,
     "metadata": {},
     "output_type": "execute_result"
    }
   ],
   "source": [
    "#La fonction int renvoie un entier écrit en base 10\n",
    "#Paramètres : \n",
    "#-la représentation du nombre à convertir sous forme de chaîne de caractères\n",
    "#-La base dans laquelle est représentée le nombre à convertir\n",
    "#Remplacer la chaîne de caractères par une autre et éxécuter la cellule\n",
    "int('0x2a',16)  "
   ]
  },
  {
   "cell_type": "markdown",
   "metadata": {},
   "source": [
    "### Exercice 5 :\n",
    "Le code Unicode du caractère cyrillique russe 'Ж' est U+0416.Retrouver la valeur correspondante en  écriture décimale, puis l'afficher en utilisant la fonction `chr()`."
   ]
  },
  {
   "cell_type": "markdown",
   "metadata": {},
   "source": [
    "Réponse : \n",
    "    "
   ]
  },
  {
   "cell_type": "code",
   "execution_count": 1,
   "metadata": {},
   "outputs": [],
   "source": [
    "#Test de la fonction chr()\n"
   ]
  },
  {
   "cell_type": "markdown",
   "metadata": {},
   "source": [
    "### Exercice 6 :\n",
    "La valeur décimale de l'entier correspondant au symbole '€' est 8354 en Unicode. Déterminer la représentation hexadécimale de cet entier."
   ]
  },
  {
   "cell_type": "markdown",
   "metadata": {},
   "source": [
    "Réponse  :\n",
    "   * \n",
    "   * \n",
    "   * \n",
    "   * \n",
    "   \n",
    "L'Unicode du symbole € est "
   ]
  },
  {
   "cell_type": "code",
   "execution_count": 2,
   "metadata": {},
   "outputs": [],
   "source": [
    "#Vérification\n"
   ]
  },
  {
   "cell_type": "markdown",
   "metadata": {},
   "source": [
    "### Exercice 7:\n",
    "<img style='float:right;' src='couleurs.jpg' width=200>\n",
    "Le mode RVB (Rouge Vert Bleu, RGB en anglais) est un système de représentation des couleurs pour un ordinateur qui se base sur le fonctionnement de notre rétine principalement sensible à trois types de radiations: rouge, verte et bleue.\n",
    "\n",
    "Dans ce système une couleur peut être exprimée par un triplet d'entiers écrits écrits en base 10, compris entre 0 et 255 représentants les intensités des composantes rouge, verte et bleu. Ainsi :\n",
    "* Le noir est (0,0,0)\n",
    "* Le blanc est (255,255,255)\n",
    "\n",
    "\n",
    "#### Partie A :\n",
    " 1. Quel est le codage du :\n",
    "     * rouge: \n",
    "     * vert : \n",
    "     * bleu : \n",
    "     * jaune : \n",
    "\n",
    "     \n",
    " 2. Combien de couleurs peut-on représenter dans ce système ? \n",
    " 3. Comment peut-on coder du gris ?\n",
    " \n",
    "#### Partie B :\n",
    " 1. Dans l'image ci-dessus, justifier la représentation '#60D755 '\n",
    " 2. Donner alors la représentation des couleurs :\n",
    "  * noire :\n",
    "  * blanche :\n",
    "  * rouge :\n",
    "  * verte :\n",
    "  * bleue :\n",
    "  \n",
    "#### Partie C :\n",
    "1. Donner le triplet d'entiers correpondant à la représentation #0078D7.\n",
    "2. Donner le triplet d'entiers correpondant à la représentation #ABCDEF."
   ]
  },
  {
   "cell_type": "markdown",
   "metadata": {},
   "source": [
    "Réponses :\n",
    "Partie A :\n",
    " 1. Codage du :\n",
    "     * rouge: \n",
    "     * vert : \n",
    "     * bleu : \n",
    "     * jaune : \n",
    "\n",
    "     \n",
    " 2.   \n",
    " \n",
    " \n",
    " 3.  \n",
    " \n",
    "Partie B :\n",
    " 1. \n",
    "  *  \n",
    "  *  \n",
    "  *  \n",
    "  \n",
    "   \n",
    "  \n",
    "  \n",
    " 2. Donner alors la représentation des couleurs :\n",
    "  * noire :  \n",
    "  * blanche :  \n",
    "  * rouge :  \n",
    "  * verte :  \n",
    "  * bleue :  \n",
    "  \n",
    "Partie C :\n",
    "1. #0078D7 :\n",
    " *  \n",
    " *  \n",
    " *  \n",
    " * Réponse :  \n",
    " \n",
    " \n",
    "2. #ABCDEF:\n",
    " *  \n",
    " *  \n",
    " *  \n",
    " *  Réponse : "
   ]
  },
  {
   "cell_type": "markdown",
   "metadata": {},
   "source": [
    "### Exercice 8 : fichier"
   ]
  },
  {
   "cell_type": "markdown",
   "metadata": {},
   "source": [
    "Un éditeur hexadécimal est un logiciel permettant de visualiser et éditer le contenu de toutes sortes de fichiers, en affichant leurs données en octets présentés sous forme de caractères hexadécimaux.A l'aide d'un éditeur hexadécimal, il sera possible de consulter le contenu intégral de n'importe quel fichier.Ci-dessous, le contenu d'un fichier ouvert avec l'éditeur 'HxD' contenant un texte qui ne s'affiche pas correctement à droite et dont peut voir la suite d'octets à gauche sur la deuxième ligne.\n",
    "\n",
    "\n",
    "<img align='center' src='decode.jpg'>\n",
    "\n",
    "Décodez ce message (on pourra utiliser la fonctions `chr()` comme aide"
   ]
  },
  {
   "cell_type": "code",
   "execution_count": null,
   "metadata": {},
   "outputs": [],
   "source": [
    "#tests"
   ]
  },
  {
   "cell_type": "markdown",
   "metadata": {},
   "source": [
    "Réponse :\n",
    "\n",
    "\n",
    "* \n",
    "* \n",
    "* \n",
    "* \n",
    "* \n",
    "* \n",
    "* \n",
    "Le texte est : \n",
    "     "
   ]
  },
  {
   "cell_type": "markdown",
   "metadata": {},
   "source": [
    "### Exercice 9 : \n",
    "En remplaçant les caractères `?`, compléter la fonction `hexa(n)`  qui prend en paramètre un entier naturel positif et qui renvoie la chaîne de caractères contenant la représentation en base 16 de cet entier. Ainsi :\n",
    "* `hexa(32)` doit renvoyer '20'\n",
    "* `hexa(255)` doit renvoyer 'FF'"
   ]
  },
  {
   "cell_type": "code",
   "execution_count": 16,
   "metadata": {},
   "outputs": [
    {
     "ename": "SyntaxError",
     "evalue": "invalid syntax (<ipython-input-16-4f665090f3a3>, line 7)",
     "output_type": "error",
     "traceback": [
      "\u001b[1;36m  File \u001b[1;32m\"<ipython-input-16-4f665090f3a3>\"\u001b[1;36m, line \u001b[1;32m7\u001b[0m\n\u001b[1;33m    resultat = ?\u001b[0m\n\u001b[1;37m               ^\u001b[0m\n\u001b[1;31mSyntaxError\u001b[0m\u001b[1;31m:\u001b[0m invalid syntax\n"
     ]
    }
   ],
   "source": [
    "def hexa(n):\n",
    "    base = ['0','1','2','3','4','5','6','7','8','9','A','B','C','D','E','F']\n",
    "    quotient = n\n",
    "    reste = 0\n",
    "    resultat = ''\n",
    "    while quotient > 0:\n",
    "        resultat = ?\n",
    "        quotient = ?\n",
    "    \n",
    "    return resultat    \n",
    "        \n",
    "hexa(32)"
   ]
  },
  {
   "cell_type": "code",
   "execution_count": 4,
   "metadata": {},
   "outputs": [],
   "source": [
    "#Réponse :\n"
   ]
  },
  {
   "cell_type": "markdown",
   "metadata": {},
   "source": [
    "### Exercice 10 :\n",
    "En remplaçant les caractères `?`, compléter la fonction `entier16(chaine)`  qui prend en paramètre une chaîne de caractères contenant la représentation en base 16 d'un entier et qui renvoie l'entier correspondant Ainsi :\n",
    "* `entier16('20')` doit renvoyer $32$\n",
    "* `entier16('FF')` doit renvoyer $255$\n",
    "\n",
    "Aide : La méthode `index()`renvoie l'index de l'élément d'une liste.\n",
    " * Dans la liste `L=['x','y','z']`, `L.index('y')` renvoie `1`"
   ]
  },
  {
   "cell_type": "code",
   "execution_count": null,
   "metadata": {},
   "outputs": [],
   "source": [
    "def entier16(chaine):\n",
    "    base = ['0','1','2','3','4','5','6','7','8','9','A','B','C','D','E','F']\n",
    "    n = 0\n",
    "    N = len(chaine)-1 # plus grand exposant\n",
    "    i = 0\n",
    "    while i < len(chaine):\n",
    "        n = n + ?\n",
    "        i = i +1\n",
    "        \n",
    "    return n\n",
    "\n",
    "entier16('FF')"
   ]
  },
  {
   "cell_type": "code",
   "execution_count": 3,
   "metadata": {},
   "outputs": [],
   "source": [
    "#réponse\n"
   ]
  },
  {
   "cell_type": "markdown",
   "metadata": {},
   "source": [
    "# <center> FIN </center>"
   ]
  }
 ],
 "metadata": {
  "kernelspec": {
   "display_name": "Python 3",
   "language": "python",
   "name": "python3"
  },
  "language_info": {
   "codemirror_mode": {
    "name": "ipython",
    "version": 3
   },
   "file_extension": ".py",
   "mimetype": "text/x-python",
   "name": "python",
   "nbconvert_exporter": "python",
   "pygments_lexer": "ipython3",
   "version": "3.7.3"
  }
 },
 "nbformat": 4,
 "nbformat_minor": 2
}
