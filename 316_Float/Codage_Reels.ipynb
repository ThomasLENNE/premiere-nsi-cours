{
 "cells": [
  {
   "cell_type": "markdown",
   "metadata": {},
   "source": [
    "# <center>Représenter les nombres réels </center>"
   ]
  },
  {
   "cell_type": "markdown",
   "metadata": {},
   "source": [
    "## 1. En base 2"
   ]
  },
  {
   "cell_type": "markdown",
   "metadata": {},
   "source": [
    "* En base 10, le nombre $652,375$ se décompose comme suit : \n",
    "$6\\times100+5\\times10+2\\times1+3\\times0,1+7\\times0,01+5\\times0,001$ c'est à dire $6\\times10^{2}+5\\times10^{1}+2\\times10^{0}+3\\times10^{-1}+7\\times10^{-2}+5\\times10^{-3}$\n",
    "\n",
    "* En base 2, c'est le même principe : `110,101` est la représentation en base 2 du nombre $1\\times2^{2}+1\\times2^{1}+0\\times2^{0}+1\\times2^{-1}+0\\times2^{-2}+1\\times2^{-3}$, c'est à dire $1\\times4+1\\times2+0\\times1+1\\times\\frac{1}{2}+0\\times\\frac{1}{4}+1\\times\\frac{1}{8}$, ce qui donne\n",
    "$4+2+0,5+0,125=6,625$"
   ]
  },
  {
   "cell_type": "markdown",
   "metadata": {},
   "source": [
    "### Méthode : de la base 2 vers la base 10\n",
    "* On a vu que pour retrouver l'écriture en base 10 d'un  nombre entier, on le décompose à l'aide des puissances de $2$ ($1$,$2$,$4$,$8$,...)\n",
    "* Cette méthode se prolonge à la partie décimale d'un nombre en utilisant les puissances négatives de $2$, c'est à dire les inverses des puissances de $2$ ($\\frac{1}{2}$,$\\frac{1}{4}$,$\\frac{1}{8}$,...)"
   ]
  },
  {
   "cell_type": "markdown",
   "metadata": {},
   "source": [
    "### Exemple : conversion de `101,011` en base 10\n",
    "`101,011` s'écrit $1\\times2^{2}+0\\times2^{1}+1\\times2^{0}+0\\times2^{-1}+1\\times2^{-2}+1\\times2^{-3}=4+1+0,25+0,125=5,375$"
   ]
  },
  {
   "cell_type": "markdown",
   "metadata": {},
   "source": [
    "### Exercice 1 :\n",
    "Convertir les nombres suivants en base 10.\n",
    "1. `1,001`\n",
    "2. `0,1001`\n",
    "3. `101,101`"
   ]
  },
  {
   "cell_type": "markdown",
   "metadata": {},
   "source": [
    "Réponses :\n",
    "1.  \n",
    "2.  \n",
    "3.  \n"
   ]
  },
  {
   "cell_type": "markdown",
   "metadata": {},
   "source": [
    "### Méthode : De la base 10 vers la base 2\n",
    "Le principe est celui déjà vu dans un précédent chapitre pour la partie entière du nombre à coder, et se prolonge pour sa partie décimale.\n",
    "\n",
    "Pour la partie entière :\n",
    "- On écrit la partie entière en base 10.\n",
    "- On le divise par 2 et on note le reste de la division euclidienne (soit ```1``` soit ```0```)\n",
    "- On refait la même chose avec le quotient précédent, et on met de nouveau le reste de côté.\n",
    "- On réitère la division, jusqu'à ce que le quotient soit ```0```.\n",
    "- La partie entière du nombre en base 2 se lit à l'aide des restes en commençant par celui de la dernière opération effectuée.\n",
    "\n",
    "Pour la partie décimale : \n",
    "- On écrit la partie décimale en base 10.\n",
    "- On le multiplie par 2 et on note le chiffre à gauche de la virgule (`1` ou `0`)\n",
    "- On recommence avec la partie décimale obtenue en la multipliant par 2.\n",
    "- On continue jusqu'a ce que la partie décimale soit égale à zéro.\n"
   ]
  },
  {
   "cell_type": "markdown",
   "metadata": {},
   "source": [
    "### Exemple : Conversion de 6,375 en base 2\n",
    "- Partie entière : \n",
    " * $6=2\\times3+$ `0` \n",
    " * $3=2\\times1+$ `1` \n",
    " * $1=2\\times0+$ `1` \n",
    " * $6$ s'écrit `110` en base 2\n",
    " \n",
    "\n",
    "- Partie décimale :\n",
    " * $0,375\\times2=$ `0` $,75$\n",
    " * $0,75\\times2=$ `1` $,5$\n",
    " * $0,5\\times2=$ `1` $,0$\n",
    " * $0,625$ s'écrit  `0,011` en base 2\n",
    " \n",
    " \n",
    "- Conclusion : Le nombre $6,375$ s'écrit `110,011` en base 2\n"
   ]
  },
  {
   "cell_type": "markdown",
   "metadata": {},
   "source": [
    "### Exercice 2 :\n",
    "1. Convertir $0,25$ en base 2\n",
    "2. Convertir $12,75$ en base 2\n",
    "3. Convertir $0,1$ en base 2"
   ]
  },
  {
   "cell_type": "markdown",
   "metadata": {},
   "source": [
    "Réponses :\n",
    " 1.  \n",
    " 2.  \n",
    "  *  \n",
    "  *  \n",
    "  *  \n",
    "  *  \n",
    "  *  \n",
    "  *     \n",
    "  *  \n",
    "  \n",
    "  \n",
    " 3.    \n",
    "       * \n",
    "       * \n",
    "       * \n",
    "       * \n",
    "       * \n",
    "       * \n",
    "       * \n",
    "       * \n",
    "       * \n",
    "       * \n",
    "       * \n",
    "       * \n",
    "       * \n",
    "  "
   ]
  },
  {
   "cell_type": "code",
   "execution_count": 3,
   "metadata": {},
   "outputs": [
    {
     "name": "stdout",
     "output_type": "stream",
     "text": [
      "0.30000000000000004\n",
      "False\n"
     ]
    }
   ],
   "source": [
    "# Exécuter le code ci-dessous\n",
    "print(0.1+0.2)\n",
    "print(0.1+0.2==0.3)"
   ]
  },
  {
   "cell_type": "markdown",
   "metadata": {},
   "source": [
    "### A retenir :\n",
    "* Un nombre à développement décimal fini en base 10 ne l'est pas forcément en base 2(exemples : 0.1, 0.3...)\n",
    "* Cela peut engendrer des comportements étonnants(lors de tests d'égalités) et avoir de lourdes conséquences(voir exercice 4) "
   ]
  },
  {
   "cell_type": "markdown",
   "metadata": {},
   "source": [
    "### Exercice 3 :\n",
    "Convertir $\\frac{1}{3}$ en base 2"
   ]
  },
  {
   "cell_type": "markdown",
   "metadata": {},
   "source": [
    "Réponse :\n",
    "   *  \n",
    "   *  \n",
    "   *  \n",
    "   *  \n",
    "   *  \n",
    "   *  "
   ]
  },
  {
   "cell_type": "markdown",
   "metadata": {},
   "source": [
    "### Exercice 4 : Missile Patriot\n",
    "<img style='float:right;' src='https://upload.wikimedia.org/wikipedia/commons/f/f8/Patriot_missile_launch_b.jpg' width =200>\n",
    "Le 25 février 1991, pendant la Guerre du Golfe, une batterie américaine de missiles Patriot, à\n",
    "Dharan (Arabie Saoudite), a tenté d'intercepter un missile Scud irakien :  \n",
    "\n",
    "* Les nombres dans le système du Patriot étaient arrondis à 23 chiffres binaires après la virgule. \n",
    "* Le temps était compté par l'horloge interne du système en dixième de seconde. \n",
    "* Au moment de l'attaque, la batterie de missile Patriot était allumée depuis environ 100 heures.\n",
    "\n",
    "\n",
    "Questions :\n",
    "1. Donner la décomposition en base 2 d'un dixième avec 23 chiffres après la virgule.\n",
    "2. Quels sont les 6 chiffres suivants de cette décomposition?\n",
    "3. Montrer que l'erreur d'arrondi correspond alors à environ $0,000000095$ secondes.\n",
    "4. Quelle était l'erreur d'arrondi en secondes au moment de l'attaque ?\n",
    "5. La vitesse d'un scud était d'environ 1676 m/s. Quelle distance parcourt-il pendant ce temps?\n",
    "6. A votre avis , que s'est-il passé ?\n"
   ]
  },
  {
   "cell_type": "markdown",
   "metadata": {},
   "source": [
    "Réponses :\n",
    "1.  \n",
    "2.  \n",
    "3. \n",
    "4.  \n",
    "5.  \n",
    "6.  "
   ]
  },
  {
   "cell_type": "markdown",
   "metadata": {},
   "source": [
    "## 2. Virgule fixe, virgule flottante"
   ]
  },
  {
   "cell_type": "markdown",
   "metadata": {},
   "source": [
    "Pour représenter les nombres à virgule, il existe deux principales méthodes: la virgule fixe et la virgule flottante."
   ]
  },
  {
   "cell_type": "markdown",
   "metadata": {},
   "source": [
    "### La virgule fixe\n",
    "On fixe le nombre de chiffres avant et après la virgule. "
   ]
  },
  {
   "cell_type": "markdown",
   "metadata": {},
   "source": [
    "### Exercice 5 :\n",
    "Si l'on utilise 4 chiffres avant la virgule et 4 chiffres après la virgule(en base 10), quels sont les nombres que l'on peut obtenir ? "
   ]
  },
  {
   "cell_type": "markdown",
   "metadata": {},
   "source": [
    "Réponse: "
   ]
  },
  {
   "cell_type": "markdown",
   "metadata": {},
   "source": [
    "### Exercice 6\n",
    "1. On suppose que l'on veut coder des nombres à virgule sur $3$ bits : le premier à gauche réservé à la partie entière et les 2 autres pour la partie décimale. Lister les nombres que l'on peut alors représenter.\n",
    "2. Avec $2$ bits pour la partie décimale, quelle est la précision que l'on obtient ?\n",
    "3. Avec $3$ bits ? $4$ bits ? $n$ bits ?"
   ]
  },
  {
   "cell_type": "markdown",
   "metadata": {},
   "source": [
    "Réponses:\n",
    "1. \n",
    "  * `000`:  \n",
    "  * `001`:  \n",
    "  * `010`:  \n",
    "  * `011`:  \n",
    "  * `100`:  \n",
    "  * `101`:  \n",
    "  * `110`: \n",
    "  * `111`:  \n",
    "\n",
    "\n",
    "2. \n",
    "  * Avec $2$ bits :   \n",
    "  * Avec $3$ bits :   \n",
    "  * Avec $4$ bits :   \n",
    "  * Avec $n$ bits :   \n"
   ]
  },
  {
   "cell_type": "markdown",
   "metadata": {},
   "source": [
    "### La virgule flottante (floating point)"
   ]
  },
  {
   "cell_type": "markdown",
   "metadata": {},
   "source": [
    "On utilise une notation similaire à la notation scientifique avec un exposant qui fait varier l'ordre de grandeur (c'est lui qui fait \"flotter\" la virgule) "
   ]
  },
  {
   "cell_type": "markdown",
   "metadata": {},
   "source": [
    "### Exercice 7 : "
   ]
  },
  {
   "cell_type": "markdown",
   "metadata": {},
   "source": [
    "On suppose que l'on code sur $4$ bits. On réserve les 2 bits à gauche pour la précision et les deux autres pour l'exposant( en  complément à $2$, ce qui permet d'obtenir des exposants négatifs). Ainsi `1010` représente $2\\times10^{-2}=0,02$.\n",
    "1. Lister les nombres que l'on peut représenter.\n",
    "2. Quelle est la différence avec précédemment ?"
   ]
  },
  {
   "cell_type": "markdown",
   "metadata": {},
   "source": [
    "Réponses : \n",
    " 1. \n",
    "   * `0000` :  \n",
    "   * `0001` :  \n",
    "   * `0010` :  \n",
    "   * `0011` :  \n",
    "   * `0100` :  \n",
    "   * `0101` :  \n",
    "   * `0110` :  \n",
    "   * `0111` :  \n",
    "   * `1000` :  \n",
    "   * `1001` :  \n",
    "   * `1010` :  \n",
    "   * `1011` :  \n",
    "   * `1100` :  \n",
    "   * `1101` :  \n",
    "   * `1110` :  \n",
    "   * `1111` :  \n",
    "   \n",
    "2.  \n",
    "\n",
    "\n",
    "\n"
   ]
  },
  {
   "cell_type": "markdown",
   "metadata": {},
   "source": [
    "## 3. La norme IEEE-754"
   ]
  },
  {
   "cell_type": "markdown",
   "metadata": {},
   "source": [
    "Bien que sa précision soit limitée, la plupart des systèmes utilisent le système de la virgule flottante qui suffit dans la grande majorité des calculs. Depuis 1985, la norme IEEE-754 spécifie deux formats de nombres en virgule flottante  en base 2. Ce deux formats sont sur 32 bits (« simple précision ») et 64 bits (« double précision »)."
   ]
  },
  {
   "cell_type": "markdown",
   "metadata": {},
   "source": [
    "### Sur $32$ bits : \n",
    "Le premier bit est le signe (+ ou -), les $8$ bits suivants codent la valeur de l'exposant, les $23$ bits restants servent à coder la mantisse ( la partie après la virgule)\n",
    "<img align='center' src='https://upload.wikimedia.org/wikipedia/commons/0/08/IEEE754_simple_precision.png'>\n",
    "\n",
    "En simple précision, le plus petit nombre strictement positif représenté est $1,4\\times10^{−45}$,le plus grand nombre(avant l'infini) est $3,40282346\\times10^{38}$"
   ]
  },
  {
   "cell_type": "markdown",
   "metadata": {},
   "source": [
    "### Sur $64$ bits : \n",
    "Le premier bits code le signe, les $11$ suivants l'exposant, les $52$ autres la mantisse.\n",
    "<img align='center' src='https://upload.wikimedia.org/wikipedia/commons/5/5b/IEEE754_double_precision.png'>\n",
    "\n",
    "En double précision, le plus petit nombre strictement positif représenté est $2,2250738585072014\\times10^{−308}$,le plus grand nombre(avant l'infini) est $1,7976931348623157\\times10^{308}$"
   ]
  },
  {
   "cell_type": "markdown",
   "metadata": {},
   "source": [
    "### En savoir plus :\n",
    "Aucune connaissance précise de la norme IEEE-754 n'est pas au programme de N.S.I mais pour en savoir plus :\n",
    "* https://www.youtube.com/watch?v=mtizhxkB-Zw\n",
    "* https://fr.wikipedia.org/wiki/IEEE_754"
   ]
  },
  {
   "cell_type": "markdown",
   "metadata": {},
   "source": [
    "# <center>FIN</center>"
   ]
  }
 ],
 "metadata": {
  "kernelspec": {
   "display_name": "Python 3",
   "language": "python",
   "name": "python3"
  },
  "language_info": {
   "codemirror_mode": {
    "name": "ipython",
    "version": 3
   },
   "file_extension": ".py",
   "mimetype": "text/x-python",
   "name": "python",
   "nbconvert_exporter": "python",
   "pygments_lexer": "ipython3",
   "version": "3.7.4"
  }
 },
 "nbformat": 4,
 "nbformat_minor": 2
}
