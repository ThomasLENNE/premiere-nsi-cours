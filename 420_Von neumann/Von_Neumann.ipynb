{
 "cells": [
  {
   "cell_type": "markdown",
   "metadata": {},
   "source": [
    "# <center> L'ordinateur : Architecture Von Neumann </center>"
   ]
  },
  {
   "cell_type": "markdown",
   "metadata": {},
   "source": [
    "<center>  A la base il y a le transistor, à l'échelle du nanomètre </center> \n",
    "<img src='transistor.jpg' width=200>\n",
    "\n",
    "<center>Une combinaison de transistors (sous forme de circuit intégré) permet d'obtenir des circuits logiques</center>\n",
    "<img src='portes.gif' width=400>\n",
    "\n",
    "<center>La combinaison de circuits logiques permet d'obtenir des circuits plus complexes (exemple : l'additionneur)</center>\n",
    "<img src='add1bit.jpg' width=200>\n",
    "\n",
    "<center>Et ainsi de suite...(exemple : un additionneur 4 bits composé de 4 additionneur 1 bit)</center>\n",
    "<img src='add.jpg' width=300>\n",
    "\n",
    "<center>Au sommet de cet édifice, se trouvent:</center>\n",
    "\n",
    "\n",
    "<center><b>La mémoire vive (RAM, Random Access Memory )</b> et <b>le microprocesseur (CPU, Central Processing Unit).</b></center>\n",
    "\n",
    "<center>\n",
    "<img  style='float:center;'src='ramcpu.png' width=600>\n",
    "\n",
    "</center>"
   ]
  },
  {
   "cell_type": "markdown",
   "metadata": {},
   "source": [
    "## 1. Von Neumann"
   ]
  },
  {
   "cell_type": "markdown",
   "metadata": {},
   "source": [
    "### Architecture"
   ]
  },
  {
   "cell_type": "markdown",
   "metadata": {},
   "source": [
    "<img src='jvn.jpg' style='float: left;' width=200>\n",
    "<img src='Eniac.jpg' style='float: right;' width=300>\n",
    "Dans les années 1940, à l’Université de Pennsylvanie, John von Neumann (1903-1957) a conçu, avec Presper Eckert et John Mauchly, deux des premiers ordinateurs : l’ENIAC(ci-contre à droite), puis l’EDVAC.\n",
    "\n",
    "Ces ordinateurs étaient organisés selon l’architecture de Von Neumann, encore utilisée dans la quasi-totalité des ordinateurs actuels : La séparation du processeur et de la mémoire, reliés par des bus de communication.\n",
    "\n",
    "La principale innovation à l'époque est que la mémoire contient les données sur lesquelles on calcule mais aussi le programme(auparavant écrit sur des cartes perforées ou sur un rauban papier) qui décrit le calcul effectué, donné sous la forme d’une séquence d’instructions."
   ]
  },
  {
   "cell_type": "markdown",
   "metadata": {},
   "source": [
    "<img style='float:center;' src='cpubusram.png' width=600> \n",
    "- **La mémoire** est composée de plusieurs milliards de circuits mémoires un bit. Ces cases mémoire sont organisées en groupes de multiples de 8 bits( généralement 8, 16, 32 ou 64 bits). Le nombre de ces cases définit la taille de la mémoire de l’ordinateur. Comme il faut distinguer ces cases les unes des autres, on donne à chacune un numéro : son adresse.\n",
    "\n",
    "\n"
   ]
  },
  {
   "cell_type": "code",
   "execution_count": 21,
   "metadata": {
    "scrolled": true
   },
   "outputs": [
    {
     "name": "stdout",
     "output_type": "stream",
     "text": [
      "0x5a9ad8c0\n"
     ]
    }
   ],
   "source": [
    "#python affiche l'adresse de la case mémoire dans laquelle est stockée la valeur 5 (ici au format hexadécimal)\n",
    "x = 2\n",
    "print (hex(id(x)))"
   ]
  },
  {
   "cell_type": "markdown",
   "metadata": {},
   "source": [
    "\n",
    "- **Le microprocesseur** est le \"coeur\" d'un ordinateur, il éxecute les instructions. Il est schématiquement constitué de 3 parties :\n",
    "  - *Les registres* qui peuvent mémoriser de l'information (donnée ou instruction) au sein même du CPU. Leur nombre et leur taille sont variables en fonction du type de microprocesseur.\n",
    "  - *L'unité arithmétique et logique* (UAL) , chargée de l'exécution de tous les calculs que peut réaliser le microprocesseur(grâce à des circuits logiques comme l'additionneur par exemple.\n",
    "  - *L'unité de contrôle* permet d'exécuter les instructions (les programmes)\n",
    "  \n",
    "  \n",
    "- **Les bus**(des ensembles de fils) font circuler Les données entre les différentes parties d’un ordinateur, notamment entre la mémoire vive et le CPU. Il  en existe, sans entrer dans les détails, 3 grands types :\n",
    "\n",
    " - *Le bus d’adresses* qui fait circuler des adresses (par exemple l’adresse d’une donnée à aller chercher en mémoire)\n",
    " - *Le bus de données* qui fait circuler des données.\n",
    " - *Le bus de contrôle* permet de spécifier le type d’action (exemples : écriture d’une donnée en mémoire, lecture d’une donnée en mémoire)."
   ]
  },
  {
   "cell_type": "markdown",
   "metadata": {},
   "source": [
    "## 2. Langage machine"
   ]
  },
  {
   "cell_type": "markdown",
   "metadata": {},
   "source": [
    "### Un simulateur CPU : http://www.peterhigginson.co.uk/AQA/\n",
    "\n",
    "<img style='float:right;' src='simcpu.png' width=400> Voici la capture d'écran d'un simulateur qui reproduit le fonctionnement du processeur et de la mémoire.\n",
    "\n",
    "#### Exercice 1:\n",
    "1. Quelle est la taille de la mémoire vive ?\n",
    "2. De combien de registres le processeur dispose-t-il ?\n",
    "3. Ou se trouve l'UAL ?\n",
    "4. Ou se trouve l'Unité de Commande ?\n",
    "5. Que représentent les flèches bleues ?\n",
    "\n",
    "\n",
    "\n",
    "Réponses :\n",
    "\n",
    "1. \n",
    "\n",
    "\n",
    "2. \n",
    "\n",
    "\n",
    "3. \n",
    "\n",
    "\n",
    "4. \n",
    "\n",
    "\n",
    "5. \n",
    "\n"
   ]
  },
  {
   "cell_type": "markdown",
   "metadata": {},
   "source": [
    "### Assembleur"
   ]
  },
  {
   "cell_type": "markdown",
   "metadata": {},
   "source": [
    "- Un ordinateur exécute des programmes qui sont des suites d'instructions. \n",
    "- Le CPU est incapable d'exécuter directement des programmes écrits, par exemple, en Python. \n",
    "- La compilation d'un programme, c'est la transformation du programme en instructions machines. Un programme existe donc toujours sous deux formes : le code source écrit en Java, C, Python... Et le code compilé écrit en langage machine adapté au processeur utilisé.\n",
    "- Les instructions exécutées à ce niveau sont ainsi codées en binaire, ce qui est rapidement difficile à lire et à écrire.\n",
    "- Les premiers programmeurs disposaient de quelques instructions pour représenter du code machine. \n",
    "- A gauche sur la capture d'écran ci-dessus se trouve une zone ou l'on peut éxecuter des instructions machines écrites en langage assembleur(Assembly Langage). Ces instructions sont propres à chaque machine !\n",
    "- Aujourd'hui plus personne n'écrit de programme directement en langage machine, en revanche l'écriture de programme en assembleur est encore chose relativement courante."
   ]
  },
  {
   "cell_type": "markdown",
   "metadata": {},
   "source": [
    "### Instruction machine\n",
    "Une instruction machine est une chaîne binaire composée principalement de 2 parties :\n",
    "\n",
    "Exemple adapté au simulateur :  `MOV R0, #42 `\n",
    "\n",
    "- Le champ \"code opération\" qui indique au processeur le type de traitement à réaliser(ici c'est  `MOV`)\n",
    "- Le champ \"opérandes\" indique la nature des données sur lesquelles l'opération désignée par le \"code opération\" doit être effectuée (ici c'est `R0` qui désigne le registre du même nom et `#42` qui désigne l'entier $42$."
   ]
  },
  {
   "cell_type": "markdown",
   "metadata": {},
   "source": [
    "#### Exercice 2 :\n",
    "1. Se débrouiller pour éxecuter cette instruction dans l'assembleur. Que se passe-t-il ?\n",
    "2. Dans **OPTIONS** , choisir **binary**. Ou retrouve -t-on la valeur $42$ ?\n",
    "3. Que fait finalement cette instruction ?\n",
    "\n",
    "Réponses :\n",
    "1. \n",
    "\n",
    "\n",
    "\n",
    "2. \n",
    "\n",
    "\n",
    "\n",
    "3. \n",
    "\n"
   ]
  },
  {
   "cell_type": "markdown",
   "metadata": {},
   "source": [
    "#### Exercice 3:\n",
    "Utiliser **RESET** pour réinitialiser le simulateur, puis saisir une instruction qui permet de stocker la valeur $127$ dans le registre `R1`.\n",
    "\n",
    "Réponse :\n",
    "\n",
    "\n"
   ]
  },
  {
   "cell_type": "markdown",
   "metadata": {},
   "source": [
    "### Types d'instructions\n",
    "\n",
    "\n",
    "* Les instructions de transfert de données qui permettent de transférer une donnée d'un registre du CPU vers la mémoire vive et vice versa.\n",
    "  * Exemples : \n",
    "      - `LDR R1,78 ` : LOAD, charge la valeur contenue à l'adresse $78$ de la mémoire dans le registre `R1`\n",
    "      - `STR R0,23`:  STORE, stocke la valeur contenue dans le registre `R0` dans l'emplacement $23$ de la mémoire vive\n",
    "      - `MOV R5,#74`: MOVE, place l'entier $74$ dans le registre `R5` (le caractère `#` indique une valeur et non une adresse)\n",
    "\n",
    "\n",
    "* Les instructions arithmétiques (addition, soustraction, multiplication, opérateurs booléens,...).\n",
    "  * Exemples : \n",
    "      - `ADD R1,R0,#128` : Additionne le contenu du registre `R0` et la valeur $128$ et place le résultat dans le registre `R1`\n",
    "      - `ADD R0,R1,R2` : Additionne les contenu des registres `R1` et `R2` et place le résultat dans le registre `R0`\n",
    "      - `SUB R0,R1,R2` : Soustrait le contenu du registre `R2` au contenu de `R1` et place le résultat dans le registre `R0`\n",
    "\n",
    "\n",
    "\n",
    "* Les instructions de rupture de séquence : Au cours de l'exécution d'un programme, le CPU passe d'une instruction à une autre en passant d'une adresse mémoire à l'adresse mémoire immédiatement supérieure (il lit la 1 puis la 2, etc...). Certaines instructions permettent d'interrompre l'ordre initial(on parle de saut ou de branchement) sous certaines conditions en passant à une instruction située une adresse mémoire donnée.\n",
    "  * Exemples :\n",
    "      - `B 45` : BRANCH, la prochaine instruction se trouve à l'adresse $45$.\n",
    "      - `COMP R0, #23` : COMPARE, compare le contenu du registre `R0` avec la valeur $23$.Cette instruction CMP est obligatoirement suivi d'une des instructions de branchement conditionnel ci-dessous:\n",
    "      - `BEQ 78`:  BRANCH EQUAL, si la valeur comparée est égale à $23$, la prochaine instruction à l'adresse $78$\n",
    "      - `BNE 41`:  BRANCH NOT EQUAL, si la valeur comparée est différente de $23$, la prochaine instruction à l'adresse $41$\n",
    "      - `BGT 90`:  BRANCH GREATER THAN, si la valeur comparée est supérieure à $23$, la prochaine instruction à l'adresse $90$\n",
    "      - `BLT 125`:  BRANCH LESS THAN, si la valeur comparée est inférieure à $23$, la prochaine instruction à l'adresse $125$\n",
    "      - `HALT` : Arrête l'éxecution du programme"
   ]
  },
  {
   "cell_type": "markdown",
   "metadata": {},
   "source": [
    "#### Exercice 4 :\n",
    "Partie A : Expliquer ce que font chacune des instructions.\n",
    " * `ADD R0, R1, #42` :  \n",
    " * `LDR R5,98` :  \n",
    " * `CMP R4, #18`:  \n",
    " * `BGT 77` :  \n",
    " * `STR R0,15`:  \n",
    " * `B 100` :  \n",
    "\n",
    "Partie B : Ecrire les instructions correpondantes aux phrases suivantes\n",
    "\n",
    "* Additionne la valeur stockée dans le registre `R0` et la valeur stockée dans le registre `R1`, le résultat est stocké dans le registre `R5` :  \n",
    "* Place la valeur stockée à l'adresse mémoire $878$ dans le registre `R0` :  \n",
    "* Place le contenu du registre `R0` en mémoire vive à l'adresse $124$ :  \n",
    "* La prochaine instruction à exécuter se situe en mémoire vive à l'adresse $478$ :  \n",
    "* Si la valeur stockée dans le registre `R0` est égale $42$ alors la prochaine instruction à exécuter se situe à l'adresse mémoire $85$ : \n"
   ]
  },
  {
   "cell_type": "markdown",
   "metadata": {},
   "source": [
    "### Labels\n",
    "Les instructions assembleur `B`, `BEQ`, `BNE`, `BGT` et `BLT` n'utilisent pas directement l'adresse mémoire de la prochaine instruction à exécuter, mais des \"labels\"(des étiquettes). Un label correspond à une adresse en mémoire vive (c'est l'assembleur qui fera la traduction \"label\"->\"adresse mémoire\"). L'utilisation d'un label évite donc d'avoir à manipuler des adresses mémoires en binaire ou en hexadécimale."
   ]
  },
  {
   "cell_type": "markdown",
   "metadata": {},
   "source": [
    "#### Exercice 5:\n",
    "<center> Ci-dessous le résultat d'une éxecution d'instructions machines. </center>\n",
    "<img src='labels.png' width=800>\n",
    "\n",
    "1. Quel est le nom du label utilisé ? :  \n",
    "2. Dans quel cas la partie `monLabel:` est-elle lue ? : \n",
    "\n",
    "\n",
    "3. Pourquoi l'instruction  `HALT ` de la ligne $4$ est-elle indispensable ? :\n",
    "\n",
    "\n",
    "4. Réinitialiser la mémoire et modifier le programme pour qu'à la fin de l'instruction, le registre  `R0 ` contienne la valeur $14$ : \n",
    "\n",
    "\n",
    "\n",
    "\n",
    "\n"
   ]
  },
  {
   "cell_type": "markdown",
   "metadata": {},
   "source": [
    "#### Exercice :\n",
    "<img src='machinetopython.png' width=800>\n",
    "\n",
    "1. Saisir le code assembleur dans le simulateur puis L'éxécuter pas à pas avec la touche STEP.\n",
    "2. Décrire ce que fait ce programme\n",
    "3. A quoi servent les adresses 25,30 et 75 ?\n",
    "4. Traduire ce programme en langage python."
   ]
  },
  {
   "cell_type": "markdown",
   "metadata": {},
   "source": [
    "Réponses :\n",
    "2. \n",
    "   *  \n",
    "   *  \n",
    "   *  \n",
    "   *  \n",
    "   *  \n",
    "   * \n",
    "   * \n",
    "   * \n",
    "   * \n",
    "   *  \n",
    "   * \n",
    "  \n",
    "  \n",
    "3.  "
   ]
  },
  {
   "cell_type": "code",
   "execution_count": 1,
   "metadata": {},
   "outputs": [],
   "source": [
    "#4.\n",
    "\n",
    "\n",
    "\n",
    "\n",
    "\n",
    "\n",
    "\n"
   ]
  },
  {
   "cell_type": "markdown",
   "metadata": {},
   "source": [
    "#### Exercice 6 :\n",
    "Voici un code python. Le traduire en langage machine !"
   ]
  },
  {
   "cell_type": "code",
   "execution_count": null,
   "metadata": {},
   "outputs": [],
   "source": [
    "x=0\n",
    "while x<=3:\n",
    "   x=x+1"
   ]
  },
  {
   "cell_type": "markdown",
   "metadata": {},
   "source": [
    "Réponse :\n",
    "\n",
    "* \n",
    "* \n",
    "* \n",
    "* \n",
    "* \n",
    "* \n",
    "* \n",
    "* \n",
    "* \n",
    "* \n",
    "* \n"
   ]
  },
  {
   "cell_type": "markdown",
   "metadata": {},
   "source": [
    "## 3. Multiprocesseurs\n",
    "### La course au Ghz\n",
    "* Pour pouvoir éxécuter un grand nombre d'instructions par seconde, celles-ci doivent être synchronisées, c'est le rôle de l'horloge.\n",
    "\n",
    "* Pendant des années, pour augmenter les performances des ordinateurs, les constructeurs augmentaient la fréquence d'horloge des microprocesseurs : Plus la fréquence d'horloge du CPU est élevée, plus ce CPU est capable d'exécuter un grand nombre d'instructions machines par seconde \n",
    "\n",
    "<img align='center' src='freqcpu.jpg' width=300>\n",
    "\n",
    "* Comme on peut le voir sur le graphique ci-contre,  à partir de 2006 environ, la fréquence d'horloge a cessé d'augmenter, pourquoi ? À cause d'une contrainte physique : Il devenait difficile de refroidir le CPU, les constructeurs de microprocesseurs  ont décidé d'adopter une nouvelle tactique.\n",
    "\n",
    "### Multicoeurs\n",
    "* Dans un processeur , un cœur physique est un ensemble de circuits capables d’exécuter des programmes de façon autonome. Outre les fonctionnalités nécessaires à l’exécution d'un programme sont présents aussi des registres et une unité de calcul.\n",
    "\n",
    "\n",
    "* Les ordinateurs , tablettes et smartphones récents disposent désormais de processeurs comportant 2, 4, 8, 16 coeurs, voire plus, gravés sur une même puce. Ceci multiplie d'autant le nombres d'instructions éxecutables. \n",
    "\n",
    "**Ci-dessous : une capture d'écran du moniteur de ressources d'une processeur i7**\n",
    "<img src='monitor.png' width=400>\n",
    "* Cependant, tous ces coeurs utilisent la même mémoire vive. Quand un coeur travaille sur une certaine zone de la RAM, cette même zone n'est pas accessible aux autres coeurs, ce qui, peut brider les performances. On trouve à l'intérieur des microprocesseurs de la mémoire \"ultrarapide\" appelée mémoire cache. Le CPU peut stocker certaines données dans cette mémoire cache afin de pouvoir y accéder très rapidement. Enfin, il faut aussi que les applications aient été développées pour fonctionner en architecture multicoeurs, ce qui n'est pas toujours le cas...\n",
    "\n",
    "**Ci-dessous une vue agrandie de l'intérieur d'un processeur multicoeurs récent. On distingue la symétrie des 4 coeurs.**\n",
    "<img src='4coreamd.jpg' width=400>"
   ]
  },
  {
   "cell_type": "markdown",
   "metadata": {},
   "source": [
    "#### Exercice 7 : \n",
    "<img style='float:right;' src='https://imgs.xkcd.com/comics/binary_heart.jpg' width=100>\n",
    "Déterminer le nombre de coeurs du processeur de votre machine\n",
    "\n",
    "Réponse : "
   ]
  },
  {
   "cell_type": "markdown",
   "metadata": {},
   "source": [
    "# <center> FIN </center>"
   ]
  }
 ],
 "metadata": {
  "kernelspec": {
   "display_name": "Python 3",
   "language": "python",
   "name": "python3"
  },
  "language_info": {
   "codemirror_mode": {
    "name": "ipython",
    "version": 3
   },
   "file_extension": ".py",
   "mimetype": "text/x-python",
   "name": "python",
   "nbconvert_exporter": "python",
   "pygments_lexer": "ipython3",
   "version": "3.8.2"
  }
 },
 "nbformat": 4,
 "nbformat_minor": 2
}
