{
 "cells": [
  {
   "cell_type": "markdown",
   "metadata": {},
   "source": [
    "# <center> Compléments et opérations sur les Bases 2 et 16 </center>"
   ]
  },
  {
   "cell_type": "markdown",
   "metadata": {},
   "source": [
    "Nous avons déjà appris à : \n",
    "* Passer d'une écriture en base 2 à  une écriture en base 10, et réciproquement.\n",
    "* Passer d'une écriture en base 16 à  une écriture en base 10, et réciproquement.\n",
    "\n",
    "Nous allons à apprendre à :\n",
    "* Passer d'une écriture en base 2 à une écriture en base 16, et réciproquement.\n",
    "* Additionner deux nombres entiers écrits en base 2 ou en base 16.\n",
    "* Evaluer le nombre de bits nécéssaires à l'écriture en base 2 d'un entier, de la somme ou du produit de deux entiers\n",
    "\n"
   ]
  },
  {
   "cell_type": "markdown",
   "metadata": {},
   "source": [
    "## 1. Base 2 <> Base 16"
   ]
  },
  {
   "cell_type": "markdown",
   "metadata": {},
   "source": [
    "### Une première méthode  &#128549;\n",
    "\n",
    "Pour passer de la base 2 à la base 16 ou de la base 16 à la base 2, on peut passer par la base 10."
   ]
  },
  {
   "cell_type": "markdown",
   "metadata": {},
   "source": [
    "#### Exercice 1 : On veut convertir `1a5c` en base 2.\n",
    "1. Convertir `1a5c` en base 10.\n",
    "2. Convertir le nombre obtenu en base 2."
   ]
  },
  {
   "cell_type": "markdown",
   "metadata": {},
   "source": [
    "Réponse :\n",
    "1. \n",
    "2. "
   ]
  },
  {
   "cell_type": "markdown",
   "metadata": {},
   "source": [
    "#### Exercice 2: Convertir `10111001010` en base 16."
   ]
  },
  {
   "cell_type": "markdown",
   "metadata": {},
   "source": [
    "Réponse :\n",
    "* \n",
    "*  "
   ]
  },
  {
   "cell_type": "markdown",
   "metadata": {},
   "source": [
    "#### Synthèse :\n",
    "\n",
    "   * Cette méthode fonctionne dans tous les cas mais elle peut être très longue..."
   ]
  },
  {
   "cell_type": "markdown",
   "metadata": {},
   "source": [
    "### Une deuxième méthode  &#128512;\n",
    "* Elle s'appuie sur le fait que 16 et 2 sont des puissances de deux :\n",
    "  * $16=2^{4}$\n",
    "  * $2=2^{1}$\n",
    "\n",
    "* On peut ainsi écrire chacun des chiffres de la base 16 avec 4 bits."
   ]
  },
  {
   "cell_type": "markdown",
   "metadata": {},
   "source": [
    "#### Exercice 3 :\n",
    "Compléter le tableau ci-dessous en remplaçant les ?. Il est à connaître par coeur ou à retrouver rapidement.\n",
    "\n",
    "|Binaire|Héxa| | |Binaire|Héxa| | |Binaire|Héxa| | |Binaire|Héxa|\n",
    "|:-:|:-:|:-:|:-:|:-:|:-:|:-:|:-:|:-:|:-:|:-:|\n",
    "|0000|?| | |0100|?| | |1000|?|  | |1100|?|\n",
    "|0001|?| | |0101|?| | |1001|?| | |1101|?|\n",
    "|0010|?| | |0110|?| | |1010|?| | |1110|?|\n",
    "|0011|?| | |0111|?| | |1011|?| | |1111|?|\n"
   ]
  },
  {
   "cell_type": "markdown",
   "metadata": {},
   "source": [
    "### De la base 2 vers la base 16\n",
    "* On regroupe les chiffres binaires par 4 en partant de la droite en complétant éventuellement avec des `0` à gauche. \n",
    "* On identifie chacun de ces regroupements à son chiffre héxadécimal à l'aide du tableau ci-dessus.\n",
    "\n",
    "\n",
    "#### Exemple : `11010010100100010`\n",
    "*   On regroupe les chiffres binaires par 4 :  `0001` `1010`  `0101`  `0010`  `0010`\n",
    "*   On identifie chacun de ces regroupements à son chiffre héxadécimal : `1` `A` `5` `2` `2`\n",
    "*   L'écriture en base 16 est donc : `1A522`"
   ]
  },
  {
   "cell_type": "markdown",
   "metadata": {},
   "source": [
    "#### Exercice 4 :\n",
    "1. Exécuter la cellule ci-dessous et convertir les nombres affichés par python en base 16"
   ]
  },
  {
   "cell_type": "code",
   "execution_count": 1,
   "metadata": {},
   "outputs": [
    {
     "name": "stdout",
     "output_type": "stream",
     "text": [
      "a)  1000100101001\n",
      "b)  1011111100010\n",
      "c)  111101110110\n"
     ]
    }
   ],
   "source": [
    "%run -i \"2-16.py\""
   ]
  },
  {
   "cell_type": "markdown",
   "metadata": {},
   "source": [
    "Réponses :\n",
    "*  a) \n",
    "*  b) \n",
    "*  c)"
   ]
  },
  {
   "cell_type": "markdown",
   "metadata": {},
   "source": [
    "2. En utilisant les fonctions `hex()` et `int()`, écrire des instructions pour vérifier les réponses."
   ]
  },
  {
   "cell_type": "code",
   "execution_count": 1,
   "metadata": {},
   "outputs": [],
   "source": [
    "#Réponses\n",
    "\n",
    "\n"
   ]
  },
  {
   "cell_type": "markdown",
   "metadata": {},
   "source": [
    "### De la base 16 vers la base 2\n",
    "* On convertit chacun des chiffres en base 2 sur 4 bits.\n",
    "\n",
    "Exemple : `A10B`\n",
    "* On convertit chacun des chiffres sur 4 bits.`1010` `0001` `0000`  `1011`\n",
    "* L'écriture en base 2 est `1010000100001011`\n"
   ]
  },
  {
   "cell_type": "markdown",
   "metadata": {},
   "source": [
    "#### Exercice 5 :\n",
    "1. Exécuter la cellule ci-dessous et convertir les nombres affichés par python en base 2"
   ]
  },
  {
   "cell_type": "code",
   "execution_count": 1,
   "metadata": {},
   "outputs": [
    {
     "name": "stdout",
     "output_type": "stream",
     "text": [
      "a)  13f7\n",
      "b)  fd4\n",
      "c)  10d4\n"
     ]
    }
   ],
   "source": [
    "%run -i \"16-2.py\""
   ]
  },
  {
   "cell_type": "markdown",
   "metadata": {},
   "source": [
    "Réponses :\n",
    "*  a) \n",
    "*  b) \n",
    "*  c)"
   ]
  },
  {
   "cell_type": "markdown",
   "metadata": {},
   "source": [
    "2. En utilisant les fonctions `hex()` et `int()`, écrire des instructions pour vérifier les réponses."
   ]
  },
  {
   "cell_type": "code",
   "execution_count": 2,
   "metadata": {},
   "outputs": [],
   "source": [
    "#Réponses\n",
    " \n",
    "    \n",
    "    "
   ]
  },
  {
   "cell_type": "markdown",
   "metadata": {},
   "source": [
    "## 2. Additionner deux nombres"
   ]
  },
  {
   "cell_type": "markdown",
   "metadata": {},
   "source": [
    "### En base 10\n",
    "<img src='add10.png' width=200 style='float:right;'>\n",
    "\n",
    "Addition posée :\n",
    "* On additionne les chiffres de même rang (unités , dizaines, centaines,...)\n",
    "* On garde une retenue au rang suivant si la somme dépasse 10.\n"
   ]
  },
  {
   "cell_type": "markdown",
   "metadata": {},
   "source": [
    "### En base 2\n",
    "<img src='add2.png' width=300 style='float:right;'>\n",
    "\n",
    "* On additionne les chiffres de même rang (unités , deuxaines, quatraines,...).\n",
    "* On garde une retenue au rang suivant si la somme dépasse `10` (c'est à dire 2).\n",
    "\n",
    "* Ainsi chaque rang, les résultats possibles sont :\n",
    "\n",
    "|Chiffre 1|Chiffre 2| Retenue entrante| Chiffre résultat| Retenue sortante|\n",
    "|:-:|:-:|:-:|:-:|:-:|\n",
    "|0|0|0|0|0|\n",
    "|0|0|1|1|0|\n",
    "|0|1|0|1|0|\n",
    "|0|1|1|0|1|\n",
    "|1|0|0|1|0|\n",
    "|1|0|1|0|1|\n",
    "|1|1|0|0|1|\n",
    "|1|1|1|1|1|\n",
    "   \n",
    "* On retrouve les résultats du circuit logique __XOR__\n",
    "\n"
   ]
  },
  {
   "cell_type": "markdown",
   "metadata": {},
   "source": [
    "#### Exercice 6:\n",
    "A quelle addition en base 10, l'exemple ci-dessus correspond-il ?"
   ]
  },
  {
   "cell_type": "markdown",
   "metadata": {},
   "source": [
    "Réponse :\n",
    "\n",
    "\n",
    "\n",
    "\n"
   ]
  },
  {
   "cell_type": "markdown",
   "metadata": {},
   "source": [
    "#### Exercice 7 :\n",
    "Exécuter le code ci-dessous et calculer le résultat à l'aide de la méthode précédente:"
   ]
  },
  {
   "cell_type": "code",
   "execution_count": null,
   "metadata": {},
   "outputs": [
    {
     "name": "stdout",
     "output_type": "stream",
     "text": [
      "    1011000001001\n",
      "+      1110100001\n",
      "   _______________\n",
      "            ?      \n"
     ]
    }
   ],
   "source": [
    "%run -i \"add2.py\""
   ]
  },
  {
   "cell_type": "markdown",
   "metadata": {},
   "source": [
    "### En base 16\n",
    "<img src='add16.png' width=300 style='float:right;'>\n",
    "\n",
    "* On additionne les chiffres de même rang (unités , seizaines, deux cent cinquante sixaines,...).\n",
    "* On garde une retenue au rang suivant si la somme dépasse `f` (c'est à dire 16).\n",
    "* Dans l'exemple ci-contre, `b`+`f` correspond à $11+15=26=1\\times16+10$, c'est à dire `1a`. \n",
    "* C'est pour cela que l'on écrit `a` comme chiffre résultat et que l'on retient `1`.\n",
    "* Il est intéréssant de mémoriser les valeurs en base 10 des chiffres héxadécimaux(en particulier de`a` à `f` :\n",
    "\n",
    "|Décimal|_Hexa_| | |Décimal|_Hexa_| | |Décimal|_Hexa_| | |Décimal|_Hexa_|\n",
    "|:-:|:-:|:-:|:-:|:-:|:-:|:-:|:-:|:-:|:-:|:-:|\n",
    "|0|_0_| | |4|_4_| | |8|_8_|  | |12|_C_|\n",
    "|1|_1_| | |5|_5_| | |9|_9_| | |13|_D_|\n",
    "|2|_2_| | |6|_6_| | |10|_A_| | |14|_E_|\n",
    "|3|_3_| | |7|_7_| | |11|_B_| | |15|_F_|"
   ]
  },
  {
   "cell_type": "markdown",
   "metadata": {},
   "source": [
    "#### Exercice 8 :\n",
    "A quelle addition en base 10 l'exemple ci-dessus correspond-il ?"
   ]
  },
  {
   "cell_type": "markdown",
   "metadata": {},
   "source": [
    "Réponse :\n",
    "\n",
    "\n",
    "\n"
   ]
  },
  {
   "cell_type": "markdown",
   "metadata": {},
   "source": [
    "#### Exercice 9 :\n",
    "Exécuter le code ci-dessous et calculer le résultat à l'aide de la méthode précédente:"
   ]
  },
  {
   "cell_type": "code",
   "execution_count": null,
   "metadata": {},
   "outputs": [
    {
     "name": "stdout",
     "output_type": "stream",
     "text": [
      "    1ba4\n",
      "+   11d4\n",
      "   _______________\n",
      "            ?      \n"
     ]
    }
   ],
   "source": [
    "%run -i \"add16.py\""
   ]
  },
  {
   "cell_type": "markdown",
   "metadata": {},
   "source": [
    "## 3. Multiplier deux nombres"
   ]
  },
  {
   "cell_type": "markdown",
   "metadata": {},
   "source": [
    "### En base 10\n",
    "\n",
    "\n",
    "<img src='mul10.png' width=150 style='float:right;'>\n",
    "\n",
    "\n",
    "Multiplication posée :\n",
    "\n",
    "  * $123 \\times 42 = 123 \\times 40 + 123 \\times 2$\n",
    "  * On écrit d'abord le résultat de $123 \\times 2$\n",
    "  * Puis en dessous le résultat de $123 \\times 4 \\;dizaines $\n",
    "  * On additionne les deux résultats intermédiaires\n",
    "\n"
   ]
  },
  {
   "cell_type": "markdown",
   "metadata": {},
   "source": [
    "### En base 2\n",
    "<img src='mul2.png' width=200 style='float:right;'>\n",
    "\n",
    "* On garde exactement le même principe mais avec les chiffres `0` et `1`\n",
    "* Ainsi à chaque calcul effectué, les résultats possibles sont :\n",
    "\n",
    "|Chiffre 1 x|Chiffre 2| =  Chiffre résultat| \n",
    "|:-:|:-:|:-:|\n",
    "|0|0|0|\n",
    "|0|1|0|\n",
    "|1|0|0|\n",
    "|1|1|1|\n",
    "\n",
    "* On retrouve les résultats d'un circuit logique __AND__.\n",
    "* Le principe est le même en base 16  mais il y a plus de calculs à mémoriser, autant repasser par la base 2 !\n"
   ]
  },
  {
   "cell_type": "markdown",
   "metadata": {},
   "source": [
    "#### Exercice 10 :\n",
    "Vérifez le résultat en base 10 de l'opération donnée en exemple."
   ]
  },
  {
   "cell_type": "markdown",
   "metadata": {},
   "source": [
    "Réponse:\n",
    "\n",
    "\n"
   ]
  },
  {
   "cell_type": "markdown",
   "metadata": {},
   "source": [
    "#### Exercice 11 : \n",
    "Exécuter le code ci-dessous et calculer le résultat à l'aide de la méthode présentée."
   ]
  },
  {
   "cell_type": "code",
   "execution_count": null,
   "metadata": {},
   "outputs": [
    {
     "name": "stdout",
     "output_type": "stream",
     "text": [
      "    10000\n",
      "x     101\n",
      "   _______________\n",
      "            ?      \n"
     ]
    }
   ],
   "source": [
    "%run -i  \"multi2.py\""
   ]
  },
  {
   "cell_type": "markdown",
   "metadata": {},
   "source": [
    "## 4. Evaluer le nombre de bits nécéssaires à l'écriture en base 2 :\n",
    "Les opérations effectués par un ordinateur se font sur un nombre de bits fixés(8,16,32,64,...). Il peut être  important de mesurer le nombre de bits nécéssaires en fonction des valeurs utilisées et des opérations arithmétiques à effectuer."
   ]
  },
  {
   "cell_type": "markdown",
   "metadata": {},
   "source": [
    "### Entiers naturels"
   ]
  },
  {
   "cell_type": "markdown",
   "metadata": {},
   "source": [
    "#### Exercice 12 :\n",
    "Partie A : Combien de bits sont nécéssaires pour représenter :\n",
    "1. L'entier 0 en base 2?\n",
    "2. L'entier 255 en base 2 ?\n",
    "3. L'entier 256 en base 2 ?\n",
    "4. L'entier $2^{n}$ avec $n\\; \\in \\mathbb{N}$ en base 2 ?\n",
    "5. L'entier $2^{n}-1$ avec $n\\; \\in \\mathbb{N}$ en base 2 ?\n",
    "\n",
    "Partie B:\n",
    "1. Encadrer le nombre 29356 entre 2 puissances de 2.\n",
    "2. En déduire le nombre de bits nécéssaires pour le représenter.\n",
    "3. Déterminer le nombre de bits nécéssaires pour représenter 6431."
   ]
  },
  {
   "cell_type": "markdown",
   "metadata": {},
   "source": [
    "Réponse:\n",
    "\n",
    "Partie A :\n",
    "\n",
    "1. \n",
    "2. \n",
    "3. \n",
    "4. \n",
    "5. \n",
    "\n",
    "Partie B :\n",
    "\n",
    "1.  \n",
    "2.  \n",
    "3.  "
   ]
  },
  {
   "cell_type": "markdown",
   "metadata": {},
   "source": [
    "#### A retenir :\n",
    "   * Avec $n$ bits, on représente $2^{n}$ informations différentes en particulier tous les entiers naturels de 0 à $2^{n}-1$\n",
    "   * Pour évaluer le nombre de bits nécéssaires à la représentation d'un entier naturel $N$ :\n",
    "     * Si N est une puissance de 2 : il existe un entier $k$, tel que $2^{k}=N$, il faut $k+1$  bits.\n",
    "     * Sinon, N est strictement compris entre deux puissances de $2$ : il existe un entier $k$ tel que $2^{k}<N<2^{k+1}$, il faut $k+1$ bits.\n",
    "   * __Autrement dit le nombre de bits nécéssaires est égal à $k+1$ ou $k$ est le plus petit entier tel que $2^{k} \\leq N$.__\n",
    "   \n",
    "#### Pour aller plus loin :\n",
    "* Le nombre de bits nécéssaires au codage d'un entier naturel $N$ peut se calculer à l'aide d'un formule faisant intervenir le logarithme en base 2 (du nom d'une fonction que vous étudierez en terminale).\n",
    "* Ainsi le nombre de bits nécéssaires est égal à la partie entière de $log_2(N)+1$\n",
    "* Exemple (voir ci-dessous) : Pour coder $12341$, on calcule $log_2(12341) \\approx 13.59$. Il faut $14$ bits."
   ]
  },
  {
   "cell_type": "code",
   "execution_count": 2,
   "metadata": {},
   "outputs": [
    {
     "name": "stdout",
     "output_type": "stream",
     "text": [
      "13.591171681377787\n",
      "3.0\n"
     ]
    }
   ],
   "source": [
    "from math import *\n",
    "print(log(12341,2))"
   ]
  },
  {
   "cell_type": "markdown",
   "metadata": {},
   "source": [
    "#### Exercice 13 :\n",
    "\n",
    "1. Combien de bits sont nécéssaires pour représenter les $26$ lettres de l'alphabet en minuscule ?\n",
    "2. Combien de bits sont nécéssaires pour coder $16777216$ couleurs ?\n",
    "3. Combien de bits sont nécéssaires pour représenter chacune des $34 968$ communes françaises par un code binaire unique ?\n",
    "4. On veut attribuer un code unique à chacun des $66 524 000$ Français. Combien de bits sont nécéssaires pour représenter ce code ?"
   ]
  },
  {
   "cell_type": "markdown",
   "metadata": {},
   "source": [
    "Réponse :\n",
    "1.  \n",
    "2.  \n",
    "3.  \n",
    "4. \n",
    "\n",
    " "
   ]
  },
  {
   "cell_type": "markdown",
   "metadata": {},
   "source": [
    "### Entier relatifs codés en C2"
   ]
  },
  {
   "cell_type": "markdown",
   "metadata": {},
   "source": [
    "#### Rappel :\n",
    "\n",
    "<img src='roue_c2_n.png' width=300 style='float:right;'>\n",
    "\n",
    "Pour le complément à deux (two's complement) sur $n$ bits,<br> on dispose de $2^{n}$ états possibles,\n",
    "avec lesquels on représente :\n",
    "* Les entiers positifs de $0$ à $2^{n-1}-1$ \n",
    "* Les entiers négatifs de $-2^{n-1}$ à $-1$\n",
    "* Les entiers relatifs positifs sont représentés comme les entiers naturels.\n",
    "* Un entier relatif $x$ strictement négatif est représenté comme l'entier naturel $x+2^{n}$ en base 2.\n",
    "\n",
    "#### Méthode :\n",
    "On veut savoir combien de bits sont nécéssaires pour coder un entier relatif N.\n",
    "* Lorsque N est positif: On applique la même méthode que précédemment et ajoute le bit de poids fort à gauche qui indique le signe (dans ce cas `0`)\n",
    "* Lorsque N est strictement négatif :\n",
    "   * Si N est est de la forme $-2^{k}, k \\in \\mathbb{N}$, alors il faut $k$ bits $+1$ bit pour le signe (dans ce cas `1`), c'est à dire $k+1$ bits\n",
    "   * Sinon , il existe $k$ tel que $-2^{k+1}<N<-2^{k}$, il faut $k+1$ bits $+1$ bit pour le signe (dans ce cas `1`), c'est à dire $k+2$ bits.\n",
    "\n",
    "Exemple : \n",
    "1. Combien de bits sont nécéssaires pour coder $129$ en C2 ?\n",
    " * $2^{7}<129<2^{8}$, il faut $7+1+1=9$, $9$ bits.\n",
    " \n",
    "2. Combien de bits sont nécéssaires pour coder $-129$ en C2 ?\n",
    " * $-2^{8}<-129<-2^{7}$, il faut $9$ bits.\n",
    "3. Combien de bits sont nécéssaires pour coder $-128$ en C2 ?\n",
    " * $-128=-2^{7}$.Il faut $8$ bits.\n",
    "\n"
   ]
  },
  {
   "cell_type": "markdown",
   "metadata": {},
   "source": [
    "#### Exercice 14 :\n",
    "1. Combien de bits sont nécéssaires pour coder $1341$ en C2 ?\n",
    "2. Combien de bits sont nécéssaires pour coder $-1024$ en C2 ?\n",
    "3. Combien de bits sont nécéssaires pour coder $-2047$ en C2 ?"
   ]
  },
  {
   "cell_type": "markdown",
   "metadata": {},
   "source": [
    "Réponse:\n",
    "1.  \n",
    "2.  \n",
    "3.  "
   ]
  },
  {
   "cell_type": "markdown",
   "metadata": {},
   "source": [
    "### Somme de deux entiers naturels"
   ]
  },
  {
   "cell_type": "markdown",
   "metadata": {},
   "source": [
    "#### Exercice 15:\n",
    "\n",
    "\n",
    "1. Effectuer les additions suivantes :\n",
    "  *  `1001`+`100`\n",
    "  * `1101`+`111`\n",
    "  * `1010`+`11`\n",
    "  * `1111`+`1111`\n",
    "  \n",
    "  \n",
    "2. Compléter le tableau ci-dessous :\n",
    "\n",
    "|Nombre de chiffres du premier opérande|Nombre de chiffres du deuxième opérande| Nombre de chiffres du résultat|\n",
    "|:-:|:-:|:-:|\n",
    "|-|-|-|\n",
    "|-|-|-|\n",
    "|-|-|-|\n",
    "|-|-|-|\n",
    "\n",
    "3. Que constate-t-on ?\n",
    "\n",
    "\n",
    "\n",
    "4. On additionne deux nombres à  $8$ bits.\n",
    " * Combien de bits au minimum comporte le résultat ?\n",
    " * Combien de bits au maximum comporte le résultat ?\n",
    " \n",
    " \n",
    "\n",
    "5. On additionne un nombre à $n$ bits et un nombre $m$ bits. On suppose que $m \\leq n$.\n",
    " * Combien de bits au minimum comporte le résultat ?\n",
    " * Combien de bits au maximum comporte le résultat ?"
   ]
  },
  {
   "cell_type": "markdown",
   "metadata": {},
   "source": [
    "Réponses :\n",
    "1.  \n",
    "  *   \n",
    "  *  \n",
    "  *  \n",
    "  *  \n",
    "\n",
    "\n",
    "2. Voir tableau\n",
    "\n",
    "\n",
    "3.  \n",
    "4. \n",
    " * \n",
    " * \n",
    "5. "
   ]
  },
  {
   "cell_type": "markdown",
   "metadata": {},
   "source": [
    "#### A retenir :\n",
    "* Lorsque l'on addtionne un nombre à $m$ chiffres binaires et un nombre à $n$ chiffres binaires (on suppose que $m \\leq n$), le résultat est un nombre à $n$ ou $n+1$ bits."
   ]
  },
  {
   "cell_type": "markdown",
   "metadata": {},
   "source": [
    "#### Exercice 16:\n",
    "<img src='ariane.jpg' width=250 style='float:right;'>\n",
    "\n",
    "On considère un capteur dans un système embarqué d'un véhicule volant. Ce capteur mesure l'accélération horizontale qui est ensuite converti sur $8$ bits :\n",
    "1. A l'instant $t_1$, l'accélération mesurée est 60. Convertir ce nombre en base 2.\n",
    "2. A l'instant $t_2$, l'accélaration augmente de 240. Quel sera le résultat converti en base 2 ?\n",
    "3. Que va comprendre le système embarqué ?"
   ]
  },
  {
   "cell_type": "markdown",
   "metadata": {},
   "source": [
    "Réponse :\n",
    "1.  \n",
    "2.  \n",
    "3.  "
   ]
  },
  {
   "cell_type": "markdown",
   "metadata": {},
   "source": [
    "#### A retenir : \n",
    "\n",
    "* Le dépassement de capacité( overflow) peut se produire lorsque l'espace mémoire prévu est sous dimensionné par rapport aux valeurs que l'on souhaite représenter. Cela peut avoir de lourdes conséquences...\n",
    "* Un bug à 370 millions d'€  : https://www.youtube.com/watch?v=gp_D8r-2hwk\n",
    "* Dans le cas de l'ajout de deux entiers codé en C2 :\n",
    "  * Si les deux entiers sont de signes contraires, alors il n'y a aucun risque de dépassement de capacité.\n",
    "  * S'ils sont de même signe, il peut y avoir dépassement de capacité, comme pour les entiers naturels.\n"
   ]
  },
  {
   "cell_type": "markdown",
   "metadata": {},
   "source": [
    "### Produit de deux entiers naturels"
   ]
  },
  {
   "cell_type": "markdown",
   "metadata": {},
   "source": [
    "#### Exercice 17 :\n",
    "Exécutez le code ci-dessous autant de fois que nécéssaire pour compléter la partie \"A retenir\" ci-après."
   ]
  },
  {
   "cell_type": "code",
   "execution_count": 7,
   "metadata": {},
   "outputs": [
    {
     "name": "stdout",
     "output_type": "stream",
     "text": [
      "1) 111010 x 101110 = 101001101100\n",
      "2) 110011 x 100110 = 11110010010\n",
      "3) 10010 x 1010 = 10110100\n",
      "4) 110001 x 11111 = 10111101111\n",
      "5) 101101 x 11110 = 10101000110\n"
     ]
    }
   ],
   "source": [
    "%run -i  \"multi2x.py\""
   ]
  },
  {
   "cell_type": "markdown",
   "metadata": {},
   "source": [
    "####  A retenir\n",
    "Lorsque l'on multiplie un nombre à $m$ bits par un nombre à $n$ bits(on suppose que $m \\leq n$), le résultat comporte:\n",
    "* Au minimum ? bits\n",
    "* Au maximum ? bits"
   ]
  },
  {
   "cell_type": "markdown",
   "metadata": {},
   "source": [
    "# <center> FIN </center>"
   ]
  }
 ],
 "metadata": {
  "kernelspec": {
   "display_name": "Python 3",
   "language": "python",
   "name": "python3"
  },
  "language_info": {
   "codemirror_mode": {
    "name": "ipython",
    "version": 3
   },
   "file_extension": ".py",
   "mimetype": "text/x-python",
   "name": "python",
   "nbconvert_exporter": "python",
   "pygments_lexer": "ipython3",
   "version": "3.7.2"
  }
 },
 "nbformat": 4,
 "nbformat_minor": 2
}
