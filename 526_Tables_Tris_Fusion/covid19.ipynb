{
 "cells": [
  {
   "cell_type": "markdown",
   "metadata": {},
   "source": [
    "# <center> COVID-19 </center>"
   ]
  },
  {
   "cell_type": "markdown",
   "metadata": {},
   "source": [
    "## 1. Présentation de l'activité\n",
    "\n",
    "<img src='covid.jpg' style='float:right;' width=300>\n",
    "\n",
    "* Quotidiennement, des données sont récoltées dans le monde entier par les chercheurs des pays touchés pour pouvoir suivre et enrayer la propagation de la pandémie de Coronavirus.\n",
    "* Sur la page suivante , on trouve des fichiers qui rassemblent ces données : https://www.data.gouv.fr/fr/datasets/coronavirus-covid19-evolution-par-pays-et-dans-le-monde-maj-quotidienne/\n",
    "* Les objectifs de cette activité sont :\n",
    "  * De découvrir et d'utiliser une nouvelle bibliothèque.\n",
    "  * D'utiliser un fichier au format __csv__ depuis une URL, ce qui permet une consultation en temps réel.\n",
    "  * Y extraire des données et trier des données selon des critères définis.\n",
    "  * Réprésenter graphiquement l'évolution de la maladie par pays et par jour.\n"
   ]
  },
  {
   "cell_type": "markdown",
   "metadata": {},
   "source": [
    "## 2. Pré-requis\n",
    "Cette activité nécéssite l'utilisation des bibliothèques suivantes:\n",
    "* `pandas` qui permet de travailler avec des bases de données.\n",
    "* `matplotlib` et plus particulièrment le module `pyplot` pour les représentations graphiques."
   ]
  },
  {
   "cell_type": "markdown",
   "metadata": {},
   "source": [
    "#### Exercice 1 :\n",
    "\n",
    "Exécuter la cellule ci-dessous.Si rien ne s'affiche, c'est que les modules sont correctement installées. Si une erreur apparaît, c'est que l'un des modules n'est pas installé.Il faut alors suivre la procédure suivante :\n",
    " * Ouvrir une console de commande.\n",
    " * taper `pip install pandas`\n",
    " * taper `pip install matplotlib`\n",
    " * Exécuter de nouveau la cellule pour vérifier que les modules sont installés"
   ]
  },
  {
   "cell_type": "code",
   "execution_count": 2,
   "metadata": {},
   "outputs": [],
   "source": [
    "import pandas\n",
    "from matplotlib import pyplot"
   ]
  },
  {
   "cell_type": "markdown",
   "metadata": {},
   "source": [
    "#### Exercice 2 :\n",
    "Sur le site proposé dans la présentation ci-dessous, télécharger le fichier __\"Evolution par jour et par pays (CSV)\"__.\n",
    "1. Trouver une application pour ouvrir ce fichier.\n",
    "1. Que signifie __csv__ ?\n",
    "2. Quel caractère est le séparateur dans ce fichier ?"
   ]
  },
  {
   "cell_type": "markdown",
   "metadata": {},
   "source": [
    "Réponses :\n",
    " 1. \n",
    " 2.  \n",
    " 3.  "
   ]
  },
  {
   "cell_type": "markdown",
   "metadata": {},
   "source": [
    "### A retenir\n",
    "* Le sigle CSV signifie \"Comma-Separated Values\" et désigne un fichier informatique de type tableur, dont les valeurs sont séparées par des virgules(ou un autre caractère de ce type).\n",
    "* Le format CSV est un format de texte simple qui est utilisé dans de nombreux contextes lorsque de grandes quantités de données doivent être traitées.\n",
    "* Ce type de fichier peut être lu dans un tableur.\n",
    "* La plupart des langages de programmation comprennent ce format de fichier."
   ]
  },
  {
   "cell_type": "markdown",
   "metadata": {},
   "source": [
    "## 3.  Exploiter un fichier `.csv` avec `pandas`"
   ]
  },
  {
   "cell_type": "markdown",
   "metadata": {},
   "source": [
    "#### Exercice 3 :\n",
    "1. Sur la page web précédente trouver l'URL stable de ce fichier et la recopier en réponse\n",
    "2. Compléter le programme ci-après en remplaçant les `?` .L'éxécution de ce programme doit renvoyer un extrait du fichier. "
   ]
  },
  {
   "cell_type": "markdown",
   "metadata": {},
   "source": [
    "Réponses :\n",
    "1.  "
   ]
  },
  {
   "cell_type": "code",
   "execution_count": null,
   "metadata": {},
   "outputs": [],
   "source": [
    "#2. Programme à compléter\n",
    "\n",
    "#récupérer le dataset à l'aide d'une URL\n",
    "data = pandas.read_csv(?,\n",
    "                       skiprows=3,\n",
    "                       sep=?)\n",
    "\n",
    "#formater la colonne date\n",
    "data['Date'] = pandas.to_datetime(data['Date'], format='%Y-%m-%d')\n",
    "\n",
    "#on ne garde que les données postérieures à une date donnée\n",
    "data=data.loc[data['Date'] > '2020-02-20']\n",
    "\n",
    "#Affiche les 5 premières lignes du fichier avec les noms de colonnes\n",
    "print(data.head(5))"
   ]
  },
  {
   "cell_type": "markdown",
   "metadata": {},
   "source": [
    "#### Exercice 4 : \n",
    "A l'aide du programme précédent ainsi que de cette documentation : http://eric.univ-lyon2.fr/~ricco/tanagra/fichiers/fr_Tanagra_Data_Manipulation_Pandas.pdf , répondre au questions suivantes :\n",
    "1. Afficher tous les noms de colonnes.\n",
    "2. Combien de lignes possède aujourd'hui ce fichier ?\n",
    "3. Afficher uniquement les colonnes `'Date'`, `'Pays'` et `'Infections'`. \n",
    "4. Afficher uniquement les données de l'Espagne et les stocker dans une variable. Combien de personnes y sont pour le moment infectées ?\n",
    "5. Trier les lignes de cette table par ordre alphabétique des pays.\n",
    "6. Afficher les noms de tous les pays concernés par cette pandémie(sans doublons).\n",
    "7. Afficher les lignes des pays dont le nombre de personnes infectées est aujourd'hui supérieur à $5000$."
   ]
  },
  {
   "cell_type": "code",
   "execution_count": 1,
   "metadata": {},
   "outputs": [],
   "source": [
    "#1.\n"
   ]
  },
  {
   "cell_type": "code",
   "execution_count": 2,
   "metadata": {},
   "outputs": [],
   "source": [
    "#2.\n"
   ]
  },
  {
   "cell_type": "code",
   "execution_count": 3,
   "metadata": {},
   "outputs": [],
   "source": [
    "#3.\n"
   ]
  },
  {
   "cell_type": "code",
   "execution_count": 5,
   "metadata": {},
   "outputs": [],
   "source": [
    "#4.\n"
   ]
  },
  {
   "cell_type": "code",
   "execution_count": 6,
   "metadata": {},
   "outputs": [],
   "source": [
    "#5.\n"
   ]
  },
  {
   "cell_type": "code",
   "execution_count": 7,
   "metadata": {},
   "outputs": [],
   "source": [
    "#6. \n"
   ]
  },
  {
   "cell_type": "code",
   "execution_count": 8,
   "metadata": {},
   "outputs": [],
   "source": [
    "#7.\n"
   ]
  },
  {
   "cell_type": "markdown",
   "metadata": {},
   "source": [
    "### Synthèse :\n",
    "* `pandas` crée un objet appelé \"dataFrame\"(dans l'exercice précédent, il s'agit de la variable `data`), une sorte de tableau à double entrée composé de lignes et de colonnes.\n",
    "* On peut ensuite extraire une partie des données en agissant sur les colonnes et les valeurs contenues dans celle-ci"
   ]
  },
  {
   "cell_type": "markdown",
   "metadata": {},
   "source": [
    "## 4. Représenter les données avec `matplotlib`"
   ]
  },
  {
   "cell_type": "markdown",
   "metadata": {},
   "source": [
    "#### Exercice 5 : Reprenons le dataFrame créé avec `pandas` :"
   ]
  },
  {
   "cell_type": "code",
   "execution_count": 33,
   "metadata": {},
   "outputs": [],
   "source": [
    "#récupérer le dataset à l'aide d'une URL\"\n",
    "data = pandas.read_csv('https://www.data.gouv.fr/fr/datasets/r/f4935ed4-7a88-44e4-8f8a-33910a151d42',\n",
    "                       skiprows=3,\n",
    "                       sep=';')\n",
    "\n",
    "#formater la colonne date\n",
    "data['Date'] = pandas.to_datetime(data['Date'], format='%Y-%m-%d')\n",
    "\n",
    "#on ne garde que les données postérieures à une date donnée\n",
    "data=data.loc[data['Date'] > '2020-02-20']\n"
   ]
  },
  {
   "cell_type": "markdown",
   "metadata": {},
   "source": [
    "1. Extraire les données pour la France"
   ]
  },
  {
   "cell_type": "code",
   "execution_count": null,
   "metadata": {},
   "outputs": [],
   "source": [
    "#1.\n",
    "datafr='à compléter'\n",
    "print('datafr')"
   ]
  },
  {
   "cell_type": "markdown",
   "metadata": {},
   "source": [
    "2. Compléter la liste `Xfr` pour qu'elle contienne les valeurs de la colonne `'Date'` et la liste `Yfr` pour qu'elle contienne les valeurs de la colonne `'Infections'`.Si les instructions sont correctes, une courbe doit apparaître après l'exécution de la cellule."
   ]
  },
  {
   "cell_type": "code",
   "execution_count": null,
   "metadata": {},
   "outputs": [],
   "source": [
    "#2.\n",
    "Xfr='à compléter'\n",
    "Yfr='à compléter'\n",
    "\n",
    "#Pour éviter un message d'avertissement à l'affichage des courbes\n",
    "from pandas.plotting import register_matplotlib_converters\n",
    "register_matplotlib_converters()\n",
    "\n",
    "#taille du graphique et légendes des axes\n",
    "pyplot.figure(figsize=(20, 6))\n",
    "pyplot.xlabel('Date')\n",
    "pyplot.ylabel('Nombres de personnes')\n",
    "\n",
    "#représentation des données\n",
    "pyplot.plot(Xfr,Yfr,label='Infections-France')\n",
    "\n",
    "#légende des courbes et grille\n",
    "pyplot.legend(loc=0)\n",
    "pyplot.grid()"
   ]
  },
  {
   "cell_type": "markdown",
   "metadata": {},
   "source": [
    "3. Modifier le code de la question précédente pour ajouter la courbe des décès."
   ]
  },
  {
   "cell_type": "markdown",
   "metadata": {},
   "source": [
    "#### Exercice 6 :\n",
    "Recopier ci-dessous le code précédent et ajouter les courbes des infections et des décès pour l'Espagne."
   ]
  },
  {
   "cell_type": "code",
   "execution_count": 10,
   "metadata": {},
   "outputs": [],
   "source": [
    "#Réponse\n",
    "\n",
    "\n",
    "\n",
    "\n",
    "\n",
    "\n",
    "\n",
    "\n",
    "\n",
    "\n",
    "\n",
    "\n",
    "\n",
    "\n",
    "\n"
   ]
  },
  {
   "cell_type": "markdown",
   "metadata": {},
   "source": [
    "#### Exercice 7 :\n",
    "Le script ci-dessous doit permettre de représenter les valeurs des colonnes `'Infections'` et `'Deces'` en fonction des valeurs de la colonne `'Date'`, et ce, pour n'importe quel pays choisi par l'utilisateur. Pour cela on crée deux fonctions :\n",
    "* La fonction `donnees(pays)` qui prend en paramètre le nom du pays(chaîne de caractères) et qui renvoie un tuple de trois éléments contenant les valeurs des colonnes respectives Date, Infections, Deces.\n",
    "* La fonction `graph(pays)` qui prend en paramètre le nom du pays(chaîne de caractères) et qui affiche les courbes dans le repère.\n",
    "* A l'éxécution de ce script, les données pour les pays 'France', 'Italie' et 'Espagne' doivent s'afficher.\n",
    "\n",
    "\n",
    "1. Compléter ces deux fonctions en remplaçant les caractères `?` jusqu'à ce qu'il n'y ait plus de message d'erreur"
   ]
  },
  {
   "cell_type": "code",
   "execution_count": null,
   "metadata": {},
   "outputs": [],
   "source": [
    "#Réponse\n",
    "import pandas\n",
    "from matplotlib import pyplot\n",
    "\n",
    "#Pour éviter un message d'avertissement à l'affichage des courbes\n",
    "from pandas.plotting import register_matplotlib_converters\n",
    "register_matplotlib_converters()\n",
    "\n",
    "#récupérer le dataset à l'aide d'une URL\"\n",
    "data = pandas.read_csv('https://www.data.gouv.fr/fr/datasets/r/f4935ed4-7a88-44e4-8f8a-33910a151d42',\n",
    "                       skiprows=3,\n",
    "                       sep=';')\n",
    "\n",
    "#formater la colonne date\n",
    "data['Date'] = pandas.to_datetime(data['Date'], format='%Y-%m-%d')\n",
    "\n",
    "#on ne garde que les données postérieures à une date donnée\n",
    "data=data.loc[data['Date'] > '2020-02-20']\n",
    "\n",
    "\n",
    "def donnees(pays):\n",
    "    D=data.loc[?]\n",
    "    X=?\n",
    "    Y=?\n",
    "    Z=?\n",
    "    return X,Y,Z\n",
    "\n",
    "def graph(pays):\n",
    "    X,Y,Z=?\n",
    "    pyplot.plot(?,?,label='Infections-'+pays)\n",
    "    pyplot.plot(?,?,label='Décès-'+pays) \n",
    "    \n",
    "pyplot.figure(figsize=(20, 6))\n",
    "pyplot.xlabel('Date')\n",
    "pyplot.ylabel('Nombres de personnes')\n",
    "\n",
    "graph('France')\n",
    "graph('Italie')\n",
    "graph('Espagne')\n",
    "\n",
    "pyplot.legend(loc=0)\n",
    "pyplot.grid()"
   ]
  },
  {
   "cell_type": "markdown",
   "metadata": {},
   "source": [
    "2. En modifiant le programme ci-dessus, comparer les données de la France et du Japon."
   ]
  },
  {
   "cell_type": "markdown",
   "metadata": {},
   "source": [
    "#### Exercice 8 : Un peu d'espoir\n",
    "Par la méthode de votre choix, programmer l'affichage des courbes des infections et des guerisons pour la Chine depuis le début de l'épidémie."
   ]
  },
  {
   "cell_type": "code",
   "execution_count": null,
   "metadata": {},
   "outputs": [],
   "source": [
    "#Réponse\n",
    "    \n",
    "    \n",
    "    \n",
    "    \n",
    "    \n",
    "    \n",
    "    \n",
    "    \n",
    "    \n",
    "    \n",
    "    \n",
    "    \n",
    "    \n",
    "    \n",
    "    "
   ]
  },
  {
   "cell_type": "markdown",
   "metadata": {},
   "source": [
    "# <center> FIN (de la pandémie) </center>"
   ]
  }
 ],
 "metadata": {
  "kernelspec": {
   "display_name": "Python 3",
   "language": "python",
   "name": "python3"
  },
  "language_info": {
   "codemirror_mode": {
    "name": "ipython",
    "version": 3
   },
   "file_extension": ".py",
   "mimetype": "text/x-python",
   "name": "python",
   "nbconvert_exporter": "python",
   "pygments_lexer": "ipython3",
   "version": "3.7.2"
  }
 },
 "nbformat": 4,
 "nbformat_minor": 2
}
