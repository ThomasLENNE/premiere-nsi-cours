{
 "cells": [
  {
   "cell_type": "markdown",
   "metadata": {},
   "source": [
    "# <center> Algorithmes gloutons </center>"
   ]
  },
  {
   "cell_type": "markdown",
   "metadata": {},
   "source": [
    "## 1. Présentation\n",
    "Il y a essentiellement trois grands paradigmes pour concevoir un algorithme : \n",
    "\n",
    "* Les stratégies gloutonnes (ce qui sera vu dans cette feuille).\n",
    "* Diviser pour régner (par exemple la recherche dichotomique).\n",
    "* La programmation dynamique (c'est au programme de terminale).\n",
    "\n",
    "Par paradigme, on entend une façon de concevoir un algorithme pour résoudre un problème.\n",
    "\n",
    "Les stratégies gloutonnes sont très naturelles dans leur approche et permettent de résoudre une grande variété de problèmes.Les algorithmes gloutons sont abordés ici à l'aide de problèmes classiques :\n",
    "* Le problème du rendu de monnaie.\n",
    "* Le problème du sac à dos.\n",
    "* La plannification d'activités.\n",
    "\n",
    "### Définition: \n",
    "Un algorithme glouton détermine une solution après avoir effectué une série de choix. Pour chaque point de décision, il retient le choix qui semble le meilleur à cet instant. Il ne revient ensuite pas sur ce choix. Cette stratégie ne produit pas toujours une solution optimale."
   ]
  },
  {
   "cell_type": "markdown",
   "metadata": {},
   "source": [
    "#### Exercice 1 :\n",
    "On considère une liste d'objets dont voici les masses, en kg : $7$ , $6$ ,  $3$ ,  $4$ ,  $8$ ,  $5$ ,  $9$ ,  $2$. On place ces objets dans des cartons de 11 kg maximum. \n",
    "1. En remplaçant les tirets par les masses des objets, déterminer le nombre minimum de cartons que l'on peut faire.\n",
    "\n",
    "\n",
    "| Carton 1 | Carton 2 | Carton 3 | Carton 4 | Carton 5 | Carton 6 |\n",
    "|:--------:|:--------:|:--------:|:--------:|:--------:|:--------:|\n",
    "| - | - | - | - | - | - |\n",
    "| - | - | - | - | - | - |\n",
    "\n",
    "\n",
    "2. Décrire une stratégie gloutonne qui permet d'aboutir au résultat.\n",
    "\n",
    "Réponses :\n",
    "1.   \n",
    "2.   "
   ]
  },
  {
   "cell_type": "markdown",
   "metadata": {},
   "source": [
    "#### Exercice 2 :\n",
    "Même objectif avec les masses suivantes : $6$ , $5$ ,  $5$ ,  $3$ ,  $3$ ,  $2$. On cherche cette fois à faire des cartons de 12kg.\n",
    " \n",
    "1. Compléter ce tableau en utilisant la même stratégie gloutonne que précédemment.\n",
    "\n",
    "\n",
    "| Carton 1 | Carton 2 | Carton 3 | Carton 4 |\n",
    "|:--------:|:--------:|:--------:|:--------:|\n",
    "| - | - | - | - | \n",
    "| - | - | - | - | \n",
    "| - | - | - | - | \n",
    "\n",
    "\n",
    "2. Montrer que cette solution n'est pas optimale.\n",
    "\n",
    "Réponses :\n",
    "1.   \n",
    "2.   "
   ]
  },
  {
   "cell_type": "markdown",
   "metadata": {},
   "source": [
    "### A retenir :\n",
    "* Les algorithmes gloutons sont intuitifs, simples à concevoir et peu coûteux en temps et mémoire.\n",
    "* Ils répondent à de nombreux problèmes d'optimisation(plus court chemin, planification de tâches...)\n",
    "* Ils produisent une solution à des problèmes difficiles, même si celle-ci n'est pas toujours optimale."
   ]
  },
  {
   "cell_type": "markdown",
   "metadata": {},
   "source": [
    "## 2. Problème du rendu de monnaie\n",
    "Le problème du rendu de monnaie est un problème classique d'algorithmique. Il s'énonce de la façon suivante : étant donné un système de monnaie (pièces et billets), comment rendre une somme donnée de façon optimale, c'est-à-dire avec le nombre minimal de pièces et billets ?\n",
    "\n",
    "Par exemple, la meilleure façon de rendre 7 euros est de rendre un billet de cinq et une pièce de deux, même si d'autres façons existent (rendre 7 pièces de un euro, par exemple)."
   ]
  },
  {
   "cell_type": "markdown",
   "metadata": {},
   "source": [
    "#### Exercice 3 : \n",
    "<img src='https://upload.wikimedia.org/wikipedia/commons/d/d9/New-series-euro.jpg' style=\"float:right;\" width =350>\n",
    "Le système monétaire européen est constitué des valeurs suivantes (pour simplifier, on ne tient pas compte du billet de 500€) :\n",
    "\n",
    "`[200,100,50,20,10,5,2,1]`. On suppose que l'on dispose d'autant de pièces que l'on veut.\n",
    "\n",
    "\n",
    "1. Compléter le tableau ci-dessous en indiquant pour chaque somme $S$, le nombre de pièces minimal et les pièces utilisées.\n",
    "\n",
    "| Somme S| 9 | 46 | 149 |\n",
    "|:--------:|:--------:|:--------:|:--------:|\n",
    "| Nombre minimal de pièces | 3 | - | - | \n",
    "| Pièces utilisées | [5,2,2] | - | - | \n",
    "\n",
    "\n",
    "2. Quelle stratégie gloutonne emploie-t-on intuitivement ?\n",
    "3. Déterminer une somme pour laquelle cette stratégie ne renvoie pas une solution optimale.\n"
   ]
  },
  {
   "cell_type": "markdown",
   "metadata": {},
   "source": [
    "Réponses :\n",
    "2.  \n",
    "3.  "
   ]
  },
  {
   "cell_type": "markdown",
   "metadata": {},
   "source": [
    "### A retenir :\n",
    "\n",
    "* La méthode « usuelle » pour rendre la monnaie est celle de l'algorithme glouton : tant qu'il reste quelque chose à rendre, choisir la plus grosse pièce qu'on peut rendre (sans rendre trop). C'est un algorithme très simple et rapide, et on appelle canonique un système de pièces pour lequel cet algorithme donne une solution optimale quelle que soit la valeur à rendre.\n",
    "* Il se trouve que presque tous les systèmes de pièces réels de par le monde sont canoniques (dont celui de l'euro)."
   ]
  },
  {
   "cell_type": "markdown",
   "metadata": {},
   "source": [
    "### Programmation\n",
    "#### Exercice 4 :\n",
    "Compléter la fonction `rendu(S,syst)` qui prend en paramètre la somme S à rendre, de type entier et un système de pièces sous forme d'une liste d'entiers.\n",
    "Cette fonction doit renvoyer un tuple constitué de nombre de pièces minimal et de la liste contenant les pièces rendues. Ainsi, si $S=9$ et si `syst` contient le système européen, l'appel de `print(S,syst)` doit renvoyer `(3, [5, 2, 2])`."
   ]
  },
  {
   "cell_type": "code",
   "execution_count": 30,
   "metadata": {},
   "outputs": [
    {
     "name": "stdout",
     "output_type": "stream",
     "text": [
      "(0, [])\n"
     ]
    }
   ],
   "source": [
    "def rendu(S,syst):\n",
    "    i=0\n",
    "    rendu=[]\n",
    "    \n",
    "    \n",
    "    \n",
    "    \n",
    "    \n",
    "    return (len(rendu), rendu)\n",
    "\n",
    "#système européen\n",
    "syst=[200,100,50,20,10,5,2,1]\n",
    "#somme à rendre\n",
    "S=9\n",
    "\n",
    "print(rendu(S,syst))"
   ]
  },
  {
   "cell_type": "markdown",
   "metadata": {},
   "source": [
    "#### Exercice 5 : \n",
    "<img src='https://usercontent1.hubstatic.com/13876178_f520.jpg' style=\"float:right;\" width =350>\n",
    "          \n",
    "La livre sterling est l'une des plus anciennes monnaies qui a encore cours avec une histoire de près de 1 000 ans. Jusqu'en 1971, la livre était divisée en 20 shillings et un shilling valait 12 pence.Encore plus compliqué, il y avait les sous-unités de la livre : le shilling (1/20 de livre), le florin (1/10 de livre ou 2 shillings), la demi-couronne (1/8 de livre ou 2 shillings et demi), la couronne (1/4 de livre ou 5 shillings), le demi-souverain (1/2 livre) et le souverain or qui valait une livre.\n",
    "\n",
    "Si l'on considère que le penny est la plus petite unité, cela revient à raisonner avec le système de pièces suivant :`[240,120,60,30,24,12,1]`\n",
    "\n",
    "Eventuellement à l'aide de la fonction précédente, trouver un contre exemple qui permet de de démontrer que l'algorithme glouton ne renvoie pas nécéssairement une solution optimale."
   ]
  },
  {
   "cell_type": "code",
   "execution_count": 21,
   "metadata": {},
   "outputs": [
    {
     "name": "stdout",
     "output_type": "stream",
     "text": [
      "(0, [])\n"
     ]
    }
   ],
   "source": [
    "#Système anglais avant 1971\n",
    "syst=[240,120,60,30,24,12,1]\n",
    "S=0\n",
    "\n",
    "print(rendu(S,syst))"
   ]
  },
  {
   "cell_type": "markdown",
   "metadata": {},
   "source": [
    "Réponse :\n",
    "\n",
    "* Somme S : \n",
    "* Liste des pièces renvoyées par l'algorithme : \n",
    "* Solution optimale : "
   ]
  },
  {
   "cell_type": "markdown",
   "metadata": {},
   "source": [
    "## 3. Problème du sac à dos\n",
    "Le problème du sac à dos, noté également KP (en anglais, Knapsack problem) est un problème classique d'optimisation. Il modélise une situation analogue au remplissage d'un sac à dos, ne pouvant supporter plus d'un certain poids, avec tout ou partie d'un ensemble donné d'objets ayant chacun un poids et une valeur. Les objets mis dans le sac à dos doivent maximiser la valeur totale, sans dépasser le poids maximum."
   ]
  },
  {
   "cell_type": "markdown",
   "metadata": {},
   "source": [
    "#### Exercice 6:\n",
    "<img src='kp.jpg' style='float:right;' width=250>\n",
    "Un cambrioleur en pleine action souhaite remplir son sac d'une capacité maximale de 15kg avec des objets qui se trouvent devant lui:\n",
    "\n",
    "* Une drôle de statue en cuivre d'une valeur de 10 dollars, qui pèse 9 kg.\n",
    "* Une enclume de voyage qui pèse 12 kg, d'une valeur de 7 dollars.\n",
    "* Un grille pain qui pèse 2 kg, d'une valeur de 1 dollars.\n",
    "* Une console de jeux de 1985 soldée à 3 dollars et qui pèse 7 kg.\n",
    "* L'encyclopédie des nains de jardin qui pèse 5 kg et vendue 2 dollars.\n",
    "\n",
    "\n",
    "\n",
    "1. Quelle(s) stratégies(s) gloutonnes peut-il mettre en oeuvre ?\n",
    "2. Finalement à l'aide d'une de ces stratégies, quels objets va-t-il prendre pour maximiser la valeur transportée ?\n"
   ]
  },
  {
   "cell_type": "markdown",
   "metadata": {},
   "source": [
    "Réponse :\n",
    "1. On peut envisager 3 stratégies :\n",
    "   *  \n",
    "   *  \n",
    "   *  \n",
    "   \n",
    "   \n",
    "2.    \n",
    "   *  "
   ]
  },
  {
   "cell_type": "markdown",
   "metadata": {},
   "source": [
    "### Programmation\n",
    "* On représente un objet par une liste trois élements (nom de l'objet, poids , valeur). Ainsi l'enclume est représentée par `['Enclume', 12,7]`.\n",
    "* La liste des objets est donc une liste de listes :\n",
    "  * `[['Statue',9,10],['Enclume',12,7],['Grille pain',2,1],['Console',7,3], ['Encyclopédie',5,2]]`\n",
    "  \n",
    "* `P` est le poids maximal (ici $15$).\n",
    "\n",
    "__Ne pas oublier d'éxécuter cette cellule__"
   ]
  },
  {
   "cell_type": "code",
   "execution_count": 13,
   "metadata": {},
   "outputs": [],
   "source": [
    "objets=[['Statue',9,10],['Enclume',12,7],['Grille pain',2,1],\n",
    "        ['Console',7,3], ['Encyclopédie',5,2]]\n",
    "P=15"
   ]
  },
  {
   "cell_type": "markdown",
   "metadata": {},
   "source": [
    "#### Exercice 7 :\n",
    "Exécuter la cellule ci-dessous et décrire ce que fait la fonction `valeurs_kg(objets`)."
   ]
  },
  {
   "cell_type": "code",
   "execution_count": 14,
   "metadata": {},
   "outputs": [
    {
     "name": "stdout",
     "output_type": "stream",
     "text": [
      "[[1.1111111111111112, 'Statue', 9, 10], [0.5833333333333334, 'Enclume', 12, 7], [0.5, 'Grille pain', 2, 1], [0.42857142857142855, 'Console', 7, 3], [0.4, 'Encyclopédie', 5, 2]]\n"
     ]
    }
   ],
   "source": [
    "def valeurs_kg(objets):\n",
    "    objets=[[objet[2]/objet[1]]+objet for objet in objets]\n",
    "    objets.sort(reverse=True)\n",
    "   \n",
    "    return objets\n",
    "\n",
    "print(valeurs_kg(objets))"
   ]
  },
  {
   "cell_type": "markdown",
   "metadata": {},
   "source": [
    "Réponse :\n",
    " *  \n",
    " *  \n",
    " *  "
   ]
  },
  {
   "cell_type": "markdown",
   "metadata": {},
   "source": [
    "#### Exercice 8:\n",
    "Compléter la fonction `sac_glouton(P,objets)` qui prend en paramètres le poids P maximal autorisé et la liste des objets possibles.Cette fonction doit renvoyer le contenu du sac du cambrioleur obtenu avec la stratégie gloutonne utilisée dans l'exercice 6.\n",
    "\n",
    "Ainsi `sac_glouton(P,objets)` doit renvoyer `[[1.1111111111111112, 'Statue', 9, 10], [0.5, 'Grille pain', 2, 1]]`, ce qui correspond bien à la réponse trouvée précédemment."
   ]
  },
  {
   "cell_type": "code",
   "execution_count": 16,
   "metadata": {},
   "outputs": [
    {
     "name": "stdout",
     "output_type": "stream",
     "text": [
      "[]\n"
     ]
    }
   ],
   "source": [
    "def sac_glouton(P,objets):\n",
    "    objets=valeurs_kg(objets)\n",
    "    sac=[]\n",
    "    poids_sac=0\n",
    "    \n",
    "    \n",
    "    \n",
    "    \n",
    "        \n",
    "    return sac\n",
    "\n",
    "print(sac_glouton(P,objets))"
   ]
  },
  {
   "cell_type": "markdown",
   "metadata": {},
   "source": [
    "#### Exercice 9 :\n",
    "La solution renvoyée par l'algorithme glouton dans le problème du sac à dos n'est pas optimale. Trouver un contre exemple."
   ]
  },
  {
   "cell_type": "markdown",
   "metadata": {},
   "source": [
    "Réponse :\n",
    " *  "
   ]
  },
  {
   "cell_type": "markdown",
   "metadata": {},
   "source": [
    "### A retenir :\n",
    "* Hors de ce contexte amusant, on utilise aussi ce problème pour modéliser de nombreuses situations, quelquefois en tant que sous-problème :\n",
    "  * Dans les systèmes financiers, où l’idée est la suivante : étant donné un certain montant d’investissement dans des projets, quels projets choisir pour que le tout rapporte le plus d’argent possible.\n",
    "  * Pour la découpe de matériaux, afin de minimiser les pertes dues aux chutes.\n",
    "  * Dans le chargement de cargaisons (avions, camions, bateaux…).\n",
    "  * Ou encore, dès qu’il s’agit de préparer une valise ou un sac à dos pour une randonnée...\n",
    "  \n",
    "    \n",
    "    \n",
    "* Il existe deux grandes catégories de méthodes de résolution de problèmes d’optimisation de ce type : les méthodes approchées et les méthodes exactes. \n",
    "    * Les méthodes approchées, encore appelées heuristiques, permettent d’obtenir rapidement une solution approchée(comme ici avec un algorithme glouton), mais pas nécessairement optimale.\n",
    "    * Les méthodes exactes permettent d’obtenir la solution optimale à chaque fois, mais le temps de calcul peut être long si le problème est compliqué à résoudre ou s'il comporte un grand nombre de données.\n",
    "\n",
    "\n"
   ]
  },
  {
   "cell_type": "markdown",
   "metadata": {},
   "source": [
    "#### Exercice 10 ( Pour aller plus loin) : Programmation d'une méthode exacte, la recherche par force brute.\n",
    "La recherche par force brute consiste à tester toutes les possibilités pour identifier la meilleure. Reprenons nos objets et notre sac :"
   ]
  },
  {
   "cell_type": "code",
   "execution_count": null,
   "metadata": {},
   "outputs": [],
   "source": [
    "objets=[['Statue',9,10],['Enclume',12,7],['Grille pain',2,1],['Console',7,3], ['Encyclopédie',5,2]]\n",
    "P=15"
   ]
  },
  {
   "cell_type": "markdown",
   "metadata": {},
   "source": [
    "1. Sans tenir compte de la contrainte du poids ou de la valeur, combien de sacs différents peut-on faire avec 5 objets ? Justifier."
   ]
  },
  {
   "cell_type": "markdown",
   "metadata": {},
   "source": [
    "Réponse :\n",
    " *  "
   ]
  },
  {
   "cell_type": "markdown",
   "metadata": {},
   "source": [
    "2. Compléter la fonction `forcebrute(objets)` qui prend en paramètre une liste d'objets et qui renvoie la liste de tous les sacs possibles sans tenir compte de la contrainte du poids ou de la valeur.\n",
    "\n",
    "\n",
    "Remarques :\n",
    "* On pourra considérer d'abord le premier objet, constituer deux sacs (un avec cet objet et l'autre vide), puis considérer le deuxième objet qui sera ajouté ou pas aux deux sacs précédents pour constituer deux nouveaux sacs, etc...\n",
    "* Lorsqu'un objet n'est pas ajouté dans un sac, on pourra utiliser la liste `['Rien', 0, 0]` pour décrire son absence dans le sac. Ainsi `[['Statue',9,10],['Rien',0,0],['Grille pain',2,1],['Rien',0,0], ['Encyclopédie',5,2]]` contient 3 objets."
   ]
  },
  {
   "cell_type": "code",
   "execution_count": 1,
   "metadata": {},
   "outputs": [],
   "source": [
    "#2.bruteforce\n",
    "def forcebrute(objets):\n",
    "    sacs=[[]]\n",
    "    for i in range(len(objets)):\n",
    "        sacs_next=[]\n",
    "        \n",
    "        \n",
    "        \n",
    "        \n",
    "    \n",
    "        sacs=sacs_next    \n",
    "                       \n",
    "    return sacs"
   ]
  },
  {
   "cell_type": "markdown",
   "metadata": {},
   "source": [
    "3. Compléter les fonctions :\n",
    "   * `poids(sac)` qui prend en paramètre une liste d'objets et qui renvoie le poids du sac ainsi constitué. \n",
    "   * `valeur(sac)` qui prend en paramètre une liste d'objets et qui renvoie la valeur du sac ainsi constitué."
   ]
  },
  {
   "cell_type": "code",
   "execution_count": 2,
   "metadata": {},
   "outputs": [],
   "source": [
    "#3.\n",
    "def poids(sac):\n",
    "    total=0\n",
    "    \n",
    "    \n",
    "    \n",
    "    return total\n",
    "\n",
    "def valeur(sac):\n",
    "    total=0\n",
    "    \n",
    "    \n",
    "    \n",
    "    return total"
   ]
  },
  {
   "cell_type": "markdown",
   "metadata": {},
   "source": [
    "4. Compléter la fonction `meilleur_sac(P, objets)` qui prend en paramètres une liste d'objets et un poids maximal P, et qui renvoie le contenu du sac ayant la plus grande valeur tout en respectant la contrainte de poids."
   ]
  },
  {
   "cell_type": "code",
   "execution_count": null,
   "metadata": {},
   "outputs": [],
   "source": [
    "def meilleur_sac(P,objets):\n",
    "    sacs=forcebrute(objets)\n",
    "    top_sac=sacs[0]\n",
    "    \n",
    "    \n",
    "    \n",
    "    \n",
    "            \n",
    "    return top_sac\n",
    "    \n",
    "\n",
    "\n",
    "solution=meilleur_sac(P,objets)\n",
    "print(solution)"
   ]
  },
  {
   "cell_type": "markdown",
   "metadata": {},
   "source": [
    "## 4. Choix d'activités"
   ]
  },
  {
   "cell_type": "markdown",
   "metadata": {},
   "source": [
    "Le problème du choix d'activités est également un grand classique des problèmes d'optimisation. Il peut s'énoncer ainsi :\n",
    "Etant donné un ensemble d'activités, chacune possédant une date de début et une date de fin, comment choisir le maximum d'activités compatibles entre elles ?"
   ]
  },
  {
   "cell_type": "markdown",
   "metadata": {},
   "source": [
    "#### Exercice 11 :"
   ]
  },
  {
   "cell_type": "markdown",
   "metadata": {},
   "source": [
    "Le festival Alphabet se déroule tous les ans. Ce festival commence tôt le matin,dès 5h, et se termine à minuit. Des artistes hors normes sont à l'affiche cette année :\n",
    "<img src='festival.png' style='float:right;' width=500>\n",
    "* Alpha se produira de 8h à 10h. Après une courte pause, il donnera un deuxième spectacle de 13h à 17h. Puis, il reviendra plus tard dans la soirée de 21h à 24h.\n",
    "* La grande artiste Beta donnera également trois représentations. La première de 6h à 9h, la deuxième de 10h à 14h et la dernière de 17h à 18h.\n",
    "* Gamma viendra nous honorer de leur présence. Ils donneront deux spectacles : l'un de 11h à 15h, et l'autre de 18h à 21h.\n",
    "* Le célèbre Delta donnera deux concerts : le premier de 5h à 11h et le second de 13h à 16h.\n",
    "* Le groupe de musique local Epsilon se produira de 8h à 13h puis de 20h à 22h.\n",
    "* La troupe de théâtre Zeta assurera un spectacle continu entre 7h et 18h.\n",
    "* Enfin, le groupe Eta assurera le show de 10h à 12h.\n",
    "\n",
    "\n",
    "\n",
    "\n",
    "Alcide souhaite assister au maximum de spectacles possibles, quitte à voir plusieurs fois le même artiste. Il arrive dès le dèbut du festival et il sait qu'il n'est pas possible de sortir avant la fin d'un spectacle."
   ]
  },
  {
   "cell_type": "markdown",
   "metadata": {},
   "source": [
    "1. Donner trois stratégies gloutonnes qui permettent d'aboutir à une sélection de spectacles.\n",
    "2. Donner, pour chaque stratégie, la sélection de spectacles correspondante.\n",
    "3. Quelle sélection conseilller à Alcide ?"
   ]
  },
  {
   "cell_type": "markdown",
   "metadata": {},
   "source": [
    "Réponses.\n",
    "\n",
    "1. Stratégies :\n",
    "   * A :  \n",
    "   * B :  \n",
    "   * C :  \n",
    "  \n",
    "  \n",
    "2. Sélections :\n",
    "   * A :  \n",
    "   * B :  \n",
    "   * C :  \n",
    "   \n",
    "   \n",
    "3. La stratégie B donne un meilleur résultat(6 spectacles) : \n",
    "   *  "
   ]
  },
  {
   "cell_type": "markdown",
   "metadata": {},
   "source": [
    "#### Exercice 12: Programmation de l'algorithme\n",
    "##### Partie A : Choix de la structure de données.\n",
    "\n",
    "On modélise chaque spectacle par un triplet dont le premier élément est le nom de l'artiste(de type 'string', le second l'heure de début(de type entier) et le troisième l'heure de fin(de type entier). Le programme du festival sera modélisé par la liste `Alphabet`.\n",
    "\n",
    "1. Compléter ci-desous cette liste :"
   ]
  },
  {
   "cell_type": "code",
   "execution_count": 1,
   "metadata": {},
   "outputs": [],
   "source": [
    "#Programme du festival\n",
    "Alphabet=[('Alpha',8,10)]"
   ]
  },
  {
   "cell_type": "markdown",
   "metadata": {},
   "source": [
    "2. Afficher l'heure de fin du deuxième spectacle d'Alpha."
   ]
  },
  {
   "cell_type": "code",
   "execution_count": 3,
   "metadata": {},
   "outputs": [
    {
     "name": "stdout",
     "output_type": "stream",
     "text": [
      "17\n"
     ]
    }
   ],
   "source": [
    "#2.\n"
   ]
  },
  {
   "cell_type": "markdown",
   "metadata": {},
   "source": [
    "##### Partie B : Compatibilité des spectacles\n",
    "On dit que deux spectacles sont compatibles si l'horaire de fin du premier spectacle est inférieure ou égale à l'horaire de début du second spectacle.\n",
    "\n",
    "\n",
    "\n",
    "Compléter la fonction `compatibles(spect1, spect2)` qui prend en paramètres deux spectacles et qui renvoie `True` si deux spectacles sont compatibles, `False` sinon."
   ]
  },
  {
   "cell_type": "code",
   "execution_count": 4,
   "metadata": {},
   "outputs": [
    {
     "name": "stdout",
     "output_type": "stream",
     "text": [
      "A compléter\n",
      "A compléter\n",
      "A compléter\n",
      "A compléter\n"
     ]
    }
   ],
   "source": [
    "def compatibles(spect1, spect2):\n",
    "    return \"A compléter\"\n",
    "      \n",
    "#tests\n",
    "spect1=('Alpha',8,10)\n",
    "spect2=('Beta',10,14)\n",
    "spect3=('Epsilon',8,13)\n",
    "\n",
    "#true\n",
    "print(compatibles(spect1,spect2))\n",
    "print(compatibles(spect2,spect1))\n",
    "\n",
    "#false\n",
    "print(compatibles(spect1,spect3))\n",
    "print(compatibles(spect3,spect1))"
   ]
  },
  {
   "cell_type": "markdown",
   "metadata": {},
   "source": [
    "##### Partie C : Algorithme glouton\n",
    "1. La fonction ci-dessous renvoie une liste de tuples triée, ordre croissant à l'aide du dernier élément de chaque tuple.A l'aide de cette foncion afficher les spectacles du festival triès par horaire de fin."
   ]
  },
  {
   "cell_type": "code",
   "execution_count": 6,
   "metadata": {},
   "outputs": [],
   "source": [
    "def tri_heure_fin(festival):\n",
    "    return sorted(festival,key=lambda spect:spect[2])\n",
    "\n"
   ]
  },
  {
   "cell_type": "markdown",
   "metadata": {},
   "source": [
    "2. Compléter la fonction `prochain_spect(spect, festival)` qui prend en paramètres un spectacle et une liste de spectacles triées par horaires de fin. Cette fonction renvoie le prochain spectacle compatible avec l'horaire de fin de plus proche.S'il n'y en a pas, la fonction renvoie `None`.\n",
    "\n",
    "Ainsi:\n",
    "* `prochain_spect(('Beta',10,14),festival)` doit renvoyer `('Beta', 17, 18)`\n",
    "* `prochain_spect(('Epsilon',20,22),festival)` doit renvoyer `None`"
   ]
  },
  {
   "cell_type": "code",
   "execution_count": 8,
   "metadata": {},
   "outputs": [
    {
     "name": "stdout",
     "output_type": "stream",
     "text": [
      "A compléter\n",
      "A compléter\n"
     ]
    }
   ],
   "source": [
    "def prochain_spect(spect, festival):\n",
    "    i=festival.index(spect)  #index de l'élément spect dans festival\n",
    "    \n",
    "    \n",
    "    \n",
    "    \n",
    "    \n",
    "    \n",
    "    return \"A compléter\"\n",
    "\n",
    "#tests        \n",
    "spect1=('Beta',10,14)\n",
    "spect2=('Epsilon',20,22)\n",
    "festival=tri_heure_fin(Alphabet)\n",
    "\n",
    "print(prochain_spect(spect1,festival))\n",
    "print(prochain_spect(spect2,festival))"
   ]
  },
  {
   "cell_type": "markdown",
   "metadata": {},
   "source": [
    "3. Compléter la fonction `selection(festival)` qui prend en paramètre une liste de spectalces et qui renvoie la liste des spectacles compatibles à l'aide de la stratégie gloutonne selon l'horaire de fin.\n",
    "\n",
    "L'appel de `selection(Alphabet)` doit renvoyer :\n",
    "* `[('Beta', 6, 9), ('Eta', 10, 12), ('Delta', 13, 16), ('Beta', 17, 18), ('Gamma', 18, 21), ('Alpha', 21, 24)]`."
   ]
  },
  {
   "cell_type": "code",
   "execution_count": 10,
   "metadata": {},
   "outputs": [
    {
     "name": "stdout",
     "output_type": "stream",
     "text": [
      "[('Beta', 6, 9)]\n"
     ]
    }
   ],
   "source": [
    "def selection(festival):\n",
    "    festival=tri_heure_fin(festival)\n",
    "    prochain=festival[0]\n",
    "    select=[prochain]\n",
    "    \n",
    "    \n",
    "    \n",
    "    \n",
    "    \n",
    "    \n",
    "    \n",
    "    return select\n",
    "\n",
    "print(selection(Alphabet))"
   ]
  },
  {
   "cell_type": "code",
   "execution_count": null,
   "metadata": {},
   "outputs": [],
   "source": [
    "def selection(festival):\n",
    "    festival=tri_heure_fin(festival)\n",
    "    prochain=festival[0]\n",
    "    select=[prochain]\n",
    "    \n",
    "    for i in range(len(festival)):\n",
    "        prochain=prochain_spect(prochain,festival)\n",
    "        if prochain is not None:\n",
    "            select.append(prochain)\n",
    "            i=festival.index(prochain)\n",
    "        else:\n",
    "            return select\n",
    "         \n",
    "    \n",
    "    return select\n",
    "\n",
    "print(selection(Alphabet))"
   ]
  },
  {
   "cell_type": "markdown",
   "metadata": {},
   "source": [
    "# <center> FIN </center>"
   ]
  }
 ],
 "metadata": {
  "kernelspec": {
   "display_name": "Python 3",
   "language": "python",
   "name": "python3"
  },
  "language_info": {
   "codemirror_mode": {
    "name": "ipython",
    "version": 3
   },
   "file_extension": ".py",
   "mimetype": "text/x-python",
   "name": "python",
   "nbconvert_exporter": "python",
   "pygments_lexer": "ipython3",
   "version": "3.7.2"
  }
 },
 "nbformat": 4,
 "nbformat_minor": 2
}
