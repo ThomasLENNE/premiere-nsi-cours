{
 "cells": [
  {
   "cell_type": "markdown",
   "metadata": {},
   "source": [
    "# <center> Quelques bonnes pratiques de programmation  </center>"
   ]
  },
  {
   "cell_type": "markdown",
   "metadata": {},
   "source": [
    "## 1. Introduction\n",
    "Afin d'uniformiser l'écriture de code en Python, la communauté des développeurs Python recommande un certain nombre de règles afin qu'un code soit lisible. Lisible par quelqu'un d'autre, mais également, et surtout, par soi-même. Lorsque l'on essaie de relire un code écrit « rapidement » il y a un 1 mois, 6 mois ou un an,  si le code ne fait que quelques lignes, il se peut que l'on s'y retrouve, mais s'il fait plusieurs dizaines voire centaines de lignes...\n",
    "\n",
    "\n",
    "Dans ce contexte, le créateur de Python, Guido van Rossum, part d'un constat simple : « code is read much more often than it is written » (« le code est plus souvent lu qu'écrit »). \n",
    "\n",
    "\n",
    "Afin d'améliorer le langage Python, la communauté qui développe Python publie régulièrement des \"Python Enhancement Proposal\" (PEP), suivi d'un numéro. Il s'agit de propositions concrètes pour améliorer le code, ajouter de nouvelles fonctionnalités, mais aussi des recommandations sur la manière d'utiliser Python, bien écrire du code, etc...La plus connue de ces publication est la PEP 8 qui consiste en un nombre important de recommandations sur la syntaxe de Python (indentations, import de modules, noms de variables, gestion des espaces, commentaires, etc...\n",
    "\n",
    "Pour en savoir savoir plus :\n",
    "* https://www.python.org/dev/peps/pep-0008/ (documentation originale en anglais)\n",
    "* https://python.sdv.univ-paris-diderot.fr/15_bonnes_pratiques/ (un résumé néanmoins très complet des bonnes pratiques d'utilisation de python).\n",
    "\n",
    "Dans cette feuille il sera vu comment :\n",
    "* Spécifier une fonction.\n",
    "* Utiliser des jeux de tests.\n"
   ]
  },
  {
   "cell_type": "markdown",
   "metadata": {},
   "source": [
    "## 2. Spécifier une fonction\n"
   ]
  },
  {
   "cell_type": "markdown",
   "metadata": {},
   "source": [
    "Jusqu'à présent, la description et le comportement attendu des fonctions étaient précisés dans la consigne des exercices. Bien que non obligatoire, une bonne pratique est d'inscrire ces éléments dans le corps de la fonction, sous forme de chaîne de caractère un peu spéciale(\"docstring\" en anglais). C'est ce que l'on appelle, le prototype."
   ]
  },
  {
   "cell_type": "markdown",
   "metadata": {},
   "source": [
    "#### Exercice 1 :\n",
    "1. Exécuter le code ci-dessous. Que contient l'affichage ?"
   ]
  },
  {
   "cell_type": "code",
   "execution_count": 12,
   "metadata": {},
   "outputs": [
    {
     "name": "stdout",
     "output_type": "stream",
     "text": [
      "Help on built-in function bin in module builtins:\n",
      "\n",
      "bin(number, /)\n",
      "    Return the binary representation of an integer.\n",
      "    \n",
      "    >>> bin(2796202)\n",
      "    '0b1010101010101010101010'\n",
      "\n",
      "Help on method randint in module random:\n",
      "\n",
      "randint(a, b) method of random.Random instance\n",
      "    Return random integer in range [a, b], including both end points.\n",
      "\n"
     ]
    }
   ],
   "source": [
    "help(bin)"
   ]
  },
  {
   "cell_type": "markdown",
   "metadata": {},
   "source": [
    "Réponse :\n",
    "*  "
   ]
  },
  {
   "cell_type": "markdown",
   "metadata": {},
   "source": [
    "2. Exécuter le code ci-dessous. Que contient l'affichage ?"
   ]
  },
  {
   "cell_type": "code",
   "execution_count": 15,
   "metadata": {},
   "outputs": [
    {
     "name": "stdout",
     "output_type": "stream",
     "text": [
      "Help on method randint in module random:\n",
      "\n",
      "randint(a, b) method of random.Random instance\n",
      "    Return random integer in range [a, b], including both end points.\n",
      "\n"
     ]
    }
   ],
   "source": [
    "from random import *\n",
    "help(randint)"
   ]
  },
  {
   "cell_type": "markdown",
   "metadata": {},
   "source": [
    "Réponse :\n",
    "*  "
   ]
  },
  {
   "cell_type": "markdown",
   "metadata": {},
   "source": [
    "### A retenir :\n",
    "Spécifier une fonction, c'est préciser :\n",
    "\n",
    "* Ce que fait la fonction( prototype).\n",
    "* Ce qu'elle prend en paramètres( les préconditions).\n",
    "* Ce qu'elle renvoie( les postconditions).\n",
    "\n",
    "Inscrire ces éléments dans la fonction permet :\n",
    "* De documenter précisément la fonction.\n",
    "* De permettre aux autres utilisateurs d'accéder à la documentation de cette fonction à l'aide de la commande `help`."
   ]
  },
  {
   "cell_type": "markdown",
   "metadata": {},
   "source": [
    "### Un exemple de docstring"
   ]
  },
  {
   "cell_type": "code",
   "execution_count": 38,
   "metadata": {},
   "outputs": [
    {
     "name": "stdout",
     "output_type": "stream",
     "text": [
      "Help on function distance in module __main__:\n",
      "\n",
      "distance(a, b)\n",
      "    Calcule la distance de deux nombres.\n",
      "    paramètres : \n",
      "    ------------\n",
      "    a et b de type entiers ou float\n",
      "    \n",
      "    return :\n",
      "    ------------\n",
      "    dist de type entier ou float\n",
      "\n"
     ]
    }
   ],
   "source": [
    "def distance(a,b):\n",
    "    \"\"\"Calcule la distance de deux nombres.\n",
    "    paramètres : \n",
    "    ------------\n",
    "    a et b de type entiers ou float\n",
    "    \n",
    "    return :\n",
    "    ------------\n",
    "    dist de type entier ou float\n",
    "    \n",
    "    \"\"\"\n",
    "    \n",
    "    distance=max(a-b,b-a)\n",
    "    return dist\n",
    "\n",
    "\n",
    "help(distance)"
   ]
  },
  {
   "cell_type": "markdown",
   "metadata": {},
   "source": [
    "#### A retenir :\n",
    "\n",
    "* On écrit le prototype de la fonction sous la ligne qui la définit.\n",
    "* Ce n'est pas obligatoire mais la bonne pratique est d'utiliser des triples guillemets pour encadrer le ptototype (`\"\"\"`).\n",
    "* D'abord la description, puis les paramètres et leur type(pré-conditions), puis la  valeur de retour et son type(post-conditions).\n",
    "* On utilise des retours à la ligne pour améliorer la lisibilité."
   ]
  },
  {
   "cell_type": "markdown",
   "metadata": {},
   "source": [
    "#### Exercice 2 :\n",
    "Ecrire le prototype de la fonction ci-dessous."
   ]
  },
  {
   "cell_type": "code",
   "execution_count": 2,
   "metadata": {},
   "outputs": [],
   "source": [
    "def moyenne(L):\n",
    "    S=0\n",
    "    for e in L:\n",
    "        S=S+e\n",
    "    return S/len(L)\n",
    "\n",
    "help(moyenne)"
   ]
  },
  {
   "cell_type": "markdown",
   "metadata": {},
   "source": [
    "#### Exercice 3 :\n",
    "Ecrire le prototype de la fonction ci-dessous."
   ]
  },
  {
   "cell_type": "code",
   "execution_count": 33,
   "metadata": {},
   "outputs": [
    {
     "name": "stdout",
     "output_type": "stream",
     "text": [
      "Help on function insere in module __main__:\n",
      "\n",
      "insere(n, L)\n",
      "\n"
     ]
    }
   ],
   "source": [
    "def insere(n,L):\n",
    "    resultat=[]\n",
    "    i=0\n",
    "    while L[i]<n:\n",
    "        resultat.append(L[i])\n",
    "        i=i+1\n",
    "    \n",
    "    resultat.append(n)\n",
    "    \n",
    "    while i < len(L):\n",
    "        resultat.append(L[i])\n",
    "        i=i+1\n",
    "        \n",
    "    return resultat\n",
    "    \n",
    "\n",
    "help(insere)"
   ]
  },
  {
   "cell_type": "markdown",
   "metadata": {},
   "source": [
    "#### Exercice 4 :\n",
    "Compléter la fonction spécifiée ci-dessous"
   ]
  },
  {
   "cell_type": "code",
   "execution_count": 42,
   "metadata": {},
   "outputs": [],
   "source": [
    "def produit_pair(a,b,c):\n",
    "    \"\"\"Determine si le produit de a, b et c est pair\n",
    "    Parametres :\n",
    "    ------------\n",
    "    a, b, c de type entier\n",
    "    \n",
    "    Return :\n",
    "    --------\n",
    "    1 si le produit est pair.\n",
    "    0 sinon.\n",
    "    \n",
    "    \"\"\"\n",
    "    \n",
    "    "
   ]
  },
  {
   "cell_type": "markdown",
   "metadata": {},
   "source": [
    "## 3. Le développement par les tests.\n"
   ]
  },
  {
   "cell_type": "markdown",
   "metadata": {},
   "source": [
    "Écrire un programme, c’est bien. Écrire un programme juste, c’est mieux. L'idéal serait de pouvoir prouver tous les programmes que l’on écrit, mais outre que ce n’est pas forcément évident, on n’est jamais à l’abri d’une erreur de frappe qui nous fait lire ce que l’on voudrait lire et non ce qui est réellement écrit dans le code. C’est pourquoi il est intéressant (bien que non suffisant en général) de tester les bouts de code que l’on écrit sur des cas particuliers pour lesquels on connait bien le résultat attendu."
   ]
  },
  {
   "cell_type": "markdown",
   "metadata": {},
   "source": [
    "Le développement piloté par les tests ou TDD (pour Test Driven Development) est une méthode d’écriture de programme qui met en avant le fait d’écrire d’abord un test pour chaque spécification du programme puis écrire le code qui permettra au programme de passer ce test avec succès. "
   ]
  },
  {
   "cell_type": "markdown",
   "metadata": {},
   "source": [
    "Plus particulièrement, le TDD présente trois principes:\n",
    "\n",
    "* Ecrire les tests avant d'écrire le programme.\n",
    "* Il ne faut tester qu’un point précis du programme.\n",
    "* Il ne faut écrire que le minimum de code permettant de réussir le test.\n",
    "\n",
    "Il est bien évidemment impossible d'effectuer une infinité de tests (ce qu'il faudrait faire idéalement pour que le programme fonctionne dans tous les cas).Cela oblige à envisager tous les cas particuliers et les cas \"limites\" que le programme doit traiter.\n",
    "\n",
    "Une nouvelle instruction va permettre de réaliser ces tests : `assert`"
   ]
  },
  {
   "cell_type": "markdown",
   "metadata": {},
   "source": [
    "### Assert\n",
    "Python intègre un mot clef `assert` qui va lever une exception `AssertionError`(il va donc afficher message d'erreur si la condition qui suit est fausse)"
   ]
  },
  {
   "cell_type": "code",
   "execution_count": 60,
   "metadata": {},
   "outputs": [],
   "source": [
    "#cette instruction ne renvoie rien\n",
    "assert (1 > 0)"
   ]
  },
  {
   "cell_type": "code",
   "execution_count": 61,
   "metadata": {},
   "outputs": [
    {
     "ename": "AssertionError",
     "evalue": "1 est strictement positif voyons...",
     "output_type": "error",
     "traceback": [
      "\u001b[1;31m---------------------------------------------------------------------------\u001b[0m",
      "\u001b[1;31mAssertionError\u001b[0m                            Traceback (most recent call last)",
      "\u001b[1;32m<ipython-input-61-4c32dceb9a79>\u001b[0m in \u001b[0;36m<module>\u001b[1;34m\u001b[0m\n\u001b[0;32m      1\u001b[0m \u001b[1;31m#cette instruction stoppe le programme et lève une erreur\u001b[0m\u001b[1;33m\u001b[0m\u001b[1;33m\u001b[0m\u001b[1;33m\u001b[0m\u001b[0m\n\u001b[1;32m----> 2\u001b[1;33m \u001b[1;32massert\u001b[0m\u001b[1;33m(\u001b[0m \u001b[1;36m1\u001b[0m \u001b[1;33m<\u001b[0m \u001b[1;36m0\u001b[0m\u001b[1;33m)\u001b[0m \u001b[1;33m,\u001b[0m \u001b[1;34m\"1 est strictement positif voyons...\"\u001b[0m\u001b[1;33m\u001b[0m\u001b[1;33m\u001b[0m\u001b[0m\n\u001b[0m",
      "\u001b[1;31mAssertionError\u001b[0m: 1 est strictement positif voyons..."
     ]
    }
   ],
   "source": [
    "#cette instruction stoppe le programme et lève une erreur\n",
    "assert( 1 < 0) , \"1 est strictement positif voyons...\""
   ]
  },
  {
   "cell_type": "markdown",
   "metadata": {},
   "source": [
    "C’est un moyen efficace et rapide de tester un programme ou une fonction."
   ]
  },
  {
   "cell_type": "markdown",
   "metadata": {},
   "source": [
    "### Exemple1  :\n",
    "Dans la suite de Fibonacci, chaque terme est obtenu en additionnant les deux précédents. Les deux premiers termes de cette suite sont 1 et 1.\n",
    "Cette suite commence donc ainsi : $1,1,2,3,5,8,13,21,...$"
   ]
  },
  {
   "cell_type": "markdown",
   "metadata": {},
   "source": [
    "On veut écrire la fonction `fibonacci(n)` dont voici les spécifications :"
   ]
  },
  {
   "cell_type": "code",
   "execution_count": 62,
   "metadata": {},
   "outputs": [],
   "source": [
    "def fibonacci(n):\n",
    "    \"\"\"\n",
    "    Liste des n premiers termes de la suite de Fibonacci\n",
    "    \n",
    "    Paramètre :\n",
    "    -----------\n",
    "    n entier supérieur à 1, le nombre de termes voulus\n",
    "  \n",
    "    Return :\n",
    "    --------\n",
    "    La liste des n termes\n",
    "    \"\"\""
   ]
  },
  {
   "cell_type": "markdown",
   "metadata": {},
   "source": [
    "1. On choisit les tests que doit passer cette fonction :\n",
    "   * a) Il y a bien n termes dans la liste renvoyée (on doit tester pour quelques valeurs de n)\n",
    "   * b) `fibonacci(1)` doit renvoyer `[1]`\n",
    "   * c) `fibonacci(5)` doit renvoyer `[1,1,2,3,5]`\n",
    "   * d) La relation de récurrence est vérifiée pour tous les termes à partir du troisième.\n",
    "   \n",
    "En éxécutant le code ci-desous, on vérifie bien sûr que tous les tests échouent."
   ]
  },
  {
   "cell_type": "code",
   "execution_count": 70,
   "metadata": {},
   "outputs": [],
   "source": [
    "# a)\n",
    "assert(len(fibonacci(10))==10) \n",
    "assert(len(fibonacci(5))==5)\n",
    "\n",
    "# b)\n",
    "assert(fibonacci(1)==[1])\n",
    "\n",
    "# c)\n",
    "assert(fibonacci(5)==[1,1,2,3,5])\n",
    "\n",
    "# d) \n",
    "L=fibonacci(10)\n",
    "for i in range (2,len(L)):\n",
    "    assert(L[i]==L[i-1]+L[i-2])\n"
   ]
  },
  {
   "cell_type": "markdown",
   "metadata": {},
   "source": [
    "2. On écrit le code de la fonction."
   ]
  },
  {
   "cell_type": "code",
   "execution_count": 73,
   "metadata": {},
   "outputs": [],
   "source": [
    "def fibonacci(n):\n",
    "    \"\"\"\n",
    "    Liste des n premiers termes de la suite de Fibonacci\n",
    "    \n",
    "    Paramètre :\n",
    "    -----------\n",
    "    n entier supérieur à 1, l'indice maximal voulu\n",
    "  \n",
    "    Return :\n",
    "    --------\n",
    "    La liste des n termes\n",
    "    \"\"\"\n",
    "    x=1\n",
    "    y=1\n",
    "    f=[x]\n",
    "    i=1\n",
    "    while i < n:\n",
    "        x,y=y,x+y\n",
    "        f.append(x)\n",
    "        i=i+1\n",
    "    \n",
    "    return f"
   ]
  },
  {
   "cell_type": "markdown",
   "metadata": {},
   "source": [
    "3. On éxécute les tests. S'ils réussissent, rien ne se passe, sinon une erreur est renvoyée, on doit modifier le code de la fonction."
   ]
  },
  {
   "cell_type": "code",
   "execution_count": 74,
   "metadata": {},
   "outputs": [],
   "source": [
    "# a)\n",
    "assert(len(fibonacci(10))==10)\n",
    "assert(len(fibonacci(5))==5)\n",
    "\n",
    "# b)\n",
    "assert(fibonacci(1)==[1])\n",
    "\n",
    "# c)\n",
    "assert(fibonacci(5)==[1,1,2,3,5])\n",
    "\n",
    "# d) \n",
    "L=fibonacci(10)\n",
    "for i in range (2,len(L)):\n",
    "    assert(L[i]==L[i-1]+L[i-2])"
   ]
  },
  {
   "cell_type": "markdown",
   "metadata": {},
   "source": [
    "#### Exercice 4 :\n",
    "Rappel : Une année A est bissextile si A est divisible par 4. Elle ne l’est cependant pas si A est un multiple\n",
    "de 100, à moins que A ne soit multiple de 400.\n",
    "1. Spécifier la fonction `bissextile(A)` ci-dessous.\n",
    "2. Ecrire quelques tests pour cette fonction."
   ]
  },
  {
   "cell_type": "code",
   "execution_count": 75,
   "metadata": {},
   "outputs": [],
   "source": [
    "#1.\n",
    "def bissextile(A):\n",
    "    \"\"\"A compléter\"\"\"\n",
    "    if A % 4 == 0:\n",
    "        if A % 100 == 0 :\n",
    "            if A % 400 == 0:\n",
    "                return True\n",
    "            else :\n",
    "                return False\n",
    "        else :\n",
    "            return True\n",
    "    else:\n",
    "        return False"
   ]
  },
  {
   "cell_type": "code",
   "execution_count": null,
   "metadata": {},
   "outputs": [],
   "source": [
    "#2. tests"
   ]
  },
  {
   "cell_type": "markdown",
   "metadata": {},
   "source": [
    "#### Exercice 5 : \n",
    "Voici une liste de quelque tests. Ecrire une fonction qui passe ces tests(ne pas oublier de la spécifier).\n",
    "\n",
    "Aide : on pourra utiliser la fonction `ord()`."
   ]
  },
  {
   "cell_type": "code",
   "execution_count": 78,
   "metadata": {},
   "outputs": [],
   "source": [
    "assert(score('a')==1)\n",
    "assert(score('z')==26)\n",
    "assert(score('azerty')==95)\n",
    "assert(score('python')==98)"
   ]
  },
  {
   "cell_type": "code",
   "execution_count": 82,
   "metadata": {},
   "outputs": [],
   "source": [
    "def score(mot):\n",
    "    \"\"\"Détermine le score d'un mot\n",
    "    à l'aide de la valeur de chaque lettre:\n",
    "    a=1, b=2,...,z=26\n",
    "    \n",
    "    Paramètre :\n",
    "    -----------\n",
    "    mot une chaîne de caractères ascii minuscule\n",
    "    \n",
    "    Return :\n",
    "    --------\n",
    "    Un entier\n",
    "    \"\"\"\n",
    "    \n",
    "   "
   ]
  },
  {
   "cell_type": "markdown",
   "metadata": {},
   "source": [
    "A retenir :\n",
    " * Le succès des tests ne garantit pas que la fonction est correcte.\n",
    " * Il est néanmoins important de bien choisir ces tests:\n",
    "     * Cas particuliers\n",
    "     * Exemples courants\n",
    "     * Valeurs limites\n",
    "     * etc..."
   ]
  },
  {
   "cell_type": "markdown",
   "metadata": {},
   "source": [
    "### Exemple 2 :\n",
    "Les fonctions précédentes ont été spécifiées et des tests ont été écrits. Néanmoins, rien ne garantit que les arguments passés dans une fonction au moment de son appel soient corrects (un entier à la place d'un caractère, ou une valeur hors du domaine de validité,...)\n",
    "\n",
    "Pour remédier à cela, l'instruction `assert` inscrite dans le corps de la fonction permet de garantir les pré-conditions et les posts-conditions.\n",
    "\n",
    "Reprenons la fonction `fibonacci(n)`. L'entier n doit être supérieur ou égal à 1. Que se passe-t-il si l'on saisit 0 ou une valeur négative, ou encore une chaîne de caractère ?"
   ]
  },
  {
   "cell_type": "code",
   "execution_count": 83,
   "metadata": {},
   "outputs": [
    {
     "name": "stdout",
     "output_type": "stream",
     "text": [
      "[1]\n",
      "[1]\n"
     ]
    },
    {
     "ename": "TypeError",
     "evalue": "'<' not supported between instances of 'int' and 'str'",
     "output_type": "error",
     "traceback": [
      "\u001b[1;31m---------------------------------------------------------------------------\u001b[0m",
      "\u001b[1;31mTypeError\u001b[0m                                 Traceback (most recent call last)",
      "\u001b[1;32m<ipython-input-83-958e3343714a>\u001b[0m in \u001b[0;36m<module>\u001b[1;34m\u001b[0m\n\u001b[0;32m      1\u001b[0m \u001b[0mprint\u001b[0m\u001b[1;33m(\u001b[0m\u001b[0mfibonacci\u001b[0m\u001b[1;33m(\u001b[0m\u001b[1;36m0\u001b[0m\u001b[1;33m)\u001b[0m\u001b[1;33m)\u001b[0m\u001b[1;33m\u001b[0m\u001b[1;33m\u001b[0m\u001b[0m\n\u001b[0;32m      2\u001b[0m \u001b[0mprint\u001b[0m\u001b[1;33m(\u001b[0m\u001b[0mfibonacci\u001b[0m\u001b[1;33m(\u001b[0m\u001b[1;33m-\u001b[0m\u001b[1;36m1\u001b[0m\u001b[1;33m)\u001b[0m\u001b[1;33m)\u001b[0m\u001b[1;33m\u001b[0m\u001b[1;33m\u001b[0m\u001b[0m\n\u001b[1;32m----> 3\u001b[1;33m \u001b[0mprint\u001b[0m\u001b[1;33m(\u001b[0m\u001b[0mfibonacci\u001b[0m\u001b[1;33m(\u001b[0m\u001b[1;34m'a'\u001b[0m\u001b[1;33m)\u001b[0m\u001b[1;33m)\u001b[0m\u001b[1;33m\u001b[0m\u001b[1;33m\u001b[0m\u001b[0m\n\u001b[0m",
      "\u001b[1;32m<ipython-input-73-2bc8fe2c5e7a>\u001b[0m in \u001b[0;36mfibonacci\u001b[1;34m(n)\u001b[0m\n\u001b[0;32m     15\u001b[0m     \u001b[0mf\u001b[0m\u001b[1;33m=\u001b[0m\u001b[1;33m[\u001b[0m\u001b[0mx\u001b[0m\u001b[1;33m]\u001b[0m\u001b[1;33m\u001b[0m\u001b[1;33m\u001b[0m\u001b[0m\n\u001b[0;32m     16\u001b[0m     \u001b[0mi\u001b[0m\u001b[1;33m=\u001b[0m\u001b[1;36m1\u001b[0m\u001b[1;33m\u001b[0m\u001b[1;33m\u001b[0m\u001b[0m\n\u001b[1;32m---> 17\u001b[1;33m     \u001b[1;32mwhile\u001b[0m \u001b[0mi\u001b[0m \u001b[1;33m<\u001b[0m \u001b[0mn\u001b[0m\u001b[1;33m:\u001b[0m\u001b[1;33m\u001b[0m\u001b[1;33m\u001b[0m\u001b[0m\n\u001b[0m\u001b[0;32m     18\u001b[0m         \u001b[0mx\u001b[0m\u001b[1;33m,\u001b[0m\u001b[0my\u001b[0m\u001b[1;33m=\u001b[0m\u001b[0my\u001b[0m\u001b[1;33m,\u001b[0m\u001b[0mx\u001b[0m\u001b[1;33m+\u001b[0m\u001b[0my\u001b[0m\u001b[1;33m\u001b[0m\u001b[1;33m\u001b[0m\u001b[0m\n\u001b[0;32m     19\u001b[0m         \u001b[0mf\u001b[0m\u001b[1;33m.\u001b[0m\u001b[0mappend\u001b[0m\u001b[1;33m(\u001b[0m\u001b[0mx\u001b[0m\u001b[1;33m)\u001b[0m\u001b[1;33m\u001b[0m\u001b[1;33m\u001b[0m\u001b[0m\n",
      "\u001b[1;31mTypeError\u001b[0m: '<' not supported between instances of 'int' and 'str'"
     ]
    }
   ],
   "source": [
    "print(fibonacci(0))\n",
    "print(fibonacci(-1))\n",
    "print(fibonacci('a'))"
   ]
  },
  {
   "cell_type": "markdown",
   "metadata": {},
   "source": [
    "Dans les deux premiers cas, aucune erreur n'est renvoyée mais le résultat de la fonction n'est pas correct. Dans le troisième cas, une erreur est signalée mais il n'est pas toujours évident de comprendre le message.\n",
    "\n",
    "\n",
    "Pour être plus explicite, on peut utiliser l'instruction `assert` comme suit :"
   ]
  },
  {
   "cell_type": "code",
   "execution_count": 91,
   "metadata": {},
   "outputs": [],
   "source": [
    "def fibonacci(n):\n",
    "    \"\"\"\n",
    "    Liste des n premiers termes de la suite de Fibonacci\n",
    "    \n",
    "    Paramètre :\n",
    "    -----------\n",
    "    n entier supérieur à 1, l'indice maximal voulu\n",
    "  \n",
    "    Return :\n",
    "    --------\n",
    "    La liste des n termes\n",
    "    \"\"\"\n",
    "    assert(type(n)==type(0)), 'n doit être un entier'\n",
    "    assert(n>0), 'n doit être strictement positif'\n",
    "    \n",
    "    x=1\n",
    "    y=1\n",
    "    f=[x]\n",
    "    i=1\n",
    "    while i < n:\n",
    "        x,y=y,x+y\n",
    "        f.append(x)\n",
    "        i=i+1\n",
    "    \n",
    "    return f"
   ]
  },
  {
   "cell_type": "markdown",
   "metadata": {},
   "source": [
    "Voici ce que renvoient désormais les instructions précédentes :"
   ]
  },
  {
   "cell_type": "code",
   "execution_count": 93,
   "metadata": {},
   "outputs": [
    {
     "ename": "AssertionError",
     "evalue": "n doit être strictement positif",
     "output_type": "error",
     "traceback": [
      "\u001b[1;31m---------------------------------------------------------------------------\u001b[0m",
      "\u001b[1;31mAssertionError\u001b[0m                            Traceback (most recent call last)",
      "\u001b[1;32m<ipython-input-93-ed8977d052a5>\u001b[0m in \u001b[0;36m<module>\u001b[1;34m\u001b[0m\n\u001b[1;32m----> 1\u001b[1;33m \u001b[0mprint\u001b[0m\u001b[1;33m(\u001b[0m\u001b[0mfibonacci\u001b[0m\u001b[1;33m(\u001b[0m\u001b[1;36m0\u001b[0m\u001b[1;33m)\u001b[0m\u001b[1;33m)\u001b[0m\u001b[1;33m\u001b[0m\u001b[1;33m\u001b[0m\u001b[0m\n\u001b[0m",
      "\u001b[1;32m<ipython-input-91-1818b5434d5c>\u001b[0m in \u001b[0;36mfibonacci\u001b[1;34m(n)\u001b[0m\n\u001b[0;32m     12\u001b[0m     \"\"\"\n\u001b[0;32m     13\u001b[0m     \u001b[1;32massert\u001b[0m\u001b[1;33m(\u001b[0m\u001b[0mtype\u001b[0m\u001b[1;33m(\u001b[0m\u001b[0mn\u001b[0m\u001b[1;33m)\u001b[0m\u001b[1;33m==\u001b[0m\u001b[0mtype\u001b[0m\u001b[1;33m(\u001b[0m\u001b[1;36m0\u001b[0m\u001b[1;33m)\u001b[0m\u001b[1;33m)\u001b[0m\u001b[1;33m,\u001b[0m \u001b[1;34m'n doit être un entier'\u001b[0m\u001b[1;33m\u001b[0m\u001b[1;33m\u001b[0m\u001b[0m\n\u001b[1;32m---> 14\u001b[1;33m     \u001b[1;32massert\u001b[0m\u001b[1;33m(\u001b[0m\u001b[0mn\u001b[0m\u001b[1;33m>\u001b[0m\u001b[1;36m0\u001b[0m\u001b[1;33m)\u001b[0m\u001b[1;33m,\u001b[0m \u001b[1;34m'n doit être strictement positif'\u001b[0m\u001b[1;33m\u001b[0m\u001b[1;33m\u001b[0m\u001b[0m\n\u001b[0m\u001b[0;32m     15\u001b[0m \u001b[1;33m\u001b[0m\u001b[0m\n\u001b[0;32m     16\u001b[0m     \u001b[0mx\u001b[0m\u001b[1;33m=\u001b[0m\u001b[1;36m1\u001b[0m\u001b[1;33m\u001b[0m\u001b[1;33m\u001b[0m\u001b[0m\n",
      "\u001b[1;31mAssertionError\u001b[0m: n doit être strictement positif"
     ]
    }
   ],
   "source": [
    "print(fibonacci(0))"
   ]
  },
  {
   "cell_type": "code",
   "execution_count": 94,
   "metadata": {},
   "outputs": [
    {
     "ename": "AssertionError",
     "evalue": "n doit être strictement positif",
     "output_type": "error",
     "traceback": [
      "\u001b[1;31m---------------------------------------------------------------------------\u001b[0m",
      "\u001b[1;31mAssertionError\u001b[0m                            Traceback (most recent call last)",
      "\u001b[1;32m<ipython-input-94-99885d541aa9>\u001b[0m in \u001b[0;36m<module>\u001b[1;34m\u001b[0m\n\u001b[1;32m----> 1\u001b[1;33m \u001b[0mprint\u001b[0m\u001b[1;33m(\u001b[0m\u001b[0mfibonacci\u001b[0m\u001b[1;33m(\u001b[0m\u001b[1;33m-\u001b[0m\u001b[1;36m1\u001b[0m\u001b[1;33m)\u001b[0m\u001b[1;33m)\u001b[0m\u001b[1;33m\u001b[0m\u001b[1;33m\u001b[0m\u001b[0m\n\u001b[0m",
      "\u001b[1;32m<ipython-input-91-1818b5434d5c>\u001b[0m in \u001b[0;36mfibonacci\u001b[1;34m(n)\u001b[0m\n\u001b[0;32m     12\u001b[0m     \"\"\"\n\u001b[0;32m     13\u001b[0m     \u001b[1;32massert\u001b[0m\u001b[1;33m(\u001b[0m\u001b[0mtype\u001b[0m\u001b[1;33m(\u001b[0m\u001b[0mn\u001b[0m\u001b[1;33m)\u001b[0m\u001b[1;33m==\u001b[0m\u001b[0mtype\u001b[0m\u001b[1;33m(\u001b[0m\u001b[1;36m0\u001b[0m\u001b[1;33m)\u001b[0m\u001b[1;33m)\u001b[0m\u001b[1;33m,\u001b[0m \u001b[1;34m'n doit être un entier'\u001b[0m\u001b[1;33m\u001b[0m\u001b[1;33m\u001b[0m\u001b[0m\n\u001b[1;32m---> 14\u001b[1;33m     \u001b[1;32massert\u001b[0m\u001b[1;33m(\u001b[0m\u001b[0mn\u001b[0m\u001b[1;33m>\u001b[0m\u001b[1;36m0\u001b[0m\u001b[1;33m)\u001b[0m\u001b[1;33m,\u001b[0m \u001b[1;34m'n doit être strictement positif'\u001b[0m\u001b[1;33m\u001b[0m\u001b[1;33m\u001b[0m\u001b[0m\n\u001b[0m\u001b[0;32m     15\u001b[0m \u001b[1;33m\u001b[0m\u001b[0m\n\u001b[0;32m     16\u001b[0m     \u001b[0mx\u001b[0m\u001b[1;33m=\u001b[0m\u001b[1;36m1\u001b[0m\u001b[1;33m\u001b[0m\u001b[1;33m\u001b[0m\u001b[0m\n",
      "\u001b[1;31mAssertionError\u001b[0m: n doit être strictement positif"
     ]
    }
   ],
   "source": [
    "print(fibonacci(-1))"
   ]
  },
  {
   "cell_type": "code",
   "execution_count": 95,
   "metadata": {},
   "outputs": [
    {
     "ename": "AssertionError",
     "evalue": "n doit être un entier",
     "output_type": "error",
     "traceback": [
      "\u001b[1;31m---------------------------------------------------------------------------\u001b[0m",
      "\u001b[1;31mAssertionError\u001b[0m                            Traceback (most recent call last)",
      "\u001b[1;32m<ipython-input-95-615ed0b15889>\u001b[0m in \u001b[0;36m<module>\u001b[1;34m\u001b[0m\n\u001b[1;32m----> 1\u001b[1;33m \u001b[0mprint\u001b[0m\u001b[1;33m(\u001b[0m\u001b[0mfibonacci\u001b[0m\u001b[1;33m(\u001b[0m\u001b[1;34m'a'\u001b[0m\u001b[1;33m)\u001b[0m\u001b[1;33m)\u001b[0m\u001b[1;33m\u001b[0m\u001b[1;33m\u001b[0m\u001b[0m\n\u001b[0m",
      "\u001b[1;32m<ipython-input-91-1818b5434d5c>\u001b[0m in \u001b[0;36mfibonacci\u001b[1;34m(n)\u001b[0m\n\u001b[0;32m     11\u001b[0m     \u001b[0mLa\u001b[0m \u001b[0mliste\u001b[0m \u001b[0mdes\u001b[0m \u001b[0mn\u001b[0m \u001b[0mtermes\u001b[0m\u001b[1;33m\u001b[0m\u001b[1;33m\u001b[0m\u001b[0m\n\u001b[0;32m     12\u001b[0m     \"\"\"\n\u001b[1;32m---> 13\u001b[1;33m     \u001b[1;32massert\u001b[0m\u001b[1;33m(\u001b[0m\u001b[0mtype\u001b[0m\u001b[1;33m(\u001b[0m\u001b[0mn\u001b[0m\u001b[1;33m)\u001b[0m\u001b[1;33m==\u001b[0m\u001b[0mtype\u001b[0m\u001b[1;33m(\u001b[0m\u001b[1;36m0\u001b[0m\u001b[1;33m)\u001b[0m\u001b[1;33m)\u001b[0m\u001b[1;33m,\u001b[0m \u001b[1;34m'n doit être un entier'\u001b[0m\u001b[1;33m\u001b[0m\u001b[1;33m\u001b[0m\u001b[0m\n\u001b[0m\u001b[0;32m     14\u001b[0m     \u001b[1;32massert\u001b[0m\u001b[1;33m(\u001b[0m\u001b[0mn\u001b[0m\u001b[1;33m>\u001b[0m\u001b[1;36m0\u001b[0m\u001b[1;33m)\u001b[0m\u001b[1;33m,\u001b[0m \u001b[1;34m'n doit être strictement positif'\u001b[0m\u001b[1;33m\u001b[0m\u001b[1;33m\u001b[0m\u001b[0m\n\u001b[0;32m     15\u001b[0m \u001b[1;33m\u001b[0m\u001b[0m\n",
      "\u001b[1;31mAssertionError\u001b[0m: n doit être un entier"
     ]
    }
   ],
   "source": [
    "print(fibonacci('a'))"
   ]
  },
  {
   "cell_type": "markdown",
   "metadata": {},
   "source": [
    "En cas de valeur incorrecte, un message d'erreur explicite est affiché."
   ]
  },
  {
   "cell_type": "markdown",
   "metadata": {},
   "source": [
    "#### Exercice 6 :\n",
    "En utilisant l'instruction assert, garantir les préconditions de la fonction ci-dessous et vérifier que des messages d'erreurs explicites s'affichent avec les instructions ci-après."
   ]
  },
  {
   "cell_type": "code",
   "execution_count": 5,
   "metadata": {},
   "outputs": [],
   "source": [
    "def score(mot):\n",
    "    \"\"\"Détermine le score d'un mot\n",
    "    à l'aide de la valeur de chaque lettre:\n",
    "    a=1, b=2,...,z=26\n",
    "    \n",
    "    Paramètre :\n",
    "    -----------\n",
    "    mot une chaîne de caractères ascii minuscule\n",
    "    \n",
    "    Return :\n",
    "    --------\n",
    "    Un entier\n",
    "    \"\"\"\n",
    "    \n",
    "    \n",
    "    \n",
    "    \n",
    "    \n",
    "    s=0\n",
    "    for lettre in mot:\n",
    "        s=s+ord(lettre)-96\n",
    "    return s"
   ]
  },
  {
   "cell_type": "code",
   "execution_count": 6,
   "metadata": {},
   "outputs": [
    {
     "name": "stdout",
     "output_type": "stream",
     "text": [
      "63\n"
     ]
    }
   ],
   "source": [
    "print(score('Azerty'))"
   ]
  },
  {
   "cell_type": "code",
   "execution_count": 7,
   "metadata": {},
   "outputs": [
    {
     "ename": "TypeError",
     "evalue": "'int' object is not iterable",
     "output_type": "error",
     "traceback": [
      "\u001b[1;31m---------------------------------------------------------------------------\u001b[0m",
      "\u001b[1;31mTypeError\u001b[0m                                 Traceback (most recent call last)",
      "\u001b[1;32m<ipython-input-7-1a14956c143c>\u001b[0m in \u001b[0;36m<module>\u001b[1;34m\u001b[0m\n\u001b[1;32m----> 1\u001b[1;33m \u001b[0mprint\u001b[0m\u001b[1;33m(\u001b[0m\u001b[0mscore\u001b[0m\u001b[1;33m(\u001b[0m\u001b[1;36m95\u001b[0m\u001b[1;33m)\u001b[0m\u001b[1;33m)\u001b[0m\u001b[1;33m\u001b[0m\u001b[1;33m\u001b[0m\u001b[0m\n\u001b[0m",
      "\u001b[1;32m<ipython-input-5-fa50494187da>\u001b[0m in \u001b[0;36mscore\u001b[1;34m(mot)\u001b[0m\n\u001b[0;32m     18\u001b[0m \u001b[1;33m\u001b[0m\u001b[0m\n\u001b[0;32m     19\u001b[0m     \u001b[0ms\u001b[0m\u001b[1;33m=\u001b[0m\u001b[1;36m0\u001b[0m\u001b[1;33m\u001b[0m\u001b[1;33m\u001b[0m\u001b[0m\n\u001b[1;32m---> 20\u001b[1;33m     \u001b[1;32mfor\u001b[0m \u001b[0mlettre\u001b[0m \u001b[1;32min\u001b[0m \u001b[0mmot\u001b[0m\u001b[1;33m:\u001b[0m\u001b[1;33m\u001b[0m\u001b[1;33m\u001b[0m\u001b[0m\n\u001b[0m\u001b[0;32m     21\u001b[0m         \u001b[0ms\u001b[0m\u001b[1;33m=\u001b[0m\u001b[0ms\u001b[0m\u001b[1;33m+\u001b[0m\u001b[0mord\u001b[0m\u001b[1;33m(\u001b[0m\u001b[0mlettre\u001b[0m\u001b[1;33m)\u001b[0m\u001b[1;33m-\u001b[0m\u001b[1;36m96\u001b[0m\u001b[1;33m\u001b[0m\u001b[1;33m\u001b[0m\u001b[0m\n\u001b[0;32m     22\u001b[0m     \u001b[1;32mreturn\u001b[0m \u001b[0ms\u001b[0m\u001b[1;33m\u001b[0m\u001b[1;33m\u001b[0m\u001b[0m\n",
      "\u001b[1;31mTypeError\u001b[0m: 'int' object is not iterable"
     ]
    }
   ],
   "source": [
    "print(score(95))"
   ]
  },
  {
   "cell_type": "markdown",
   "metadata": {},
   "source": [
    "### Exemple 3:\n",
    "Il est possible d'intégrer les tests que doit réussir la fonction dans son prototype. Reprenons la fonction `fibonacci(n)`. A la fin de sa description, plaçons-y quelques tests : "
   ]
  },
  {
   "cell_type": "code",
   "execution_count": 113,
   "metadata": {},
   "outputs": [],
   "source": [
    "def fibonacci(n):\n",
    "    \"\"\"\n",
    "    Liste des n premiers termes de la suite de Fibonacci\n",
    "    \n",
    "    Paramètre :\n",
    "    -----------\n",
    "    n entier supérieur à 1, l'indice maximal voulu\n",
    "  \n",
    "    Return :\n",
    "    --------\n",
    "    La liste des n termes\n",
    "    \n",
    "    >>> fibonacci(5)\n",
    "    [1, 1, 2, 3, 5]\n",
    "    \n",
    "    >>> len(fibonacci(10))\n",
    "    10\n",
    "    \n",
    "    \"\"\"\n",
    "    assert(type(n)==type(0)), 'n doit être un entier'\n",
    "    assert(n>0), 'n doit être strictement positif'\n",
    "    \n",
    "    x=1\n",
    "    y=1\n",
    "    f=[x]\n",
    "    i=1\n",
    "    while i < n:\n",
    "        x,y=y,x+y\n",
    "        f.append(x)\n",
    "        i=i+1\n",
    "    \n",
    "    return f"
   ]
  },
  {
   "cell_type": "markdown",
   "metadata": {},
   "source": [
    "Puis à l'aide du module `doctest`, effectuons ces tests. Les deux tests sont passés avec succès."
   ]
  },
  {
   "cell_type": "code",
   "execution_count": 115,
   "metadata": {},
   "outputs": [
    {
     "data": {
      "text/plain": [
       "TestResults(failed=0, attempted=2)"
      ]
     },
     "execution_count": 115,
     "metadata": {},
     "output_type": "execute_result"
    }
   ],
   "source": [
    "import doctest\n",
    "doctest.testmod()"
   ]
  },
  {
   "cell_type": "markdown",
   "metadata": {},
   "source": [
    "#### Exercice 7 :\n",
    "Ecrire une fonction qui inverse l'ordre des caractères d'une chaîne quelconque.La spécifier, garantir ses pré-conditions et inscrire quelques tests dans son prototype. Vérifier ensuite que ces tests passent."
   ]
  },
  {
   "cell_type": "code",
   "execution_count": 8,
   "metadata": {},
   "outputs": [],
   "source": [
    "#7\n",
    "def inverse(mot):\n",
    "    \"\"\"inverse l'ordre des caractères d'un chaîne\n",
    "    Paramètre :\n",
    "    -----------\n",
    "    mot une chaîne de caractères\n",
    "    \n",
    "    Return :\n",
    "    --------\n",
    "    Une chaîne de caractères\n",
    "    \n",
    "    >>> inverse('azerty')\n",
    "    'ytreza'\n",
    "    \n",
    "    >>> inverse('a')\n",
    "    'a'\n",
    "    \n",
    "    >>> inverse('')\n",
    "    ''\n",
    "    \"\"\"\n",
    "    "
   ]
  },
  {
   "cell_type": "markdown",
   "metadata": {},
   "source": [
    "## Conclusion :\n",
    " * Ce type de rédaction peut paraître long et rébarbatif de prime abord.\n",
    " * Néanmoins, sur des projets informatiques réalisés en équipe, qui comportent des centaines, voire des milliers de lignes de code, il est primordial d'être organisé et efficace.\n",
    " * C'est pourquoi ces bonnes pratiques de programmation sont importantes(parmi d'autres...) : \n",
    "    * Choisir des noms de variables explicites.\n",
    "    * Commenter ses programmes.\n",
    "    * Spécifier ses fonctions, dès qu'on les écrit.\n",
    "    * Disposer d'un jeu de tests.\n",
    "    \n",
    "    \n",
    "### Pour terminer\n",
    "Deux modules un peu spéciaux de python...à méditer."
   ]
  },
  {
   "cell_type": "code",
   "execution_count": null,
   "metadata": {},
   "outputs": [],
   "source": [
    "import this"
   ]
  },
  {
   "cell_type": "code",
   "execution_count": 105,
   "metadata": {},
   "outputs": [],
   "source": [
    "import antigravity"
   ]
  },
  {
   "cell_type": "markdown",
   "metadata": {},
   "source": [
    "# <center> FIN </center>"
   ]
  }
 ],
 "metadata": {
  "kernelspec": {
   "display_name": "Python 3",
   "language": "python",
   "name": "python3"
  },
  "language_info": {
   "codemirror_mode": {
    "name": "ipython",
    "version": 3
   },
   "file_extension": ".py",
   "mimetype": "text/x-python",
   "name": "python",
   "nbconvert_exporter": "python",
   "pygments_lexer": "ipython3",
   "version": "3.7.2"
  }
 },
 "nbformat": 4,
 "nbformat_minor": 2
}
